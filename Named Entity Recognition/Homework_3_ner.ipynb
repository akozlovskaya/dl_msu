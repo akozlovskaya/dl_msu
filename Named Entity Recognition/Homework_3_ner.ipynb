{
 "cells": [
  {
   "cell_type": "markdown",
   "metadata": {
    "id": "ss9WR_zbQELO"
   },
   "source": [
    "# Практическое задание 3\n",
    "\n",
    "# Named Entity Recognition"
   ]
  },
  {
   "cell_type": "markdown",
   "metadata": {
    "id": "sB3vM2GfQELQ"
   },
   "source": [
    "## Введение\n",
    "\n",
    "### Постановка задачи\n",
    "\n",
    "В этом задании вы будете решать задачу извлечения именованных сущностей (Named Entity Recognition) - одну из самых распространенных в NLP наряду с задачей текстовой классификации.\n",
    "\n",
    "Данная задача заключается в том, что нужно классифицировать каждое слово / токен на предмет того, является ли оно частью именованной сущности (сущность может состоять из нескольких слов / токенов) или нет.\n",
    "\n",
    "Например, мы хотим извлечь имена и названия организаций. Тогда для текста\n",
    "\n",
    "    Yan    Goodfellow  works  for  Google  Brain\n",
    "\n",
    "модель должна извлечь следующую последовательность:\n",
    "\n",
    "    B-PER  I-PER       O      O    B-ORG   I-ORG\n",
    "\n",
    "где префиксы *B-* и *I-* означают начало и конец именованной сущности, *O* означает слово без тега. Такая префиксная система (*BIO*-разметка) введена, чтобы различать последовательные именованные сущности одного типа.\n",
    "Существуют и другие типы разметок, например *BILUO*, но в рамках данного практического задания сфокусируемся имеено на *BIO*.\n",
    "\n",
    "Решать NER задачу мы будем на датасете CoNLL-2003 с использованием рекуррентных сетей и моделей на базе архитектуры Transformer.\n",
    "\n",
    "### Библиотеки\n",
    "\n",
    "Основные библиотеки:\n",
    " - [PyTorch](https://pytorch.org/)\n",
    " - [Transformers](https://github.com/huggingface/transformers)\n",
    " \n",
    "### Данные\n",
    "\n",
    "Данные лежат в архиве, который состоит из:\n",
    "\n",
    "- *train.tsv* - обучающая выборка. В каждой строке записаны: <слово / токен>, <тэг слова / токена>\n",
    "\n",
    "- *valid.tsv* - валидационная выборка, которую можно использовать для подбора гиперпарамеров и замеров качества. Имеет идентичную с train.tsv структуру.\n",
    "\n",
    "- *test.tsv* - тестовая выборка, по которой оценивается итоговое качество. Имеет идентичную с train.tsv структуру.\n",
    "\n",
    "Скачать данные можно здесь: [ссылка](https://github.com/dayyass/msu_task_3_ner)"
   ]
  },
  {
   "cell_type": "code",
   "execution_count": 1,
   "metadata": {
    "id": "S5BCB1EfQan1"
   },
   "outputs": [],
   "source": [
    "# !pip install numpy==1.21.6 scikit-learn==1.0.2 tensorboard==2.9.0 torch==1.12.1 tqdm==4.64.0 transformers==4.21.1"
   ]
  },
  {
   "cell_type": "code",
   "execution_count": 1,
   "metadata": {
    "id": "Thidpb9qQELS"
   },
   "outputs": [],
   "source": [
    "import random\n",
    "from collections import Counter, defaultdict, namedtuple\n",
    "from typing import Tuple, List, Dict, Any\n",
    "\n",
    "import torch\n",
    "import numpy as np\n",
    "import pandas as pd\n",
    "\n",
    "from tqdm import tqdm, trange"
   ]
  },
  {
   "cell_type": "markdown",
   "metadata": {
    "id": "AiDlmbY2QELT"
   },
   "source": [
    "Зафиксируем seed для воспроизводимости результатов (желательно делать **всегда**!):"
   ]
  },
  {
   "cell_type": "code",
   "execution_count": 2,
   "metadata": {
    "id": "yt3ISg3aQELU"
   },
   "outputs": [],
   "source": [
    "def set_global_seed(seed: int) -> None:\n",
    "    \"\"\"\n",
    "    Set global seed for reproducibility.\n",
    "    \"\"\"\n",
    "\n",
    "    random.seed(seed)\n",
    "    np.random.seed(seed)\n",
    "    torch.manual_seed(seed)\n",
    "    torch.cuda.manual_seed_all(seed)\n",
    "    torch.backends.cudnn.benchmark = False\n",
    "    torch.backends.cudnn.deterministic = True\n",
    "\n",
    "\n",
    "set_global_seed(42)"
   ]
  },
  {
   "cell_type": "markdown",
   "metadata": {
    "id": "AhIg0ZBzQELV"
   },
   "source": [
    "Проинициализируем device (CPU / GPU) на котором будем работать (желательно **GPU**):"
   ]
  },
  {
   "cell_type": "code",
   "execution_count": 3,
   "metadata": {
    "id": "rboLOv95QELV"
   },
   "outputs": [
    {
     "data": {
      "text/plain": [
       "'cpu'"
      ]
     },
     "execution_count": 3,
     "metadata": {},
     "output_type": "execute_result"
    }
   ],
   "source": [
    "device = \"cuda\" if torch.cuda.is_available() else \"cpu\"\n",
    "device"
   ]
  },
  {
   "cell_type": "markdown",
   "metadata": {
    "id": "UW16ryFIQELW"
   },
   "source": [
    "Здесь и далее проинициализируем *tensorboard* для логгирования метрики в процессе обучения:"
   ]
  },
  {
   "cell_type": "code",
   "execution_count": null,
   "metadata": {
    "id": "6O7Y8hReTODp"
   },
   "outputs": [
    {
     "name": "stdout",
     "output_type": "stream",
     "text": [
      "The tensorboard extension is already loaded. To reload it, use:\n",
      "  %reload_ext tensorboard\n"
     ]
    },
    {
     "data": {
      "text/plain": [
       "Launching TensorBoard..."
      ]
     },
     "metadata": {},
     "output_type": "display_data"
    }
   ],
   "source": [
    "%load_ext tensorboard\n",
    "%tensorboard --logdir runs"
   ]
  },
  {
   "cell_type": "markdown",
   "metadata": {
    "id": "4k3Nhd3IQELY"
   },
   "source": [
    "## Часть 1. Подготовка данных (4 балла)"
   ]
  },
  {
   "cell_type": "markdown",
   "metadata": {
    "id": "4qYjOMuPQELY"
   },
   "source": [
    "Первым делом нам нужно считать данные. Давайте напишем функцию, которая на вход принимает путь до одного из conll-2003 файла и возвращает два списка:\n",
    "- список списков слов / токенов (и соответствующий ему)\n",
    "- список списков тегов\n",
    "\n",
    "P.S. Сделаем данную функцию более гибкой, подавая на вход еще булеву переменную, считываем ли мы данные в *lowercase* или нет.\n",
    "\n",
    "**Задание. Реализуйте функцию read_conll2003.** **<font color='red'>(1 балл)</font>**"
   ]
  },
  {
   "cell_type": "code",
   "execution_count": 6,
   "metadata": {
    "id": "wQdCfX2OQELZ"
   },
   "outputs": [],
   "source": [
    "def read_conll2003(\n",
    "    path: str,\n",
    "    lower: bool = True,\n",
    ") -> Tuple[List[List[str]], List[List[str]]]:\n",
    "    \"\"\"\n",
    "    Prepare data in CoNNL like format.\n",
    "    \"\"\"\n",
    "    with open(path, 'r') as f:\n",
    "        tokens_labels = f.readlines()\n",
    "\n",
    "    token_seq, label_seq = [], []\n",
    "    cur_token, cur_label = [], []\n",
    "    \n",
    "    for token_label in tokens_labels:\n",
    "        if token_label == '\\n':\n",
    "            token_seq.append(cur_token)\n",
    "            label_seq.append(cur_label)\n",
    "            cur_token, cur_label = [], []\n",
    "        else:\n",
    "            token, label = token_label.split()\n",
    "            if lower:\n",
    "                token = token.lower()\n",
    "            cur_token.append(token)\n",
    "            cur_label.append(label)\n",
    "            \n",
    "    # YOUR CODE HERE\n",
    "\n",
    "    return token_seq, label_seq"
   ]
  },
  {
   "cell_type": "markdown",
   "metadata": {
    "id": "oYm8xEvFQELb"
   },
   "source": [
    "Считаем все три файла:\n",
    "- *train.tsv*\n",
    "- *valid.tsv*\n",
    "- *test.tsv*"
   ]
  },
  {
   "cell_type": "code",
   "execution_count": 7,
   "metadata": {
    "colab": {
     "base_uri": "https://localhost:8080/"
    },
    "id": "-inr1BPgQELb",
    "outputId": "125203fe-c32e-459d-e659-d1a999712147"
   },
   "outputs": [],
   "source": [
    "train_token_seq, train_label_seq = read_conll2003(\"data/train.tsv\")\n",
    "valid_token_seq, valid_label_seq = read_conll2003(\"data/valid.tsv\")\n",
    "test_token_seq, test_label_seq = read_conll2003(\"data/test.tsv\")"
   ]
  },
  {
   "cell_type": "markdown",
   "metadata": {
    "id": "sOoNc1VUQELc"
   },
   "source": [
    "Посмотрим на то, что мы получили:"
   ]
  },
  {
   "cell_type": "code",
   "execution_count": 8,
   "metadata": {},
   "outputs": [
    {
     "name": "stdout",
     "output_type": "stream",
     "text": [
      "eu\tB-ORG\n",
      "rejects\tO\n",
      "german\tB-MISC\n",
      "call\tO\n",
      "to\tO\n",
      "boycott\tO\n",
      "british\tB-MISC\n",
      "lamb\tO\n",
      ".\tO\n"
     ]
    }
   ],
   "source": [
    "for token, label in zip(train_token_seq[0], train_label_seq[0]):\n",
    "    print(f\"{token}\\t{label}\")"
   ]
  },
  {
   "cell_type": "code",
   "execution_count": 9,
   "metadata": {},
   "outputs": [
    {
     "name": "stdout",
     "output_type": "stream",
     "text": [
      "cricket\tO\n",
      "-\tO\n",
      "leicestershire\tB-ORG\n",
      "take\tO\n",
      "over\tO\n",
      "at\tO\n",
      "top\tO\n",
      "after\tO\n",
      "innings\tO\n",
      "victory\tO\n",
      ".\tO\n"
     ]
    }
   ],
   "source": [
    "for token, label in zip(valid_token_seq[0], valid_label_seq[0]):\n",
    "    print(f\"{token}\\t{label}\")"
   ]
  },
  {
   "cell_type": "code",
   "execution_count": 10,
   "metadata": {},
   "outputs": [
    {
     "name": "stdout",
     "output_type": "stream",
     "text": [
      "soccer\tO\n",
      "-\tO\n",
      "japan\tB-LOC\n",
      "get\tO\n",
      "lucky\tO\n",
      "win\tO\n",
      ",\tO\n",
      "china\tB-PER\n",
      "in\tO\n",
      "surprise\tO\n",
      "defeat\tO\n",
      ".\tO\n"
     ]
    }
   ],
   "source": [
    "for token, label in zip(test_token_seq[0], test_label_seq[0]):\n",
    "    print(f\"{token}\\t{label}\")"
   ]
  },
  {
   "cell_type": "code",
   "execution_count": 11,
   "metadata": {
    "colab": {
     "base_uri": "https://localhost:8080/"
    },
    "id": "BZ4Go3IXfDit",
    "outputId": "f5d3dc81-6aa2-4311-8168-b0c9dc0976d0"
   },
   "outputs": [
    {
     "name": "stdout",
     "output_type": "stream",
     "text": [
      "Тесты пройдены!\n"
     ]
    }
   ],
   "source": [
    "assert len(train_token_seq) == len(train_label_seq), \"Длины тренировочных token_seq и label_seq не совпадают, ошибка в функции read_conll2003\"\n",
    "assert len(valid_token_seq) == len(valid_label_seq), \"Длины валидационных token_seq и label_seq не совпадают, ошибка в функции read_conll2003\"\n",
    "assert len(test_token_seq) == len(test_label_seq), \"Длины тестовых token_seq и label_seq не совпадают, ошибка в функции read_conll2003\"\n",
    "\n",
    "assert train_token_seq[0] == ['eu', 'rejects', 'german', 'call', 'to', 'boycott', 'british', 'lamb', '.'], \"Ошибка в тренировочном token_seq\"\n",
    "assert train_label_seq[0] == ['B-ORG', 'O', 'B-MISC', 'O', 'O', 'O', 'B-MISC', 'O', 'O'], \"Ошибка в тренировочном label_seq\"\n",
    "\n",
    "assert valid_token_seq[0] == ['cricket', '-', 'leicestershire', 'take', 'over', 'at', 'top', 'after', 'innings', 'victory', '.'], \"Ошибка в валидационном token_seq\"\n",
    "assert valid_label_seq[0] == ['O', 'O', 'B-ORG', 'O', 'O', 'O', 'O', 'O', 'O', 'O', 'O'], \"Ошибка в валидационном label_seq\"\n",
    "\n",
    "assert test_token_seq[0] == ['soccer', '-', 'japan', 'get', 'lucky', 'win', ',', 'china', 'in', 'surprise', 'defeat', '.'], \"Ошибка в тестовом token_seq\"\n",
    "assert test_label_seq[0] == ['O', 'O', 'B-LOC', 'O', 'O', 'O', 'O', 'B-PER', 'O', 'O', 'O', 'O'], \"Ошибка в тестовом label_seq\"\n",
    "\n",
    "print(\"Тесты пройдены!\")"
   ]
  },
  {
   "cell_type": "markdown",
   "metadata": {
    "id": "j96zKo6PQELd"
   },
   "source": [
    "Датасет CoNLL-2003 представлен в виде разметки **BIO**, где лейбл:\n",
    "- *B-{label}* - начало сущности *{label}*\n",
    "- *I-{label}* - продолжение сущности *{label}*\n",
    "- *O* - отсутсвие сущности\n",
    "\n",
    "Также существует другие разметки последовательностей, например **BILUO**. Подробнее с разметками можно ознакомится во вспомогательном ноутбуке."
   ]
  },
  {
   "cell_type": "markdown",
   "metadata": {
    "id": "8SVL4USbQELe"
   },
   "source": [
    "### Подготовка словарей\n",
    "\n",
    "Чтобы обучать нейронную сеть, мы будем использовать два отображения:\n",
    "- {**token**}→{**token_idx**}: соответствие между словом / токеном и строкой в *embedding* матрице (начинается с 0);\n",
    "- {**label**}→{**label_idx**}: соответствие между тегом и уникальным индексом (начинается с 0);\n",
    "\n",
    "Теперь нам необходимо реализовать две функции:\n",
    "- get_token2idx\n",
    "- get_label2idx\n",
    "\n",
    "которые будут возвращать соответствующие словари.\n",
    "\n",
    "P.S. token2idx словарь должен также содержать специальные токены:\n",
    "- `<PAD>` - спецтокен для паддинга, так как мы собираемся обучать модели батчами\n",
    "- `<UNK>` - спецтокен для обработки слов / токенов, которых нет в словаре (актуально для инференса)\n",
    "\n",
    "Давайте для удобства дадим им idx 0 и 1 соответственно.\n",
    "\n",
    "P.P.S. В get_token2idx можно также добавить параметр *min_count*, который будет включать только слова превышающие определенную частоту."
   ]
  },
  {
   "cell_type": "markdown",
   "metadata": {
    "id": "aOnc3UHpQELf"
   },
   "source": [
    "Сначала соберем:\n",
    "- token2cnt - словарь из уникального слова / токена в количество это слова / токена в тренировочной выборке (важно, что только в тренировочной!)\n",
    "- label_set - список из уникальных тегов\n",
    "\n",
    "P.S. Также можно использовать стемминг для того, чтобы преобразовывать разные словоформы одного слова в один токен, но мы опустим этот момент.\n",
    "\n",
    "**Задание. Реализуйте функции get_token2idx и get_label2idx.** **<font color='red'>(1 балл)</font>**"
   ]
  },
  {
   "cell_type": "code",
   "execution_count": 12,
   "metadata": {
    "id": "IthnXKsoo7A3"
   },
   "outputs": [],
   "source": [
    "token2cnt = Counter([token for sentence in train_token_seq for token in sentence])"
   ]
  },
  {
   "cell_type": "code",
   "execution_count": 13,
   "metadata": {
    "colab": {
     "base_uri": "https://localhost:8080/"
    },
    "id": "b_v8YUM7QELg",
    "outputId": "77f22cb2-a640-43e5-996b-fcaa2020ce99"
   },
   "outputs": [
    {
     "data": {
      "text/plain": [
       "[('the', 8390),\n",
       " ('.', 7374),\n",
       " (',', 7290),\n",
       " ('of', 3815),\n",
       " ('in', 3621),\n",
       " ('to', 3424),\n",
       " ('a', 3199),\n",
       " ('and', 2872),\n",
       " ('(', 2861),\n",
       " (')', 2861)]"
      ]
     },
     "execution_count": 13,
     "metadata": {},
     "output_type": "execute_result"
    }
   ],
   "source": [
    "token2cnt.most_common(10)"
   ]
  },
  {
   "cell_type": "code",
   "execution_count": 14,
   "metadata": {
    "colab": {
     "base_uri": "https://localhost:8080/"
    },
    "id": "MSm7B546nmDh",
    "outputId": "d6863a06-52a2-42da-859f-41097e761673"
   },
   "outputs": [
    {
     "name": "stdout",
     "output_type": "stream",
     "text": [
      "Количество уникальных слов в тренировочном датасете: 21010\n",
      "Количество слов встречающихся только один раз в тренировочном датасете: 10060\n"
     ]
    }
   ],
   "source": [
    "print(f\"Количество уникальных слов в тренировочном датасете: {len(token2cnt)}\")\n",
    "print(f\"Количество слов встречающихся только один раз в тренировочном датасете: {len([token for token, cnt in token2cnt.items() if cnt == 1])}\")"
   ]
  },
  {
   "cell_type": "markdown",
   "metadata": {
    "id": "sRtCHt1QruSU"
   },
   "source": [
    "Как мы видим, у нас есть много слов, которые встречаются только один раз в датасете. Очевидно, что выучиться по ним у нас не получиться, мы только переобучимся, поэтому давайте выкинем такие слова при формировании нашего словаря."
   ]
  },
  {
   "cell_type": "code",
   "execution_count": 15,
   "metadata": {
    "id": "aCaPftCyQELi"
   },
   "outputs": [],
   "source": [
    "# используйте параметр min_count для того, чтобы отсекать слова частотой cnt < min_count\n",
    "\n",
    "def get_token2idx(\n",
    "    token2cnt: Dict[str, int],\n",
    "    min_count: int,\n",
    ") -> Dict[str, int]:\n",
    "    \"\"\"\n",
    "    Get mapping from tokens to indices to use with Embedding layer.\n",
    "    \"\"\"\n",
    "\n",
    "    token2cnt_ = dict(filter(lambda x: x[1] >= min_count, token2cnt.items()))\n",
    "    token2idx: Dict[str, int] = {token: i for i, token in enumerate(['<PAD>', '<UNK>', *token2cnt_.keys()])}\n",
    "\n",
    "    # YOUR CODE HERE\n",
    "\n",
    "    return token2idx"
   ]
  },
  {
   "cell_type": "code",
   "execution_count": 16,
   "metadata": {
    "colab": {
     "base_uri": "https://localhost:8080/"
    },
    "id": "uFK130y-sLH4",
    "outputId": "35f031b5-9388-48c4-8f8a-e77b5a3e580f"
   },
   "outputs": [],
   "source": [
    "token2idx = get_token2idx(token2cnt, min_count=2)"
   ]
  },
  {
   "cell_type": "code",
   "execution_count": 17,
   "metadata": {
    "id": "g69HFZC7QELh"
   },
   "outputs": [],
   "source": [
    "# Функция для сортировки тегов, чтобы сначала был тег O, потом теги B- и только после теги I- (можно задать вручную)\n",
    "\n",
    "def sort_labels_func(x: str) -> int:\n",
    "    if x == \"O\":\n",
    "        return 0\n",
    "    elif x.startswith(\"B-\"):\n",
    "        return 1\n",
    "    else:\n",
    "        return 2\n",
    "\n",
    "label_set = sorted(\n",
    "    set(label for sentence in train_label_seq for label in sentence),\n",
    "    key=lambda x: (sort_labels_func(x), x),\n",
    ")"
   ]
  },
  {
   "cell_type": "code",
   "execution_count": 18,
   "metadata": {
    "colab": {
     "base_uri": "https://localhost:8080/"
    },
    "id": "VI_3m4qbQELi",
    "outputId": "116bfcab-c56b-4ad9-b0f8-894ead418318"
   },
   "outputs": [
    {
     "data": {
      "text/plain": [
       "['O', 'B-LOC', 'B-MISC', 'B-ORG', 'B-PER', 'I-LOC', 'I-MISC', 'I-ORG', 'I-PER']"
      ]
     },
     "execution_count": 18,
     "metadata": {},
     "output_type": "execute_result"
    }
   ],
   "source": [
    "label_set"
   ]
  },
  {
   "cell_type": "code",
   "execution_count": 19,
   "metadata": {
    "id": "t6i51GPtQELj"
   },
   "outputs": [],
   "source": [
    "def get_label2idx(label_set: List[str]) -> Dict[str, int]:\n",
    "    \"\"\"\n",
    "    Get mapping from labels to indices.\n",
    "    \"\"\"\n",
    "\n",
    "    label2idx: Dict[str, int] = {lab: i for i, lab in enumerate(label_set)}\n",
    "\n",
    "    # YOUR CODE HERE\n",
    "\n",
    "    return label2idx"
   ]
  },
  {
   "cell_type": "code",
   "execution_count": 20,
   "metadata": {
    "colab": {
     "base_uri": "https://localhost:8080/"
    },
    "id": "XW6fK0HtQELk",
    "outputId": "17d18b48-55fa-4603-b342-e61409199577"
   },
   "outputs": [],
   "source": [
    "label2idx = get_label2idx(label_set)"
   ]
  },
  {
   "cell_type": "markdown",
   "metadata": {
    "id": "U13l-2IOQELk"
   },
   "source": [
    "Посмотрим на то, что мы получили:"
   ]
  },
  {
   "cell_type": "code",
   "execution_count": 21,
   "metadata": {
    "colab": {
     "base_uri": "https://localhost:8080/"
    },
    "id": "O7U7bMrHQELl",
    "outputId": "53d80294-e80b-4536-acfa-99bf171d2e40"
   },
   "outputs": [
    {
     "name": "stdout",
     "output_type": "stream",
     "text": [
      "<PAD>\t0\n",
      "<UNK>\t1\n",
      "eu\t2\n",
      "german\t3\n",
      "call\t4\n",
      "to\t5\n",
      "boycott\t6\n",
      "british\t7\n",
      "lamb\t8\n",
      ".\t9\n"
     ]
    }
   ],
   "source": [
    "for token, idx in list(token2idx.items())[:10]:\n",
    "    print(f\"{token}\\t{idx}\")"
   ]
  },
  {
   "cell_type": "code",
   "execution_count": 22,
   "metadata": {
    "colab": {
     "base_uri": "https://localhost:8080/"
    },
    "id": "Hp75V-o2QELl",
    "outputId": "7f85dca1-eea6-4789-e261-1552bcaf91d4"
   },
   "outputs": [
    {
     "name": "stdout",
     "output_type": "stream",
     "text": [
      "O\t0\n",
      "B-LOC\t1\n",
      "B-MISC\t2\n",
      "B-ORG\t3\n",
      "B-PER\t4\n",
      "I-LOC\t5\n",
      "I-MISC\t6\n",
      "I-ORG\t7\n",
      "I-PER\t8\n"
     ]
    }
   ],
   "source": [
    "for label, idx in label2idx.items():\n",
    "    print(f\"{label}\\t{idx}\")"
   ]
  },
  {
   "cell_type": "code",
   "execution_count": 23,
   "metadata": {
    "colab": {
     "base_uri": "https://localhost:8080/"
    },
    "id": "VYb4BdAUhNzk",
    "outputId": "dc62e8d8-7b62-4638-c436-aaf657dc5287"
   },
   "outputs": [
    {
     "name": "stdout",
     "output_type": "stream",
     "text": [
      "Тесты пройдены!\n"
     ]
    }
   ],
   "source": [
    "assert len(get_token2idx(token2cnt, min_count=1)) == 21012, \"Ошибка в длине словаря, скорее всего неверно реализован min_count\"\n",
    "assert len(token2idx) == 10952, \"Неправильная длина token2idx, скорее всего неверно реализован min_count\"\n",
    "assert len(label2idx) == 9, \"Неправильная длина label2idx\"\n",
    "\n",
    "assert list(token2idx.items())[:10] == [('<PAD>', 0), ('<UNK>', 1), ('eu', 2), ('german', 3), ('call', 4), ('to', 5), ('boycott', 6), ('british', 7), ('lamb', 8), ('.', 9)], \"Неправильно сформированный token2idx\"\n",
    "assert label2idx == {'O': 0, 'B-LOC': 1, 'B-MISC': 2, 'B-ORG': 3, 'B-PER': 4, 'I-LOC': 5, 'I-MISC': 6, 'I-ORG': 7, 'I-PER': 8}, \"Неправильно сформированный label2idx\"\n",
    "\n",
    "print(\"Тесты пройдены!\")"
   ]
  },
  {
   "cell_type": "markdown",
   "metadata": {
    "id": "ItPs1DmOQELm"
   },
   "source": [
    "### Подготовка датасета и загрузчика\n",
    "\n",
    "Обычно нейронные сети обучаются батчами. Это означает, что каждое обновление весов нейронной сети происходит на основе нескольких последовательностей. Технической деталью является необходимость дополнить все последовательности внутри батча до одной длины.\n",
    "\n",
    "Из предыдущего практического задания вы должны знать о `Dataset`'е (`torch.utils.data.Dataset`) - структура данных, которая хранит и может по индексу отдавать данные для обучения. Датасет должен наследоваться от стандартного PyTorch класса Dataset и переопределять методы `__len__` и `__getitem__`.\n",
    "\n",
    "Метод `__getitem__` должен возвращать индексированную последовательность и её теги.\n",
    "\n",
    "**Не забудьте** про `<UNK>` спецтокен для неизвестных слов!\n",
    "    \n",
    "Давайте напишем кастомный датасет под нашу задачу, который на вход (метод `__init__`) будет принимать:\n",
    "- token_seq - список списков слов / токенов\n",
    "- label_seq - список списков тегов\n",
    "- token2idx\n",
    "- label2idx\n",
    "\n",
    "и возвращать из метода `__getitem__` два int64 тензора (`torch.LongTensor`) из индексов слов / токенов в сэмпле и индексов соответвующих тегов:\n",
    "\n",
    "**Задание. Реализуйте класс датасета NERDataset.** **<font color='red'>(1 балл)</font>**"
   ]
  },
  {
   "cell_type": "code",
   "execution_count": 24,
   "metadata": {
    "id": "kdZvnUUpQELm"
   },
   "outputs": [],
   "source": [
    "class NERDataset(torch.utils.data.Dataset):\n",
    "    \"\"\"\n",
    "    PyTorch Dataset for NER.\n",
    "    \"\"\"\n",
    "\n",
    "    def __init__(\n",
    "        self,\n",
    "        token_seq: List[List[str]],\n",
    "        label_seq: List[List[str]],\n",
    "        token2idx: Dict[str, int],\n",
    "        label2idx: Dict[str, int],\n",
    "    ):\n",
    "        self.token2idx = token2idx\n",
    "        self.label2idx = label2idx\n",
    "\n",
    "        self.token_seq = [self.process_tokens(tokens, token2idx) for tokens in token_seq]\n",
    "        self.label_seq = [self.process_labels(labels, label2idx) for labels in label_seq]\n",
    "\n",
    "    def __len__(self):\n",
    "        return len(self.token_seq)\n",
    "\n",
    "    def __getitem__(\n",
    "        self,\n",
    "        idx: int,\n",
    "    ) -> Tuple[torch.LongTensor, torch.LongTensor]:\n",
    "        # YOUR CODE HERE\n",
    "        \n",
    "        return self.token_seq[idx], self.label_seq[idx]\n",
    "    \n",
    "    @staticmethod\n",
    "    def process_tokens(\n",
    "        tokens: List[str],\n",
    "        token2idx: Dict[str, int],\n",
    "        unk: str = \"<UNK>\",\n",
    "    ) -> List[int]:\n",
    "        \"\"\"\n",
    "        Transform list of tokens into list of tokens' indices.\n",
    "        \"\"\"\n",
    "        # YOUR CODE HERE\n",
    "        return torch.LongTensor([token2idx[k] if k in token2idx else token2idx[unk] for k in tokens])\n",
    "\n",
    "    @staticmethod\n",
    "    def process_labels(\n",
    "        labels: List[str],\n",
    "        label2idx: Dict[str, int],\n",
    "    ) -> List[int]:\n",
    "        \"\"\"\n",
    "        Transform list of labels into list of labels' indices.\n",
    "        \"\"\"\n",
    "        # YOUR CODE HERE\n",
    "        return torch.LongTensor([label2idx[k] for k in labels])"
   ]
  },
  {
   "cell_type": "markdown",
   "metadata": {
    "id": "yCvaPJERQELn"
   },
   "source": [
    "Создадим три датасета:\n",
    "- *train_dataset*\n",
    "- *valid_dataset*\n",
    "- *test_dataset*"
   ]
  },
  {
   "cell_type": "code",
   "execution_count": 25,
   "metadata": {
    "id": "bUMsSNkoQELn"
   },
   "outputs": [],
   "source": [
    "train_dataset = NERDataset(\n",
    "    token_seq=train_token_seq,\n",
    "    label_seq=train_label_seq,\n",
    "    token2idx=token2idx,\n",
    "    label2idx=label2idx,\n",
    ")\n",
    "valid_dataset = NERDataset(\n",
    "    token_seq=valid_token_seq,\n",
    "    label_seq=valid_label_seq,\n",
    "    token2idx=token2idx,\n",
    "    label2idx=label2idx,\n",
    ")\n",
    "test_dataset = NERDataset(\n",
    "    token_seq=test_token_seq,\n",
    "    label_seq=test_label_seq,\n",
    "    token2idx=token2idx,\n",
    "    label2idx=label2idx,\n",
    ")"
   ]
  },
  {
   "cell_type": "markdown",
   "metadata": {
    "id": "jQIq1pAWQELo"
   },
   "source": [
    "Посмотрим на то, что мы получили:"
   ]
  },
  {
   "cell_type": "code",
   "execution_count": 26,
   "metadata": {
    "colab": {
     "base_uri": "https://localhost:8080/"
    },
    "id": "Q_Scync0QELo",
    "outputId": "1669dbf8-2b23-40e0-9012-430cd44c9bc4"
   },
   "outputs": [
    {
     "data": {
      "text/plain": [
       "[tensor([2, 1, 3, 4, 5, 6, 7, 8, 9]), tensor([3, 0, 2, 0, 0, 0, 2, 0, 0])]"
      ]
     },
     "execution_count": 26,
     "metadata": {},
     "output_type": "execute_result"
    }
   ],
   "source": [
    "train_dataset[0]"
   ]
  },
  {
   "cell_type": "code",
   "execution_count": 27,
   "metadata": {
    "colab": {
     "base_uri": "https://localhost:8080/"
    },
    "id": "zyAazaLzjQ-K",
    "outputId": "ed864972-9051-4b85-e206-30e59d9971c8"
   },
   "outputs": [
    {
     "data": {
      "text/plain": [
       "[tensor([1737,  571, 1777,  197,  687,  145,  349,  111, 1819, 1558,    9]),\n",
       " tensor([0, 0, 3, 0, 0, 0, 0, 0, 0, 0, 0])]"
      ]
     },
     "execution_count": 27,
     "metadata": {},
     "output_type": "execute_result"
    }
   ],
   "source": [
    "valid_dataset[0]"
   ]
  },
  {
   "cell_type": "code",
   "execution_count": 28,
   "metadata": {
    "colab": {
     "base_uri": "https://localhost:8080/"
    },
    "id": "NHuuh3YmjRNt",
    "outputId": "5f214ff3-7bbb-4b7c-8c9c-a861562b09cd"
   },
   "outputs": [
    {
     "data": {
      "text/plain": [
       "[tensor([1516,  571, 1434, 1729, 4893, 2014,   67,  310,  215, 3157, 3139,    9]),\n",
       " tensor([0, 0, 1, 0, 0, 0, 0, 4, 0, 0, 0, 0])]"
      ]
     },
     "execution_count": 28,
     "metadata": {},
     "output_type": "execute_result"
    }
   ],
   "source": [
    "test_dataset[0]"
   ]
  },
  {
   "cell_type": "code",
   "execution_count": 29,
   "metadata": {
    "colab": {
     "base_uri": "https://localhost:8080/"
    },
    "id": "Gox6uyF2idwZ",
    "outputId": "8abb0480-9913-4f8a-d50e-1713611cbc9b"
   },
   "outputs": [
    {
     "name": "stdout",
     "output_type": "stream",
     "text": [
      "Тесты пройдены!\n"
     ]
    }
   ],
   "source": [
    "assert len(train_dataset) == 14986, \"Неправильная длина train_dataset\"\n",
    "assert len(valid_dataset) == 3465, \"Неправильная длина valid_dataset\"\n",
    "assert len(test_dataset) == 3683, \"Неправильная длина test_dataset\"\n",
    "\n",
    "assert torch.equal(train_dataset[0][0], torch.tensor([2,1,3,4,5,6,7,8,9])), \"Неправильно сформированный train_dataset\"\n",
    "assert torch.equal(train_dataset[0][1], torch.tensor([3,0,2,0,0,0,2,0,0])), \"Неправильно сформированный train_dataset\"\n",
    "\n",
    "assert torch.equal(valid_dataset[0][0], torch.tensor([1737,571,1777,197,687,145,349,111,1819,1558,9])), \"Неправильно сформированный valid_dataset\"\n",
    "assert torch.equal(valid_dataset[0][1], torch.tensor([0,0,3,0,0,0,0,0,0,0,0])), \"Неправильно сформированный valid_dataset\"\n",
    "\n",
    "assert torch.equal(test_dataset[0][0], torch.tensor([1516,571,1434,1729,4893,2014,67,310,215,3157,3139,9])), \"Неправильно сформированный test_dataset\"\n",
    "assert torch.equal(test_dataset[0][1], torch.tensor([0,0,1,0,0,0,0,4,0,0,0,0])), \"Неправильно сформированный test_dataset\"\n",
    "\n",
    "print(\"Тесты пройдены!\")"
   ]
  },
  {
   "cell_type": "markdown",
   "metadata": {
    "id": "mWjJuAk7QELp"
   },
   "source": [
    "Для того, чтобы дополнять последовательности паддингом, будем использовать параметр `collate_fn` класса `DataLoader`.\n",
    "\n",
    "Принимая последовательность пар тензоров для предложений и тегов, необходимо дополнить все последовательности до последовательности максимальной длины в батче.\n",
    "\n",
    "Используйте для дополнения спецтокен `<PAD>` для последовательностей слов / токенов и -1 для последовательностей тегов.\n",
    "\n",
    "**hint**: удобно использовать метод **torch.nn.utils.rnn**. Обратите особое внимание на параметр *batch_first*"
   ]
  },
  {
   "cell_type": "markdown",
   "metadata": {
    "id": "VZiJVM5qQELp"
   },
   "source": [
    "`Collator` можно реализовать двумя способами:\n",
    "- класс с методом `__call__`\n",
    "- функцию\n",
    "\n",
    "Мы пойдем первым путем.\n",
    "\n",
    "Инициализировать экземпляр класса `Collator` (метод `__init__`) с помощью двух параметров:\n",
    "- id `<PAD>` спецтокена для последовательностей слов / токенов\n",
    "- id `<PAD>` спецтокена для последовательностей тегов (значение -1)\n",
    "\n",
    "Метод `__call__` на вход принимает батч, а именно список кортежей того, что нам возвращается из датасета. В нашем случае это список кортежей двух int64 тензоров - `List[Tuple[torch.LongTensor, torch.LongTensor]]`.\n",
    "\n",
    "На выходе мы хотим получить два тензора:\n",
    "- западденные индексы слов / токенов\n",
    "- западденные индексы тегов\n",
    "    \n",
    "P.S. `<PAD>` значение нужно для того, чтобы при подсчете лосса легко отличать западдированные токены от других. Можно использовать параметр *ignore_index* при инициализации лосса.\n",
    "\n",
    "**Задание. Реализуйте класс коллатора NERCollator.** **<font color='red'>(1 балл)</font>**"
   ]
  },
  {
   "cell_type": "code",
   "execution_count": 30,
   "metadata": {
    "id": "LNHNwoLnQELp"
   },
   "outputs": [],
   "source": [
    "from torch.nn.utils.rnn import pad_sequence\n",
    "\n",
    "class NERCollator:\n",
    "    \"\"\"\n",
    "    Collator that handles variable-size sentences.\n",
    "    \"\"\"\n",
    "\n",
    "    def __init__(\n",
    "        self,\n",
    "        token_padding_value: int,\n",
    "        label_padding_value: int,\n",
    "    ):\n",
    "        self.token_padding_value = token_padding_value\n",
    "        self.label_padding_value = label_padding_value\n",
    "\n",
    "    def __call__(\n",
    "        self,\n",
    "        batch: List[Tuple[torch.LongTensor, torch.LongTensor]],\n",
    "    ) -> Tuple[torch.LongTensor, torch.LongTensor]:\n",
    "\n",
    "        tokens, labels = zip(*batch)\n",
    "\n",
    "        # YOUR CODE HERE\n",
    "        tokens = pad_sequence(tokens, True, self.token_padding_value)\n",
    "        labels = pad_sequence(labels, True, self.label_padding_value)\n",
    "\n",
    "        return tokens, labels"
   ]
  },
  {
   "cell_type": "code",
   "execution_count": 31,
   "metadata": {
    "id": "nZUMwVQTQELq"
   },
   "outputs": [],
   "source": [
    "collator = NERCollator(\n",
    "    token_padding_value=token2idx[\"<PAD>\"],\n",
    "    label_padding_value=-1,\n",
    ")"
   ]
  },
  {
   "cell_type": "markdown",
   "metadata": {
    "id": "Jsgfij8WQELq"
   },
   "source": [
    "Теперь всё готово, чтобы задать `DataLoader`'ы:"
   ]
  },
  {
   "cell_type": "code",
   "execution_count": 32,
   "metadata": {
    "id": "gFljkiBOQELr"
   },
   "outputs": [],
   "source": [
    "train_dataloader = torch.utils.data.DataLoader(\n",
    "    train_dataset,\n",
    "    batch_size=2,\n",
    "    shuffle=True,\n",
    "    collate_fn=collator,\n",
    ")\n",
    "valid_dataloader = torch.utils.data.DataLoader(\n",
    "    valid_dataset,\n",
    "    batch_size=1,  # для корректных замеров метрик оставить batch_size=1\n",
    "    shuffle=False, # для корректных замеров метрик оставить shuffle=False\n",
    "    collate_fn=collator,\n",
    ")\n",
    "test_dataloader = torch.utils.data.DataLoader(\n",
    "    test_dataset,\n",
    "    batch_size=1,  # для корректных замеров метрик оставить batch_size=1\n",
    "    shuffle=False, # для корректных замеров метрик оставить shuffle=False\n",
    "    collate_fn=collator,\n",
    ")"
   ]
  },
  {
   "cell_type": "markdown",
   "metadata": {
    "id": "i34wGJ4uQELr"
   },
   "source": [
    "Посмотрим на то, что мы получили:"
   ]
  },
  {
   "cell_type": "code",
   "execution_count": 33,
   "metadata": {
    "id": "QLlr_DztQELr"
   },
   "outputs": [],
   "source": [
    "tokens, labels = next(iter(train_dataloader))\n",
    "\n",
    "tokens = tokens.to(device)\n",
    "labels = labels.to(device)"
   ]
  },
  {
   "cell_type": "code",
   "execution_count": 34,
   "metadata": {
    "colab": {
     "base_uri": "https://localhost:8080/"
    },
    "id": "FdMMEDdbQELs",
    "outputId": "b7bd1bb5-248b-482c-cd5e-c98c6c3709f8"
   },
   "outputs": [
    {
     "data": {
      "text/plain": [
       "tensor([[7796, 1162, 2553, 7237, 1342,    0,    0,    0,    0,    0],\n",
       "        [ 125, 1167,    1,   67, 1349,  489, 1215, 1364, 1365, 1366]])"
      ]
     },
     "execution_count": 34,
     "metadata": {},
     "output_type": "execute_result"
    }
   ],
   "source": [
    "tokens"
   ]
  },
  {
   "cell_type": "code",
   "execution_count": 35,
   "metadata": {
    "colab": {
     "base_uri": "https://localhost:8080/"
    },
    "id": "w--fhADKQELs",
    "outputId": "708d1cec-7e0c-4f07-f723-900aab50203c"
   },
   "outputs": [
    {
     "data": {
      "text/plain": [
       "tensor([[ 3,  0,  3,  7,  0, -1, -1, -1, -1, -1],\n",
       "        [ 0,  4,  8,  0,  1,  0,  0,  0,  0,  0]])"
      ]
     },
     "execution_count": 35,
     "metadata": {},
     "output_type": "execute_result"
    }
   ],
   "source": [
    "labels"
   ]
  },
  {
   "cell_type": "code",
   "execution_count": 36,
   "metadata": {
    "colab": {
     "base_uri": "https://localhost:8080/"
    },
    "id": "yFeX0AYKlhGk",
    "outputId": "3c5a0193-2caf-4d7c-f02f-272b91e0f6f4"
   },
   "outputs": [
    {
     "name": "stdout",
     "output_type": "stream",
     "text": [
      "Тесты пройдены!\n"
     ]
    }
   ],
   "source": [
    "train_tokens, train_labels = next(iter(\n",
    "    torch.utils.data.DataLoader(\n",
    "        train_dataset,\n",
    "        batch_size=2,\n",
    "        shuffle=False,\n",
    "        collate_fn=collator,\n",
    "    )\n",
    "))\n",
    "assert torch.equal(train_tokens, torch.tensor([[ 2,  1,  3,  4,  5,  6,  7,  8,  9], [10, 11,  0,  0,  0,  0,  0,  0,  0]])), \"Похоже на ошибку в коллаторе\"\n",
    "assert torch.equal(train_labels, torch.tensor([[ 3,  0,  2,  0,  0,  0,  2,  0,  0], [ 4,  8, -1, -1, -1, -1, -1, -1, -1]])), \"Похоже на ошибку в коллаторе\"\n",
    "\n",
    "valid_tokens, valid_labels = next(iter(\n",
    "    torch.utils.data.DataLoader(\n",
    "        valid_dataset,\n",
    "        batch_size=2,\n",
    "        shuffle=False,\n",
    "        collate_fn=collator,\n",
    "    )\n",
    "))\n",
    "assert torch.equal(valid_tokens, torch.tensor([[ 1737,   571,  1777,   197,   687,   145,   349,   111,  1819,  1558, 9], [  248, 10679,     0,     0,     0,     0,     0,     0,     0,     0,    0]])), \"Похоже на ошибку в коллаторе\"\n",
    "assert torch.equal(valid_labels, torch.tensor([[ 0,  0,  3,  0,  0,  0,  0,  0,  0,  0,  0], [ 1,  0, -1, -1, -1, -1, -1, -1, -1, -1, -1]])), \"Похоже на ошибку в коллаторе\"\n",
    "\n",
    "test_tokens, test_labels = next(iter(\n",
    "    torch.utils.data.DataLoader(\n",
    "        test_dataset,\n",
    "        batch_size=2,\n",
    "        shuffle=False,\n",
    "        collate_fn=collator,\n",
    "    )\n",
    "))\n",
    "assert torch.equal(test_tokens, torch.tensor([[1516,  571, 1434, 1729, 4893, 2014,   67,  310,  215, 3157, 3139,    9], [   1,    1,    0,    0,    0,    0,    0,    0,    0,    0,    0,    0]])), \"Похоже на ошибку в коллаторе\"\n",
    "assert torch.equal(test_labels, torch.tensor([[ 0,  0,  1,  0,  0,  0,  0,  4,  0,  0,  0,  0], [ 4,  8, -1, -1, -1, -1, -1, -1, -1, -1, -1, -1]])), \"Похоже на ошибку в коллаторе\"\n",
    "\n",
    "print(\"Тесты пройдены!\")"
   ]
  },
  {
   "cell_type": "markdown",
   "metadata": {
    "id": "1Ul5gLriQELs"
   },
   "source": [
    "## Часть 2. BiLSTM-теггер (6 баллов)\n",
    "\n",
    "Определите архитектуру сети, используя библиотеку PyTorch. \n",
    "\n",
    "Ваша архитектура в этом пункте должна соответствовать стандартному теггеру:\n",
    "* Embedding слой на входе\n",
    "* LSTM (однонаправленный или двунаправленный)слой для обработки последовательности\n",
    "* Dropout (заданный отдельно или встроенный в LSTM) для уменьшения переобучения\n",
    "* Linear слой на выходе\n",
    "\n",
    "Для обучения сети используйте поэлементную кросс-энтропийную функцию потерь.\n",
    "\n",
    "**Обратите внимание**, что `<PAD>` токены не должны учавствовать в подсчёте функции потерь. В качестве оптимизатора рекомендуется использовать Adam. Для получения значений предсказаний по выходам модели используйте функцию `argmax`.\n",
    "\n",
    "**Задание. Реализуйте класс модели BiLSTM.** **<font color='red'>(2 балл)</font>**"
   ]
  },
  {
   "cell_type": "code",
   "execution_count": 37,
   "metadata": {
    "id": "uMiLQljZQELt"
   },
   "outputs": [],
   "source": [
    "class BiLSTM(torch.nn.Module):\n",
    "    \"\"\"\n",
    "    Bidirectional LSTM architecture.\n",
    "    \"\"\"\n",
    "\n",
    "    def __init__(\n",
    "        self,\n",
    "        num_embeddings: int,\n",
    "        embedding_dim: int,\n",
    "        hidden_size: int,\n",
    "        num_layers: int,\n",
    "        dropout: float,\n",
    "        bidirectional: bool,\n",
    "        n_classes: int,\n",
    "    ):\n",
    "        super().__init__()\n",
    "        \n",
    "        # YOUR CODE HERE\n",
    "        \n",
    "        self.embedding = torch.nn.Embedding(num_embeddings, embedding_dim)\n",
    "        self.rnn = torch.nn.LSTM(\n",
    "            input_size=embedding_dim,\n",
    "            hidden_size=hidden_size,\n",
    "            num_layers=num_layers,\n",
    "            dropout=dropout,\n",
    "            bidirectional=bidirectional\n",
    "        )\n",
    "        self.head = torch.nn.Linear(2 *  hidden_size, n_classes)\n",
    "        \n",
    "\n",
    "    def forward(self, tokens: torch.LongTensor) -> torch.Tensor:\n",
    "        embed = self.embedding(tokens)\n",
    "\n",
    "        # используем специальную функцию pack_padded_sequence для того, чтобы получить структуру PackedSequence\n",
    "        # которая не учитывать паддинг при проходе rnn\n",
    "        length = (tokens != 0).sum(dim=1).detach().cpu()\n",
    "        packed_embed = torch.nn.utils.rnn.pack_padded_sequence(\n",
    "            embed, length, batch_first=True, enforce_sorted=False\n",
    "          )\n",
    "        \n",
    "        # используем специальную функцию pad_packed_sequence для того, чтобы получить тензор из PackedSequence\n",
    "        packed_rnn_output, _ = self.rnn(packed_embed)\n",
    "        rnn_output, _ = torch.nn.utils.rnn.pad_packed_sequence(\n",
    "            packed_rnn_output, batch_first=True)\n",
    "        \n",
    "        \n",
    "        logits = self.head(rnn_output)\n",
    "        return logits.transpose(1, 2)"
   ]
  },
  {
   "cell_type": "code",
   "execution_count": 38,
   "metadata": {
    "id": "zps8HL2VQELu"
   },
   "outputs": [],
   "source": [
    "model = BiLSTM(\n",
    "    num_embeddings=len(token2idx),\n",
    "    embedding_dim=100,\n",
    "    hidden_size=100,\n",
    "    num_layers=1,\n",
    "    dropout=0.0,\n",
    "    bidirectional=True,\n",
    "    n_classes=len(label2idx),\n",
    ").to(device)"
   ]
  },
  {
   "cell_type": "code",
   "execution_count": 39,
   "metadata": {
    "colab": {
     "base_uri": "https://localhost:8080/"
    },
    "id": "nmg2_C_oQELu",
    "outputId": "cc700776-3bbe-43a3-d0db-049ad74965e1"
   },
   "outputs": [
    {
     "data": {
      "text/plain": [
       "BiLSTM(\n",
       "  (embedding): Embedding(10952, 100)\n",
       "  (rnn): LSTM(100, 100, bidirectional=True)\n",
       "  (head): Linear(in_features=200, out_features=9, bias=True)\n",
       ")"
      ]
     },
     "execution_count": 39,
     "metadata": {},
     "output_type": "execute_result"
    }
   ],
   "source": [
    "model"
   ]
  },
  {
   "cell_type": "code",
   "execution_count": 40,
   "metadata": {
    "id": "sDvWB5J2QELv"
   },
   "outputs": [],
   "source": [
    "optimizer = torch.optim.Adam(model.parameters(), lr=1e-4)\n",
    "criterion = torch.nn.CrossEntropyLoss(ignore_index=-1)"
   ]
  },
  {
   "cell_type": "code",
   "execution_count": 41,
   "metadata": {
    "id": "Jn5Pu1UKQELv"
   },
   "outputs": [],
   "source": [
    "outputs = model(tokens)"
   ]
  },
  {
   "cell_type": "code",
   "execution_count": 42,
   "metadata": {
    "colab": {
     "base_uri": "https://localhost:8080/"
    },
    "id": "n02Bsh8eQELw",
    "outputId": "6b704a7d-2cc9-49b0-a260-d4f6f52d2405"
   },
   "outputs": [
    {
     "name": "stdout",
     "output_type": "stream",
     "text": [
      "Тесты пройдены!\n"
     ]
    }
   ],
   "source": [
    "assert outputs.shape == torch.Size([2, 9, 10])\n",
    "assert 2 < criterion(outputs, labels) < 3\n",
    "\n",
    "print(\"Тесты пройдены!\")"
   ]
  },
  {
   "cell_type": "markdown",
   "metadata": {
    "id": "kjhkK9QFQELu"
   },
   "source": [
    "### Эксперименты\n",
    "\n",
    "Проведите эксперименты на данных. Настраивайте параметры по валидационной выборке, не используя тестовую. Ваше цель — настроить сеть так, чтобы качество модели по F1-macro мере на валидационной и тестовой выборках было не меньше 0.76. \n",
    "\n",
    "Сделайте выводы о качестве модели, переобучении, чувствительности архитектуры к выбору гиперпараметров. Оформите результаты экспериментов в виде мини-отчета (в этом же ipython notebook)."
   ]
  },
  {
   "cell_type": "code",
   "execution_count": 43,
   "metadata": {
    "id": "f4hdrFZ9iRPi"
   },
   "outputs": [],
   "source": [
    "# создадим SummaryWriter для эксперимента с BiLSTMModel\n",
    "\n",
    "from torch.utils.tensorboard import SummaryWriter\n",
    "\n",
    "writer = SummaryWriter(log_dir=f\"logs/BiLSTMModel\")"
   ]
  },
  {
   "cell_type": "markdown",
   "metadata": {
    "id": "ruMTBSkQQELx"
   },
   "source": [
    "**Задание. Реализуйте функцию подсчета метрик compute_metrics.** **<font color='red'>(1 балл)</font>**"
   ]
  },
  {
   "cell_type": "code",
   "execution_count": 44,
   "metadata": {
    "id": "xkpo3JgWQELx"
   },
   "outputs": [],
   "source": [
    "from sklearn.metrics import accuracy_score, precision_score, recall_score, f1_score\n",
    "\n",
    "\n",
    "def compute_metrics(\n",
    "    outputs: torch.Tensor,\n",
    "    labels: torch.LongTensor,\n",
    ") -> Dict[str, float]:\n",
    "    \"\"\"\n",
    "    Compute NER metrics.\n",
    "    \"\"\"\n",
    "\n",
    "    metrics = {}\n",
    "\n",
    "    # YOUR CODE HERE\n",
    "    # Не забудюте отфильтровать <PAD> токен\n",
    "\n",
    "    mask = labels != -1\n",
    "    y_true = outputs.argmax(1)\n",
    "#     print(outputs.shape, y_true.shape, labels.shape)\n",
    "    y_true = y_true[mask]\n",
    "    y_pred = labels[mask]\n",
    "    \n",
    "    # accuracy\n",
    "    accuracy = accuracy_score(\n",
    "        y_true=y_true,\n",
    "        y_pred=y_pred,\n",
    "    )\n",
    "\n",
    "    # precision\n",
    "    precision_micro = precision_score(\n",
    "        y_true=y_true,\n",
    "        y_pred=y_pred,\n",
    "        average=\"micro\",\n",
    "        zero_division=0,\n",
    "    )\n",
    "    precision_macro = precision_score(\n",
    "        y_true=y_true,\n",
    "        y_pred=y_pred,\n",
    "        average=\"macro\",\n",
    "        zero_division=0,\n",
    "    )\n",
    "    precision_weighted = precision_score(\n",
    "        y_true=y_true,\n",
    "        y_pred=y_pred,\n",
    "        average=\"weighted\",\n",
    "        zero_division=0,\n",
    "    )\n",
    "\n",
    "    # recall\n",
    "    recall_micro = recall_score(\n",
    "        y_true=y_true,\n",
    "        y_pred=y_pred,\n",
    "        average=\"micro\",\n",
    "        zero_division=0,\n",
    "        \n",
    "    )\n",
    "    recall_macro = recall_score(\n",
    "        y_true=y_true,\n",
    "        y_pred=y_pred,\n",
    "        average=\"macro\",\n",
    "        zero_division=0,\n",
    "    )\n",
    "    recall_weighted = recall_score(\n",
    "        y_true=y_true,\n",
    "        y_pred=y_pred,\n",
    "        average=\"weighted\",\n",
    "        zero_division=0,\n",
    "    )\n",
    "\n",
    "    # f1\n",
    "    f1_micro = f1_score(\n",
    "        y_true=y_true,\n",
    "        y_pred=y_pred,\n",
    "        average=\"micro\",\n",
    "        zero_division=0,\n",
    "    )\n",
    "    f1_macro = f1_score(\n",
    "        y_true=y_true,\n",
    "        y_pred=y_pred,\n",
    "        average=\"macro\",\n",
    "        zero_division=0,\n",
    "    )\n",
    "    f1_weighted = f1_score(\n",
    "        y_true=y_true,\n",
    "        y_pred=y_pred,\n",
    "        average=\"weighted\",\n",
    "        zero_division=0,\n",
    "    )\n",
    "\n",
    "    metrics[\"accuracy\"] = accuracy\n",
    "\n",
    "    metrics[\"precision_micro\"]    = precision_micro\n",
    "    metrics[\"precision_macro\"]    = precision_macro\n",
    "    metrics[\"precision_weighted\"] = precision_weighted\n",
    "\n",
    "    metrics[\"recall_micro\"]    = recall_micro\n",
    "    metrics[\"recall_macro\"]    = recall_macro\n",
    "    metrics[\"recall_weighted\"] = recall_weighted\n",
    "\n",
    "    metrics[\"f1_micro\"]    = f1_micro\n",
    "    metrics[\"f1_macro\"]    = f1_macro\n",
    "    metrics[\"f1_weighted\"] = f1_weighted\n",
    "\n",
    "    return metrics"
   ]
  },
  {
   "cell_type": "markdown",
   "metadata": {
    "id": "Dzj89UygQEL0"
   },
   "source": [
    "**Задание. Реализуйте функции обучения и тестирования train_epoch и evaluate_epoch.** **<font color='red'>(2 балла)</font>**"
   ]
  },
  {
   "cell_type": "code",
   "execution_count": 45,
   "metadata": {
    "id": "sG3vQbc_QEL0"
   },
   "outputs": [],
   "source": [
    "def train_epoch(\n",
    "    model: torch.nn.Module,\n",
    "    dataloader: torch.utils.data.DataLoader,\n",
    "    optimizer: torch.optim.Optimizer,\n",
    "    criterion: torch.nn.Module,\n",
    "    writer: SummaryWriter,\n",
    "    device: torch.device,\n",
    "    epoch: int,\n",
    ") -> None:\n",
    "    \"\"\"\n",
    "    One training cycle (loop).\n",
    "    \"\"\"\n",
    "\n",
    "    model.train()\n",
    "\n",
    "    epoch_loss = []\n",
    "    batch_metrics_list = defaultdict(list)\n",
    "\n",
    "    for i, (tokens, labels) in tqdm(\n",
    "        enumerate(dataloader),\n",
    "        total=len(dataloader),\n",
    "        desc=\"loop over train batches\",\n",
    "    ):\n",
    "\n",
    "        tokens, labels = tokens.to(device), labels.to(device)\n",
    "\n",
    "        # YOUR CODE HERE\n",
    "        # Подсчет лосса и шаг оптимизатора\n",
    "        \n",
    "        optimizer.zero_grad()\n",
    "        preds = model(tokens)\n",
    "        loss = criterion(preds, labels)\n",
    "        loss.backward()\n",
    "        optimizer.step()\n",
    "\n",
    "        epoch_loss.append(loss.item())\n",
    "        writer.add_scalar(\n",
    "            \"batch loss / train\", loss.item(), epoch * len(dataloader) + i\n",
    "        )\n",
    "\n",
    "        with torch.no_grad():\n",
    "            model.eval()\n",
    "            outputs_inference = model(tokens)\n",
    "            model.train()\n",
    "\n",
    "        batch_metrics = compute_metrics(\n",
    "            outputs=outputs_inference,\n",
    "            labels=labels,\n",
    "        )\n",
    "\n",
    "        for metric_name, metric_value in batch_metrics.items():\n",
    "            batch_metrics_list[metric_name].append(metric_value)\n",
    "            writer.add_scalar(\n",
    "                f\"batch {metric_name} / train\",\n",
    "                metric_value,\n",
    "                epoch * len(dataloader) + i,\n",
    "            )\n",
    "\n",
    "    avg_loss = np.mean(epoch_loss)\n",
    "    print(f\"Train loss: {avg_loss}\\n\")\n",
    "    writer.add_scalar(\"loss / train\", avg_loss, epoch)\n",
    "\n",
    "    for metric_name, metric_value_list in batch_metrics_list.items():\n",
    "        metric_value = np.mean(metric_value_list)\n",
    "        print(f\"Train {metric_name}: {metric_value}\\n\")\n",
    "        writer.add_scalar(f\"{metric_name} / train\", metric_value, epoch)"
   ]
  },
  {
   "cell_type": "code",
   "execution_count": 46,
   "metadata": {
    "id": "p4ztFogtQEL0"
   },
   "outputs": [],
   "source": [
    "def evaluate_epoch(\n",
    "    model: torch.nn.Module,\n",
    "    dataloader: torch.utils.data.DataLoader,\n",
    "    criterion: torch.nn.Module,\n",
    "    writer: SummaryWriter,\n",
    "    device: torch.device,\n",
    "    epoch: int,\n",
    ") -> None:\n",
    "    \"\"\"\n",
    "    One evaluation cycle (loop).\n",
    "    \"\"\"\n",
    "\n",
    "    model.eval()\n",
    "\n",
    "    epoch_loss = []\n",
    "    batch_metrics_list = defaultdict(list)\n",
    "\n",
    "    with torch.no_grad():\n",
    "\n",
    "        for i, (tokens, labels) in tqdm(\n",
    "            enumerate(dataloader),\n",
    "            total=len(dataloader),\n",
    "            desc=\"loop over test batches\",\n",
    "        ):\n",
    "\n",
    "            tokens, labels = tokens.to(device), labels.to(device)\n",
    "\n",
    "            # YOUR CODE HERE\n",
    "            # Подсчет лосса\n",
    "            outputs = model(tokens)\n",
    "            loss = criterion(outputs, labels)\n",
    "\n",
    "            epoch_loss.append(loss.item())\n",
    "            writer.add_scalar(\n",
    "                \"batch loss / test\", loss.item(), epoch * len(dataloader) + i\n",
    "            )\n",
    "\n",
    "            batch_metrics = compute_metrics(\n",
    "                outputs=outputs,\n",
    "                labels=labels,\n",
    "            )\n",
    "\n",
    "            for metric_name, metric_value in batch_metrics.items():\n",
    "                batch_metrics_list[metric_name].append(metric_value)\n",
    "                writer.add_scalar(\n",
    "                    f\"batch {metric_name} / test\",\n",
    "                    metric_value,\n",
    "                    epoch * len(dataloader) + i,\n",
    "                )\n",
    "\n",
    "        avg_loss = np.mean(epoch_loss)\n",
    "        print(f\"Test loss:  {avg_loss}\\n\")\n",
    "        writer.add_scalar(\"loss / test\", avg_loss, epoch)\n",
    "\n",
    "        for metric_name, metric_value_list in batch_metrics_list.items():\n",
    "            metric_value = np.mean(metric_value_list)\n",
    "            print(f\"Test {metric_name}: {metric_value}\\n\")\n",
    "            writer.add_scalar(f\"{metric_name} / test\", np.mean(metric_value), epoch)"
   ]
  },
  {
   "cell_type": "code",
   "execution_count": 47,
   "metadata": {
    "id": "z7Z5MTNzQEL1"
   },
   "outputs": [],
   "source": [
    "def train(\n",
    "    n_epochs: int,\n",
    "    model: torch.nn.Module,\n",
    "    train_dataloader: torch.utils.data.DataLoader,\n",
    "    test_dataloader: torch.utils.data.DataLoader,\n",
    "    optimizer: torch.optim.Optimizer,\n",
    "    criterion: torch.nn.Module,\n",
    "    writer: SummaryWriter,\n",
    "    device: torch.device,\n",
    ") -> None:\n",
    "    \"\"\"\n",
    "    Training loop.\n",
    "    \"\"\"\n",
    "\n",
    "    for epoch in range(n_epochs):\n",
    "\n",
    "        print(f\"Epoch [{epoch+1} / {n_epochs}]\\n\")\n",
    "\n",
    "        train_epoch(\n",
    "            model=model,\n",
    "            dataloader=train_dataloader,\n",
    "            optimizer=optimizer,\n",
    "            criterion=criterion,\n",
    "            writer=writer,\n",
    "            device=device,\n",
    "            epoch=epoch,\n",
    "        )\n",
    "        evaluate_epoch(\n",
    "            model=model,\n",
    "            dataloader=test_dataloader,\n",
    "            criterion=criterion,\n",
    "            writer=writer,\n",
    "            device=device,\n",
    "            epoch=epoch,\n",
    "        )"
   ]
  },
  {
   "cell_type": "markdown",
   "metadata": {
    "id": "xTxfU0BfQEL1"
   },
   "source": [
    "**Задание. Проведите эксперименты.** **<font color='red'>(2 балла)</font>**\n"
   ]
  },
  {
   "cell_type": "code",
   "execution_count": 48,
   "metadata": {
    "id": "yz6mjGZUQEL2",
    "scrolled": true
   },
   "outputs": [
    {
     "name": "stdout",
     "output_type": "stream",
     "text": [
      "Epoch [1 / 30]\n",
      "\n"
     ]
    },
    {
     "name": "stderr",
     "output_type": "stream",
     "text": [
      "loop over train batches: 100%|██████████| 7493/7493 [06:10<00:00, 20.25it/s]\n"
     ]
    },
    {
     "name": "stdout",
     "output_type": "stream",
     "text": [
      "Train loss: 0.7131510377905932\n",
      "\n",
      "Train accuracy: 0.8173141027266931\n",
      "\n",
      "Train precision_micro: 0.8173141027266931\n",
      "\n",
      "Train precision_macro: 0.3913753592258223\n",
      "\n",
      "Train precision_weighted: 0.9778170130800714\n",
      "\n",
      "Train recall_micro: 0.8173141027266931\n",
      "\n",
      "Train recall_macro: 0.3592585652464284\n",
      "\n",
      "Train recall_weighted: 0.8173141027266931\n",
      "\n",
      "Train f1_micro: 0.8173141027266931\n",
      "\n",
      "Train f1_macro: 0.36775471367013507\n",
      "\n",
      "Train f1_weighted: 0.8819794193027808\n",
      "\n"
     ]
    },
    {
     "name": "stderr",
     "output_type": "stream",
     "text": [
      "loop over test batches: 100%|██████████| 3465/3465 [00:47<00:00, 73.26it/s]\n"
     ]
    },
    {
     "name": "stdout",
     "output_type": "stream",
     "text": [
      "Test loss:  0.5533478223042722\n",
      "\n",
      "Test accuracy: 0.8430531229243555\n",
      "\n",
      "Test precision_micro: 0.8430531229243555\n",
      "\n",
      "Test precision_macro: 0.6088866653803825\n",
      "\n",
      "Test precision_weighted: 0.9557404779464566\n",
      "\n",
      "Test recall_micro: 0.8430531229243555\n",
      "\n",
      "Test recall_macro: 0.5770533991568113\n",
      "\n",
      "Test recall_weighted: 0.8430531229243555\n",
      "\n",
      "Test f1_micro: 0.8430531229243555\n",
      "\n",
      "Test f1_macro: 0.585314610336197\n",
      "\n",
      "Test f1_weighted: 0.8856833228385044\n",
      "\n",
      "Epoch [2 / 30]\n",
      "\n"
     ]
    },
    {
     "name": "stderr",
     "output_type": "stream",
     "text": [
      "loop over train batches: 100%|██████████| 7493/7493 [06:44<00:00, 18.54it/s]\n"
     ]
    },
    {
     "name": "stdout",
     "output_type": "stream",
     "text": [
      "Train loss: 0.4405462745845631\n",
      "\n",
      "Train accuracy: 0.8765153665263364\n",
      "\n",
      "Train precision_micro: 0.8765153665263364\n",
      "\n",
      "Train precision_macro: 0.5436436313406119\n",
      "\n",
      "Train precision_weighted: 0.9672125151446934\n",
      "\n",
      "Train recall_micro: 0.8765153665263364\n",
      "\n",
      "Train recall_macro: 0.5426243022773235\n",
      "\n",
      "Train recall_weighted: 0.8765153665263364\n",
      "\n",
      "Train f1_micro: 0.8765153665263364\n",
      "\n",
      "Train f1_macro: 0.5322649910652713\n",
      "\n",
      "Train f1_weighted: 0.913474829023474\n",
      "\n"
     ]
    },
    {
     "name": "stderr",
     "output_type": "stream",
     "text": [
      "loop over test batches: 100%|██████████| 3465/3465 [00:49<00:00, 70.62it/s]\n"
     ]
    },
    {
     "name": "stdout",
     "output_type": "stream",
     "text": [
      "Test loss:  0.39851054185640244\n",
      "\n",
      "Test accuracy: 0.8863599630633631\n",
      "\n",
      "Test precision_micro: 0.8863599630633631\n",
      "\n",
      "Test precision_macro: 0.6870600851308348\n",
      "\n",
      "Test precision_weighted: 0.9587503068007983\n",
      "\n",
      "Test recall_micro: 0.8863599630633631\n",
      "\n",
      "Test recall_macro: 0.6759308814190744\n",
      "\n",
      "Test recall_weighted: 0.8863599630633631\n",
      "\n",
      "Test f1_micro: 0.8863599630633631\n",
      "\n",
      "Test f1_macro: 0.6742405519498011\n",
      "\n",
      "Test f1_weighted: 0.913883960182786\n",
      "\n",
      "Epoch [3 / 30]\n",
      "\n"
     ]
    },
    {
     "name": "stderr",
     "output_type": "stream",
     "text": [
      "loop over train batches: 100%|██████████| 7493/7493 [07:21<00:00, 16.98it/s]\n"
     ]
    },
    {
     "name": "stdout",
     "output_type": "stream",
     "text": [
      "Train loss: 0.32665538877065353\n",
      "\n",
      "Train accuracy: 0.90708184903555\n",
      "\n",
      "Train precision_micro: 0.90708184903555\n",
      "\n",
      "Train precision_macro: 0.6420515971400896\n",
      "\n",
      "Train precision_weighted: 0.9650756284632006\n",
      "\n",
      "Train recall_micro: 0.90708184903555\n",
      "\n",
      "Train recall_macro: 0.6516140991719178\n",
      "\n",
      "Train recall_weighted: 0.90708184903555\n",
      "\n",
      "Train f1_micro: 0.90708184903555\n",
      "\n",
      "Train f1_macro: 0.6354076170784531\n",
      "\n",
      "Train f1_weighted: 0.9299522576510102\n",
      "\n"
     ]
    },
    {
     "name": "stderr",
     "output_type": "stream",
     "text": [
      "loop over test batches: 100%|██████████| 3465/3465 [00:55<00:00, 62.69it/s]\n"
     ]
    },
    {
     "name": "stdout",
     "output_type": "stream",
     "text": [
      "Test loss:  0.33137336088388486\n",
      "\n",
      "Test accuracy: 0.9053369687319254\n",
      "\n",
      "Test precision_micro: 0.9053369687319254\n",
      "\n",
      "Test precision_macro: 0.7362510937078794\n",
      "\n",
      "Test precision_weighted: 0.9595402130723796\n",
      "\n",
      "Test recall_micro: 0.9053369687319254\n",
      "\n",
      "Test recall_macro: 0.7318380326327333\n",
      "\n",
      "Test recall_weighted: 0.9053369687319254\n",
      "\n",
      "Test f1_micro: 0.9053369687319254\n",
      "\n",
      "Test f1_macro: 0.7269577815005684\n",
      "\n",
      "Test f1_weighted: 0.9254105379946413\n",
      "\n",
      "Epoch [4 / 30]\n",
      "\n"
     ]
    },
    {
     "name": "stderr",
     "output_type": "stream",
     "text": [
      "loop over train batches: 100%|██████████| 7493/7493 [07:34<00:00, 16.50it/s]\n"
     ]
    },
    {
     "name": "stdout",
     "output_type": "stream",
     "text": [
      "Train loss: 0.25805796294617195\n",
      "\n",
      "Train accuracy: 0.9267781731265516\n",
      "\n",
      "Train precision_micro: 0.9267781731265516\n",
      "\n",
      "Train precision_macro: 0.7054171916042782\n",
      "\n",
      "Train precision_weighted: 0.9661151924311989\n",
      "\n",
      "Train recall_micro: 0.9267781731265516\n",
      "\n",
      "Train recall_macro: 0.7188385265228201\n",
      "\n",
      "Train recall_weighted: 0.9267781731265516\n",
      "\n",
      "Train f1_micro: 0.9267781731265516\n",
      "\n",
      "Train f1_macro: 0.7017713247102332\n",
      "\n",
      "Train f1_weighted: 0.941885558934507\n",
      "\n"
     ]
    },
    {
     "name": "stderr",
     "output_type": "stream",
     "text": [
      "loop over test batches: 100%|██████████| 3465/3465 [00:50<00:00, 68.02it/s]\n"
     ]
    },
    {
     "name": "stdout",
     "output_type": "stream",
     "text": [
      "Test loss:  0.29033256993437623\n",
      "\n",
      "Test accuracy: 0.9160764939336647\n",
      "\n",
      "Test precision_micro: 0.9160764939336647\n",
      "\n",
      "Test precision_macro: 0.7626796279840556\n",
      "\n",
      "Test precision_weighted: 0.9551235877996201\n",
      "\n",
      "Test recall_micro: 0.9160764939336647\n",
      "\n",
      "Test recall_macro: 0.7620582479967722\n",
      "\n",
      "Test recall_weighted: 0.9160764939336647\n",
      "\n",
      "Test f1_micro: 0.9160764939336647\n",
      "\n",
      "Test f1_macro: 0.7556017433762103\n",
      "\n",
      "Test f1_weighted: 0.9296830880454331\n",
      "\n",
      "Epoch [5 / 30]\n",
      "\n"
     ]
    },
    {
     "name": "stderr",
     "output_type": "stream",
     "text": [
      "loop over train batches: 100%|██████████| 7493/7493 [06:55<00:00, 18.04it/s]\n"
     ]
    },
    {
     "name": "stdout",
     "output_type": "stream",
     "text": [
      "Train loss: 0.20773006164888744\n",
      "\n",
      "Train accuracy: 0.9411402804558606\n",
      "\n",
      "Train precision_micro: 0.9411402804558606\n",
      "\n",
      "Train precision_macro: 0.7551220538156385\n",
      "\n",
      "Train precision_weighted: 0.969723960460094\n",
      "\n",
      "Train recall_micro: 0.9411402804558606\n",
      "\n",
      "Train recall_macro: 0.7690760737170423\n",
      "\n",
      "Train recall_weighted: 0.9411402804558606\n",
      "\n",
      "Train f1_micro: 0.9411402804558606\n",
      "\n",
      "Train f1_macro: 0.7527934505290259\n",
      "\n",
      "Train f1_weighted: 0.9517920337377167\n",
      "\n"
     ]
    },
    {
     "name": "stderr",
     "output_type": "stream",
     "text": [
      "loop over test batches: 100%|██████████| 3465/3465 [00:50<00:00, 68.77it/s]\n"
     ]
    },
    {
     "name": "stdout",
     "output_type": "stream",
     "text": [
      "Test loss:  0.2634004148207311\n",
      "\n",
      "Test accuracy: 0.9231598068579464\n",
      "\n",
      "Test precision_micro: 0.9231598068579464\n",
      "\n",
      "Test precision_macro: 0.7819966179375342\n",
      "\n",
      "Test precision_weighted: 0.9589939543416597\n",
      "\n",
      "Test recall_micro: 0.9231598068579464\n",
      "\n",
      "Test recall_macro: 0.7845386281029504\n",
      "\n",
      "Test recall_weighted: 0.9231598068579464\n",
      "\n",
      "Test f1_micro: 0.9231598068579464\n",
      "\n",
      "Test f1_macro: 0.776904483620156\n",
      "\n",
      "Test f1_weighted: 0.9359623246457118\n",
      "\n",
      "Epoch [6 / 30]\n",
      "\n"
     ]
    },
    {
     "name": "stderr",
     "output_type": "stream",
     "text": [
      "loop over train batches: 100%|██████████| 7493/7493 [07:01<00:00, 17.76it/s]\n"
     ]
    },
    {
     "name": "stdout",
     "output_type": "stream",
     "text": [
      "Train loss: 0.17586100947006103\n",
      "\n",
      "Train accuracy: 0.9507195751293349\n",
      "\n",
      "Train precision_micro: 0.9507195751293349\n",
      "\n",
      "Train precision_macro: 0.7907034355347755\n",
      "\n",
      "Train precision_weighted: 0.9725306213445026\n",
      "\n",
      "Train recall_micro: 0.9507195751293349\n",
      "\n",
      "Train recall_macro: 0.8049252429983307\n",
      "\n",
      "Train recall_weighted: 0.9507195751293349\n",
      "\n",
      "Train f1_micro: 0.9507195751293349\n",
      "\n",
      "Train f1_macro: 0.789222256773022\n",
      "\n",
      "Train f1_weighted: 0.9585213225911744\n",
      "\n"
     ]
    },
    {
     "name": "stderr",
     "output_type": "stream",
     "text": [
      "loop over test batches: 100%|██████████| 3465/3465 [00:51<00:00, 67.89it/s]\n"
     ]
    },
    {
     "name": "stdout",
     "output_type": "stream",
     "text": [
      "Test loss:  0.24211816167000016\n",
      "\n",
      "Test accuracy: 0.9290993590587537\n",
      "\n",
      "Test precision_micro: 0.9290993590587537\n",
      "\n",
      "Test precision_macro: 0.7977055083964164\n",
      "\n",
      "Test precision_weighted: 0.959703938691271\n",
      "\n",
      "Test recall_micro: 0.9290993590587537\n",
      "\n",
      "Test recall_macro: 0.7987853496805001\n",
      "\n",
      "Test recall_weighted: 0.9290993590587537\n",
      "\n",
      "Test f1_micro: 0.9290993590587537\n",
      "\n",
      "Test f1_macro: 0.7921406491035488\n",
      "\n",
      "Test f1_weighted: 0.9396102318687496\n",
      "\n",
      "Epoch [7 / 30]\n",
      "\n"
     ]
    },
    {
     "name": "stderr",
     "output_type": "stream",
     "text": [
      "loop over train batches: 100%|██████████| 7493/7493 [07:02<00:00, 17.74it/s]\n"
     ]
    },
    {
     "name": "stdout",
     "output_type": "stream",
     "text": [
      "Train loss: 0.14643215705678705\n",
      "\n",
      "Train accuracy: 0.9597815120437571\n",
      "\n",
      "Train precision_micro: 0.9597815120437571\n",
      "\n",
      "Train precision_macro: 0.8231298925699155\n",
      "\n",
      "Train precision_weighted: 0.9772752643264577\n",
      "\n",
      "Train recall_micro: 0.9597815120437571\n",
      "\n",
      "Train recall_macro: 0.8348536590295191\n",
      "\n",
      "Train recall_weighted: 0.9597815120437571\n",
      "\n",
      "Train f1_micro: 0.9597815120437571\n",
      "\n",
      "Train f1_macro: 0.8215517347838576\n",
      "\n",
      "Train f1_weighted: 0.9659528437083603\n",
      "\n"
     ]
    },
    {
     "name": "stderr",
     "output_type": "stream",
     "text": [
      "loop over test batches: 100%|██████████| 3465/3465 [00:53<00:00, 64.65it/s]\n"
     ]
    },
    {
     "name": "stdout",
     "output_type": "stream",
     "text": [
      "Test loss:  0.23163476246516138\n",
      "\n",
      "Test accuracy: 0.9324052059524841\n",
      "\n",
      "Test precision_micro: 0.9324052059524841\n",
      "\n",
      "Test precision_macro: 0.8048664980117786\n",
      "\n",
      "Test precision_weighted: 0.9522961940536887\n",
      "\n",
      "Test recall_micro: 0.9324052059524841\n",
      "\n",
      "Test recall_macro: 0.8057062083821729\n",
      "\n",
      "Test recall_weighted: 0.9324052059524841\n",
      "\n",
      "Test f1_micro: 0.9324052059524841\n",
      "\n",
      "Test f1_macro: 0.7994485471884393\n",
      "\n",
      "Test f1_weighted: 0.9381805958176017\n",
      "\n",
      "Epoch [8 / 30]\n",
      "\n"
     ]
    },
    {
     "name": "stderr",
     "output_type": "stream",
     "text": [
      "loop over train batches: 100%|██████████| 7493/7493 [07:29<00:00, 16.69it/s]\n"
     ]
    },
    {
     "name": "stdout",
     "output_type": "stream",
     "text": [
      "Train loss: 0.12246200247539459\n",
      "\n",
      "Train accuracy: 0.9667441327999046\n",
      "\n",
      "Train precision_micro: 0.9667441327999046\n",
      "\n",
      "Train precision_macro: 0.8507469787842697\n",
      "\n",
      "Train precision_weighted: 0.9803913343862409\n",
      "\n",
      "Train recall_micro: 0.9667441327999046\n",
      "\n",
      "Train recall_macro: 0.8617145076207257\n",
      "\n",
      "Train recall_weighted: 0.9667441327999046\n",
      "\n",
      "Train f1_micro: 0.9667441327999046\n",
      "\n",
      "Train f1_macro: 0.8495981806527558\n",
      "\n",
      "Train f1_weighted: 0.9714000054884415\n",
      "\n"
     ]
    },
    {
     "name": "stderr",
     "output_type": "stream",
     "text": [
      "loop over test batches: 100%|██████████| 3465/3465 [00:51<00:00, 67.26it/s]\n"
     ]
    },
    {
     "name": "stdout",
     "output_type": "stream",
     "text": [
      "Test loss:  0.21930597633454055\n",
      "\n",
      "Test accuracy: 0.937371166501171\n",
      "\n",
      "Test precision_micro: 0.937371166501171\n",
      "\n",
      "Test precision_macro: 0.8166590138598845\n",
      "\n",
      "Test precision_weighted: 0.9624454878776939\n",
      "\n",
      "Test recall_micro: 0.937371166501171\n",
      "\n",
      "Test recall_macro: 0.8200126734008241\n",
      "\n",
      "Test recall_weighted: 0.937371166501171\n",
      "\n",
      "Test f1_micro: 0.937371166501171\n",
      "\n",
      "Test f1_macro: 0.8128242616315339\n",
      "\n",
      "Test f1_weighted: 0.9458756911800972\n",
      "\n",
      "Epoch [9 / 30]\n",
      "\n"
     ]
    },
    {
     "name": "stderr",
     "output_type": "stream",
     "text": [
      "loop over train batches: 100%|██████████| 7493/7493 [07:35<00:00, 16.47it/s]\n"
     ]
    },
    {
     "name": "stdout",
     "output_type": "stream",
     "text": [
      "Train loss: 0.10453214266923878\n",
      "\n",
      "Train accuracy: 0.9719413376691025\n",
      "\n",
      "Train precision_micro: 0.9719413376691025\n",
      "\n",
      "Train precision_macro: 0.873751386884969\n",
      "\n",
      "Train precision_weighted: 0.9834056806685019\n",
      "\n",
      "Train recall_micro: 0.9719413376691025\n",
      "\n",
      "Train recall_macro: 0.8831669534017594\n",
      "\n",
      "Train recall_weighted: 0.9719413376691025\n",
      "\n",
      "Train f1_micro: 0.9719413376691025\n",
      "\n",
      "Train f1_macro: 0.8724779051239453\n",
      "\n",
      "Train f1_weighted: 0.9757062967033925\n",
      "\n"
     ]
    },
    {
     "name": "stderr",
     "output_type": "stream",
     "text": [
      "loop over test batches: 100%|██████████| 3465/3465 [00:54<00:00, 63.28it/s]\n"
     ]
    },
    {
     "name": "stdout",
     "output_type": "stream",
     "text": [
      "Test loss:  0.20960733973818046\n",
      "\n",
      "Test accuracy: 0.9401911485672608\n",
      "\n",
      "Test precision_micro: 0.9401911485672608\n",
      "\n",
      "Test precision_macro: 0.8228705708536168\n",
      "\n",
      "Test precision_weighted: 0.9642913193008529\n",
      "\n",
      "Test recall_micro: 0.9401911485672608\n",
      "\n",
      "Test recall_macro: 0.8249927314783027\n",
      "\n",
      "Test recall_weighted: 0.9401911485672608\n",
      "\n",
      "Test f1_micro: 0.9401911485672608\n",
      "\n",
      "Test f1_macro: 0.8187030828916415\n",
      "\n",
      "Test f1_weighted: 0.9483157181067132\n",
      "\n",
      "Epoch [10 / 30]\n",
      "\n"
     ]
    },
    {
     "name": "stderr",
     "output_type": "stream",
     "text": [
      "loop over train batches: 100%|██████████| 7493/7493 [07:06<00:00, 17.57it/s]\n"
     ]
    },
    {
     "name": "stdout",
     "output_type": "stream",
     "text": [
      "Train loss: 0.08830600965951829\n",
      "\n",
      "Train accuracy: 0.9768269910515512\n",
      "\n",
      "Train precision_micro: 0.9768269910515512\n",
      "\n",
      "Train precision_macro: 0.8924430407787615\n",
      "\n",
      "Train precision_weighted: 0.9859691765073503\n",
      "\n",
      "Train recall_micro: 0.9768269910515512\n",
      "\n",
      "Train recall_macro: 0.9000865475729021\n",
      "\n",
      "Train recall_weighted: 0.9768269910515512\n",
      "\n",
      "Train f1_micro: 0.9768269910515512\n",
      "\n",
      "Train f1_macro: 0.8911354365401346\n",
      "\n",
      "Train f1_weighted: 0.9798228395620898\n",
      "\n"
     ]
    },
    {
     "name": "stderr",
     "output_type": "stream",
     "text": [
      "loop over test batches: 100%|██████████| 3465/3465 [00:50<00:00, 69.00it/s]\n"
     ]
    },
    {
     "name": "stdout",
     "output_type": "stream",
     "text": [
      "Test loss:  0.2083314416247646\n",
      "\n",
      "Test accuracy: 0.9415497443768276\n",
      "\n",
      "Test precision_micro: 0.9415497443768276\n",
      "\n",
      "Test precision_macro: 0.8311630106891403\n",
      "\n",
      "Test precision_weighted: 0.9621183377774911\n",
      "\n",
      "Test recall_micro: 0.9415497443768276\n",
      "\n",
      "Test recall_macro: 0.8349088504472075\n",
      "\n",
      "Test recall_weighted: 0.9415497443768276\n",
      "\n",
      "Test f1_micro: 0.9415497443768276\n",
      "\n",
      "Test f1_macro: 0.8278847066793089\n",
      "\n",
      "Test f1_weighted: 0.9482643620600417\n",
      "\n",
      "Epoch [11 / 30]\n",
      "\n"
     ]
    },
    {
     "name": "stderr",
     "output_type": "stream",
     "text": [
      "loop over train batches: 100%|██████████| 7493/7493 [06:54<00:00, 18.06it/s]\n"
     ]
    },
    {
     "name": "stdout",
     "output_type": "stream",
     "text": [
      "Train loss: 0.07442325832793246\n",
      "\n",
      "Train accuracy: 0.9808288949173272\n",
      "\n",
      "Train precision_micro: 0.9808288949173272\n",
      "\n",
      "Train precision_macro: 0.9091301515253437\n",
      "\n",
      "Train precision_weighted: 0.9881699153387147\n",
      "\n",
      "Train recall_micro: 0.9808288949173272\n",
      "\n",
      "Train recall_macro: 0.915602190447596\n",
      "\n",
      "Train recall_weighted: 0.9808288949173272\n",
      "\n",
      "Train f1_micro: 0.9808288949173272\n",
      "\n",
      "Train f1_macro: 0.9079838371740657\n",
      "\n",
      "Train f1_weighted: 0.9831541060303115\n",
      "\n"
     ]
    },
    {
     "name": "stderr",
     "output_type": "stream",
     "text": [
      "loop over test batches: 100%|██████████| 3465/3465 [00:48<00:00, 70.85it/s]\n"
     ]
    },
    {
     "name": "stdout",
     "output_type": "stream",
     "text": [
      "Test loss:  0.21186593613150542\n",
      "\n",
      "Test accuracy: 0.9397941046421084\n",
      "\n",
      "Test precision_micro: 0.9397941046421084\n",
      "\n",
      "Test precision_macro: 0.8296387950665348\n",
      "\n",
      "Test precision_weighted: 0.9531220647821073\n",
      "\n",
      "Test recall_micro: 0.9397941046421084\n",
      "\n",
      "Test recall_macro: 0.8319230418287255\n",
      "\n",
      "Test recall_weighted: 0.9397941046421084\n",
      "\n",
      "Test f1_micro: 0.9397941046421084\n",
      "\n",
      "Test f1_macro: 0.8258959013323551\n",
      "\n",
      "Test f1_weighted: 0.9431201138384049\n",
      "\n",
      "Epoch [12 / 30]\n",
      "\n"
     ]
    },
    {
     "name": "stderr",
     "output_type": "stream",
     "text": [
      "loop over train batches: 100%|██████████| 7493/7493 [06:44<00:00, 18.54it/s]\n"
     ]
    },
    {
     "name": "stdout",
     "output_type": "stream",
     "text": [
      "Train loss: 0.06149918264970241\n",
      "\n",
      "Train accuracy: 0.984857554202617\n",
      "\n",
      "Train precision_micro: 0.984857554202617\n",
      "\n",
      "Train precision_macro: 0.9257972908348616\n",
      "\n",
      "Train precision_weighted: 0.9904063340576164\n",
      "\n",
      "Train recall_micro: 0.984857554202617\n",
      "\n",
      "Train recall_macro: 0.9309879107074941\n",
      "\n",
      "Train recall_weighted: 0.984857554202617\n",
      "\n",
      "Train f1_micro: 0.984857554202617\n",
      "\n",
      "Train f1_macro: 0.9246976480556095\n",
      "\n",
      "Train f1_weighted: 0.9865446300452924\n",
      "\n"
     ]
    },
    {
     "name": "stderr",
     "output_type": "stream",
     "text": [
      "loop over test batches: 100%|██████████| 3465/3465 [00:48<00:00, 71.76it/s]\n"
     ]
    },
    {
     "name": "stdout",
     "output_type": "stream",
     "text": [
      "Test loss:  0.20115883236933255\n",
      "\n",
      "Test accuracy: 0.9456667922553573\n",
      "\n",
      "Test precision_micro: 0.9456667922553573\n",
      "\n",
      "Test precision_macro: 0.8399048338057788\n",
      "\n",
      "Test precision_weighted: 0.962722243610659\n",
      "\n",
      "Test recall_micro: 0.9456667922553573\n",
      "\n",
      "Test recall_macro: 0.8429365679470702\n",
      "\n",
      "Test recall_weighted: 0.9456667922553573\n",
      "\n",
      "Test f1_micro: 0.9456667922553573\n",
      "\n",
      "Test f1_macro: 0.8365570842030132\n",
      "\n",
      "Test f1_weighted: 0.9509384301725802\n",
      "\n",
      "Epoch [13 / 30]\n",
      "\n"
     ]
    },
    {
     "name": "stderr",
     "output_type": "stream",
     "text": [
      "loop over train batches: 100%|██████████| 7493/7493 [06:43<00:00, 18.57it/s]\n"
     ]
    },
    {
     "name": "stdout",
     "output_type": "stream",
     "text": [
      "Train loss: 0.050338450511720104\n",
      "\n",
      "Train accuracy: 0.9882063007764075\n",
      "\n",
      "Train precision_micro: 0.9882063007764075\n",
      "\n",
      "Train precision_macro: 0.9402668581665218\n",
      "\n",
      "Train precision_weighted: 0.9921785869687837\n",
      "\n",
      "Train recall_micro: 0.9882063007764075\n",
      "\n",
      "Train recall_macro: 0.9451922426177493\n",
      "\n",
      "Train recall_weighted: 0.9882063007764075\n",
      "\n",
      "Train f1_micro: 0.9882063007764075\n",
      "\n",
      "Train f1_macro: 0.9395544576044517\n",
      "\n",
      "Train f1_weighted: 0.9893496362844465\n",
      "\n"
     ]
    },
    {
     "name": "stderr",
     "output_type": "stream",
     "text": [
      "loop over test batches: 100%|██████████| 3465/3465 [00:48<00:00, 71.60it/s]\n"
     ]
    },
    {
     "name": "stdout",
     "output_type": "stream",
     "text": [
      "Test loss:  0.201681831534929\n",
      "\n",
      "Test accuracy: 0.9454148716641625\n",
      "\n",
      "Test precision_micro: 0.9454148716641625\n",
      "\n",
      "Test precision_macro: 0.8360617531341459\n",
      "\n",
      "Test precision_weighted: 0.9600267203637534\n",
      "\n",
      "Test recall_micro: 0.9454148716641625\n",
      "\n",
      "Test recall_macro: 0.8372217874627412\n",
      "\n",
      "Test recall_weighted: 0.9454148716641625\n",
      "\n",
      "Test f1_micro: 0.9454148716641625\n",
      "\n",
      "Test f1_macro: 0.8317785007654909\n",
      "\n",
      "Test f1_weighted: 0.9493110723682787\n",
      "\n",
      "Epoch [14 / 30]\n",
      "\n"
     ]
    },
    {
     "name": "stderr",
     "output_type": "stream",
     "text": [
      "loop over train batches: 100%|██████████| 7493/7493 [07:01<00:00, 17.76it/s]\n"
     ]
    },
    {
     "name": "stdout",
     "output_type": "stream",
     "text": [
      "Train loss: 0.04173080962899919\n",
      "\n",
      "Train accuracy: 0.9907830054715516\n",
      "\n",
      "Train precision_micro: 0.9907830054715516\n",
      "\n",
      "Train precision_macro: 0.952845131235782\n",
      "\n",
      "Train precision_weighted: 0.9940115180978988\n",
      "\n",
      "Train recall_micro: 0.9907830054715516\n",
      "\n",
      "Train recall_macro: 0.9562287160172195\n",
      "\n",
      "Train recall_weighted: 0.9907830054715516\n",
      "\n",
      "Train f1_micro: 0.9907830054715516\n",
      "\n",
      "Train f1_macro: 0.9519730214446723\n",
      "\n",
      "Train f1_weighted: 0.991699570552332\n",
      "\n"
     ]
    },
    {
     "name": "stderr",
     "output_type": "stream",
     "text": [
      "loop over test batches: 100%|██████████| 3465/3465 [00:50<00:00, 68.10it/s]\n"
     ]
    },
    {
     "name": "stdout",
     "output_type": "stream",
     "text": [
      "Test loss:  0.21102825713022516\n",
      "\n",
      "Test accuracy: 0.9459936399672758\n",
      "\n",
      "Test precision_micro: 0.9459936399672758\n",
      "\n",
      "Test precision_macro: 0.8409670391585877\n",
      "\n",
      "Test precision_weighted: 0.9640658907603973\n",
      "\n",
      "Test recall_micro: 0.9459936399672758\n",
      "\n",
      "Test recall_macro: 0.8433001592778705\n",
      "\n",
      "Test recall_weighted: 0.9459936399672758\n",
      "\n",
      "Test f1_micro: 0.9459936399672758\n",
      "\n",
      "Test f1_macro: 0.8373390053496034\n",
      "\n",
      "Test f1_weighted: 0.951823210574816\n",
      "\n",
      "Epoch [15 / 30]\n",
      "\n"
     ]
    },
    {
     "name": "stderr",
     "output_type": "stream",
     "text": [
      "loop over train batches: 100%|██████████| 7493/7493 [07:12<00:00, 17.33it/s]\n"
     ]
    },
    {
     "name": "stdout",
     "output_type": "stream",
     "text": [
      "Train loss: 0.03442313254899618\n",
      "\n",
      "Train accuracy: 0.9925894676868025\n",
      "\n",
      "Train precision_micro: 0.9925894676868025\n",
      "\n",
      "Train precision_macro: 0.9619177587233197\n",
      "\n",
      "Train precision_weighted: 0.9952974678894007\n",
      "\n",
      "Train recall_micro: 0.9925894676868025\n",
      "\n",
      "Train recall_macro: 0.9649840670107352\n",
      "\n",
      "Train recall_weighted: 0.9925894676868025\n",
      "\n",
      "Train f1_micro: 0.9925894676868025\n",
      "\n",
      "Train f1_macro: 0.9614407785065111\n",
      "\n",
      "Train f1_weighted: 0.9933694430673692\n",
      "\n"
     ]
    },
    {
     "name": "stderr",
     "output_type": "stream",
     "text": [
      "loop over test batches: 100%|██████████| 3465/3465 [00:53<00:00, 64.61it/s]\n"
     ]
    },
    {
     "name": "stdout",
     "output_type": "stream",
     "text": [
      "Test loss:  0.22094977152704023\n",
      "\n",
      "Test accuracy: 0.9463097801443919\n",
      "\n",
      "Test precision_micro: 0.9463097801443919\n",
      "\n",
      "Test precision_macro: 0.842452484309583\n",
      "\n",
      "Test precision_weighted: 0.9658649768201288\n",
      "\n",
      "Test recall_micro: 0.9463097801443919\n",
      "\n",
      "Test recall_macro: 0.8452035688494032\n",
      "\n",
      "Test recall_weighted: 0.9463097801443919\n",
      "\n",
      "Test f1_micro: 0.9463097801443919\n",
      "\n",
      "Test f1_macro: 0.8391575840137919\n",
      "\n",
      "Test f1_weighted: 0.952987863028719\n",
      "\n",
      "Epoch [16 / 30]\n",
      "\n"
     ]
    },
    {
     "name": "stderr",
     "output_type": "stream",
     "text": [
      "loop over train batches: 100%|██████████| 7493/7493 [07:20<00:00, 16.99it/s]\n"
     ]
    },
    {
     "name": "stdout",
     "output_type": "stream",
     "text": [
      "Train loss: 0.028519340863222605\n",
      "\n",
      "Train accuracy: 0.9943494518432027\n",
      "\n",
      "Train precision_micro: 0.9943494518432027\n",
      "\n",
      "Train precision_macro: 0.9701296464465979\n",
      "\n",
      "Train precision_weighted: 0.9961189117455186\n",
      "\n",
      "Train recall_micro: 0.9943494518432027\n",
      "\n",
      "Train recall_macro: 0.9726169417444561\n",
      "\n",
      "Train recall_weighted: 0.9943494518432027\n",
      "\n",
      "Train f1_micro: 0.9943494518432027\n",
      "\n",
      "Train f1_macro: 0.969770522861482\n",
      "\n",
      "Train f1_weighted: 0.9947873898012644\n",
      "\n"
     ]
    },
    {
     "name": "stderr",
     "output_type": "stream",
     "text": [
      "loop over test batches: 100%|██████████| 3465/3465 [00:49<00:00, 70.00it/s]\n"
     ]
    },
    {
     "name": "stdout",
     "output_type": "stream",
     "text": [
      "Test loss:  0.2161465751960627\n",
      "\n",
      "Test accuracy: 0.9468865232025745\n",
      "\n",
      "Test precision_micro: 0.9468865232025745\n",
      "\n",
      "Test precision_macro: 0.8438029504467555\n",
      "\n",
      "Test precision_weighted: 0.9609989205769188\n",
      "\n",
      "Test recall_micro: 0.9468865232025745\n",
      "\n",
      "Test recall_macro: 0.8462502782243377\n",
      "\n",
      "Test recall_weighted: 0.9468865232025745\n",
      "\n",
      "Test f1_micro: 0.9468865232025745\n",
      "\n",
      "Test f1_macro: 0.840343483207439\n",
      "\n",
      "Test f1_weighted: 0.9508345665746485\n",
      "\n",
      "Epoch [17 / 30]\n",
      "\n"
     ]
    },
    {
     "name": "stderr",
     "output_type": "stream",
     "text": [
      "loop over train batches: 100%|██████████| 7493/7493 [07:31<00:00, 16.60it/s]\n"
     ]
    },
    {
     "name": "stdout",
     "output_type": "stream",
     "text": [
      "Train loss: 0.023350613782663454\n",
      "\n",
      "Train accuracy: 0.9957680924556943\n",
      "\n",
      "Train precision_micro: 0.9957680924556943\n",
      "\n",
      "Train precision_macro: 0.9777008653241351\n",
      "\n",
      "Train precision_weighted: 0.9972439397568367\n",
      "\n",
      "Train recall_micro: 0.9957680924556943\n",
      "\n",
      "Train recall_macro: 0.9793859283064322\n",
      "\n",
      "Train recall_weighted: 0.9957680924556943\n",
      "\n",
      "Train f1_micro: 0.9957680924556943\n",
      "\n",
      "Train f1_macro: 0.9773346438159715\n",
      "\n",
      "Train f1_weighted: 0.9961736108387671\n",
      "\n"
     ]
    },
    {
     "name": "stderr",
     "output_type": "stream",
     "text": [
      "loop over test batches: 100%|██████████| 3465/3465 [00:54<00:00, 63.65it/s]\n"
     ]
    },
    {
     "name": "stdout",
     "output_type": "stream",
     "text": [
      "Test loss:  0.22470706981520475\n",
      "\n",
      "Test accuracy: 0.9453806282897286\n",
      "\n",
      "Test precision_micro: 0.9453806282897286\n",
      "\n",
      "Test precision_macro: 0.8408711208072764\n",
      "\n",
      "Test precision_weighted: 0.958229934805348\n",
      "\n",
      "Test recall_micro: 0.9453806282897286\n",
      "\n",
      "Test recall_macro: 0.8441202982736961\n",
      "\n",
      "Test recall_weighted: 0.9453806282897286\n",
      "\n",
      "Test f1_micro: 0.9453806282897286\n",
      "\n",
      "Test f1_macro: 0.8376768255057534\n",
      "\n",
      "Test f1_weighted: 0.9486435790258473\n",
      "\n",
      "Epoch [18 / 30]\n",
      "\n"
     ]
    },
    {
     "name": "stderr",
     "output_type": "stream",
     "text": [
      "loop over train batches: 100%|██████████| 7493/7493 [07:05<00:00, 17.61it/s]\n"
     ]
    },
    {
     "name": "stdout",
     "output_type": "stream",
     "text": [
      "Train loss: 0.019175182823655573\n",
      "\n",
      "Train accuracy: 0.9967245491359501\n",
      "\n",
      "Train precision_micro: 0.9967245491359501\n",
      "\n",
      "Train precision_macro: 0.9832100793054112\n",
      "\n",
      "Train precision_weighted: 0.9977911870068829\n",
      "\n",
      "Train recall_micro: 0.9967245491359501\n",
      "\n",
      "Train recall_macro: 0.9841574417029181\n",
      "\n",
      "Train recall_weighted: 0.9967245491359501\n",
      "\n",
      "Train f1_micro: 0.9967245491359501\n",
      "\n",
      "Train f1_macro: 0.9828381431019788\n",
      "\n",
      "Train f1_weighted: 0.9969924067589795\n",
      "\n"
     ]
    },
    {
     "name": "stderr",
     "output_type": "stream",
     "text": [
      "loop over test batches: 100%|██████████| 3465/3465 [00:50<00:00, 68.47it/s]\n"
     ]
    },
    {
     "name": "stdout",
     "output_type": "stream",
     "text": [
      "Test loss:  0.2264272808501268\n",
      "\n",
      "Test accuracy: 0.9460660693519203\n",
      "\n",
      "Test precision_micro: 0.9460660693519203\n",
      "\n",
      "Test precision_macro: 0.8434826948834545\n",
      "\n",
      "Test precision_weighted: 0.9607382561714707\n",
      "\n",
      "Test recall_micro: 0.9460660693519203\n",
      "\n",
      "Test recall_macro: 0.8458606425554063\n",
      "\n",
      "Test recall_weighted: 0.9460660693519203\n",
      "\n",
      "Test f1_micro: 0.9460660693519203\n",
      "\n",
      "Test f1_macro: 0.8398933426102654\n",
      "\n",
      "Test f1_weighted: 0.9503088969959489\n",
      "\n",
      "Epoch [19 / 30]\n",
      "\n"
     ]
    },
    {
     "name": "stderr",
     "output_type": "stream",
     "text": [
      "loop over train batches: 100%|██████████| 7493/7493 [07:27<00:00, 16.73it/s]\n"
     ]
    },
    {
     "name": "stdout",
     "output_type": "stream",
     "text": [
      "Train loss: 0.015135616752307875\n",
      "\n",
      "Train accuracy: 0.9974567334432078\n",
      "\n",
      "Train precision_micro: 0.9974567334432078\n",
      "\n",
      "Train precision_macro: 0.9875697637419445\n",
      "\n",
      "Train precision_weighted: 0.9983638559774354\n",
      "\n",
      "Train recall_micro: 0.9974567334432078\n",
      "\n",
      "Train recall_macro: 0.9881035062287368\n",
      "\n",
      "Train recall_weighted: 0.9974567334432078\n",
      "\n",
      "Train f1_micro: 0.9974567334432078\n",
      "\n",
      "Train f1_macro: 0.9871335537137718\n",
      "\n",
      "Train f1_weighted: 0.9976855490134547\n",
      "\n"
     ]
    },
    {
     "name": "stderr",
     "output_type": "stream",
     "text": [
      "loop over test batches: 100%|██████████| 3465/3465 [01:03<00:00, 54.76it/s]\n"
     ]
    },
    {
     "name": "stdout",
     "output_type": "stream",
     "text": [
      "Test loss:  0.2351529951815764\n",
      "\n",
      "Test accuracy: 0.946353086218767\n",
      "\n",
      "Test precision_micro: 0.946353086218767\n",
      "\n",
      "Test precision_macro: 0.8466567811187936\n",
      "\n",
      "Test precision_weighted: 0.9615214830411887\n",
      "\n",
      "Test recall_micro: 0.946353086218767\n",
      "\n",
      "Test recall_macro: 0.8478002815053446\n",
      "\n",
      "Test recall_weighted: 0.946353086218767\n",
      "\n",
      "Test f1_micro: 0.946353086218767\n",
      "\n",
      "Test f1_macro: 0.8425437213041365\n",
      "\n",
      "Test f1_weighted: 0.9508668177243328\n",
      "\n",
      "Epoch [20 / 30]\n",
      "\n"
     ]
    },
    {
     "name": "stderr",
     "output_type": "stream",
     "text": [
      "loop over train batches: 100%|██████████| 7493/7493 [07:28<00:00, 16.69it/s]\n"
     ]
    },
    {
     "name": "stdout",
     "output_type": "stream",
     "text": [
      "Train loss: 0.01196406519319048\n",
      "\n",
      "Train accuracy: 0.9982946253335202\n",
      "\n",
      "Train precision_micro: 0.9982946253335202\n",
      "\n",
      "Train precision_macro: 0.9915080129482688\n",
      "\n",
      "Train precision_weighted: 0.9988119809166006\n",
      "\n",
      "Train recall_micro: 0.9982946253335202\n",
      "\n",
      "Train recall_macro: 0.9919142859385562\n",
      "\n",
      "Train recall_weighted: 0.9982946253335202\n",
      "\n",
      "Train f1_micro: 0.9982946253335202\n",
      "\n",
      "Train f1_macro: 0.9912439791318792\n",
      "\n",
      "Train f1_weighted: 0.9984007044495407\n",
      "\n"
     ]
    },
    {
     "name": "stderr",
     "output_type": "stream",
     "text": [
      "loop over test batches: 100%|██████████| 3465/3465 [00:55<00:00, 62.37it/s]\n"
     ]
    },
    {
     "name": "stdout",
     "output_type": "stream",
     "text": [
      "Test loss:  0.23973020291348338\n",
      "\n",
      "Test accuracy: 0.9478991262542428\n",
      "\n",
      "Test precision_micro: 0.9478991262542428\n",
      "\n",
      "Test precision_macro: 0.8459151623838551\n",
      "\n",
      "Test precision_weighted: 0.9633508942304253\n",
      "\n",
      "Test recall_micro: 0.9478991262542428\n",
      "\n",
      "Test recall_macro: 0.8486304076752305\n",
      "\n",
      "Test recall_weighted: 0.9478991262542428\n",
      "\n",
      "Test f1_micro: 0.9478991262542428\n",
      "\n",
      "Test f1_macro: 0.8425481517985894\n",
      "\n",
      "Test f1_weighted: 0.9525609173965389\n",
      "\n",
      "Epoch [21 / 30]\n",
      "\n"
     ]
    },
    {
     "name": "stderr",
     "output_type": "stream",
     "text": [
      "loop over train batches: 100%|██████████| 7493/7493 [07:26<00:00, 16.79it/s]\n"
     ]
    },
    {
     "name": "stdout",
     "output_type": "stream",
     "text": [
      "Train loss: 0.010469070115709187\n",
      "\n",
      "Train accuracy: 0.9984435940404249\n",
      "\n",
      "Train precision_micro: 0.9984435940404249\n",
      "\n",
      "Train precision_macro: 0.9937557196650979\n",
      "\n",
      "Train precision_weighted: 0.9989614552475156\n",
      "\n",
      "Train recall_micro: 0.9984435940404249\n",
      "\n",
      "Train recall_macro: 0.993941128264344\n",
      "\n",
      "Train recall_weighted: 0.9984435940404249\n",
      "\n",
      "Train f1_micro: 0.9984435940404249\n",
      "\n",
      "Train f1_macro: 0.993499522430562\n",
      "\n",
      "Train f1_weighted: 0.9985518071862561\n",
      "\n"
     ]
    },
    {
     "name": "stderr",
     "output_type": "stream",
     "text": [
      "loop over test batches: 100%|██████████| 3465/3465 [00:48<00:00, 70.99it/s]\n"
     ]
    },
    {
     "name": "stdout",
     "output_type": "stream",
     "text": [
      "Test loss:  0.24989437835720335\n",
      "\n",
      "Test accuracy: 0.946772158781377\n",
      "\n",
      "Test precision_micro: 0.946772158781377\n",
      "\n",
      "Test precision_macro: 0.8449692779228448\n",
      "\n",
      "Test precision_weighted: 0.9632064568820675\n",
      "\n",
      "Test recall_micro: 0.946772158781377\n",
      "\n",
      "Test recall_macro: 0.8472455087711441\n",
      "\n",
      "Test recall_weighted: 0.946772158781377\n",
      "\n",
      "Test f1_micro: 0.946772158781377\n",
      "\n",
      "Test f1_macro: 0.8414781791677194\n",
      "\n",
      "Test f1_weighted: 0.9519373145172246\n",
      "\n",
      "Epoch [22 / 30]\n",
      "\n"
     ]
    },
    {
     "name": "stderr",
     "output_type": "stream",
     "text": [
      "loop over train batches: 100%|██████████| 7493/7493 [07:29<00:00, 16.66it/s]\n"
     ]
    },
    {
     "name": "stdout",
     "output_type": "stream",
     "text": [
      "Train loss: 0.008410808725846064\n",
      "\n",
      "Train accuracy: 0.9989008959346116\n",
      "\n",
      "Train precision_micro: 0.9989008959346116\n",
      "\n",
      "Train precision_macro: 0.9961013803869504\n",
      "\n",
      "Train precision_weighted: 0.9993483756898226\n",
      "\n",
      "Train recall_micro: 0.9989008959346116\n",
      "\n",
      "Train recall_macro: 0.9959813594731748\n",
      "\n",
      "Train recall_weighted: 0.9989008959346116\n",
      "\n",
      "Train f1_micro: 0.9989008959346116\n",
      "\n",
      "Train f1_macro: 0.9957583133305327\n",
      "\n",
      "Train f1_weighted: 0.99899844083002\n",
      "\n"
     ]
    },
    {
     "name": "stderr",
     "output_type": "stream",
     "text": [
      "loop over test batches: 100%|██████████| 3465/3465 [00:49<00:00, 70.45it/s]\n"
     ]
    },
    {
     "name": "stdout",
     "output_type": "stream",
     "text": [
      "Test loss:  0.2661886911531502\n",
      "\n",
      "Test accuracy: 0.9460046134394804\n",
      "\n",
      "Test precision_micro: 0.9460046134394804\n",
      "\n",
      "Test precision_macro: 0.8395688300308323\n",
      "\n",
      "Test precision_weighted: 0.9615471273105076\n",
      "\n",
      "Test recall_micro: 0.9460046134394804\n",
      "\n",
      "Test recall_macro: 0.838548019276808\n",
      "\n",
      "Test recall_weighted: 0.9460046134394804\n",
      "\n",
      "Test f1_micro: 0.9460046134394804\n",
      "\n",
      "Test f1_macro: 0.8341650064782202\n",
      "\n",
      "Test f1_weighted: 0.9504079063519033\n",
      "\n",
      "Epoch [23 / 30]\n",
      "\n"
     ]
    },
    {
     "name": "stderr",
     "output_type": "stream",
     "text": [
      "loop over train batches: 100%|██████████| 7493/7493 [07:50<00:00, 15.92it/s]\n"
     ]
    },
    {
     "name": "stdout",
     "output_type": "stream",
     "text": [
      "Train loss: 0.007307331887930662\n",
      "\n",
      "Train accuracy: 0.9989930667841469\n",
      "\n",
      "Train precision_micro: 0.9989930667841469\n",
      "\n",
      "Train precision_macro: 0.9967099348778911\n",
      "\n",
      "Train precision_weighted: 0.9992999750608548\n",
      "\n",
      "Train recall_micro: 0.9989930667841469\n",
      "\n",
      "Train recall_macro: 0.9968208092211379\n",
      "\n",
      "Train recall_weighted: 0.9989930667841469\n",
      "\n",
      "Train f1_micro: 0.9989930667841469\n",
      "\n",
      "Train f1_macro: 0.9965672494282521\n",
      "\n",
      "Train f1_weighted: 0.9990494926086375\n",
      "\n"
     ]
    },
    {
     "name": "stderr",
     "output_type": "stream",
     "text": [
      "loop over test batches: 100%|██████████| 3465/3465 [00:57<00:00, 59.79it/s]\n"
     ]
    },
    {
     "name": "stdout",
     "output_type": "stream",
     "text": [
      "Test loss:  0.2721968158091327\n",
      "\n",
      "Test accuracy: 0.9444202147959103\n",
      "\n",
      "Test precision_micro: 0.9444202147959103\n",
      "\n",
      "Test precision_macro: 0.8393559738727447\n",
      "\n",
      "Test precision_weighted: 0.9614280386494061\n",
      "\n",
      "Test recall_micro: 0.9444202147959103\n",
      "\n",
      "Test recall_macro: 0.84143523254907\n",
      "\n",
      "Test recall_weighted: 0.9444202147959103\n",
      "\n",
      "Test f1_micro: 0.9444202147959103\n",
      "\n",
      "Test f1_macro: 0.8356346354505039\n",
      "\n",
      "Test f1_weighted: 0.9498042174016952\n",
      "\n",
      "Epoch [24 / 30]\n",
      "\n"
     ]
    },
    {
     "name": "stderr",
     "output_type": "stream",
     "text": [
      "loop over train batches: 100%|██████████| 7493/7493 [07:45<00:00, 16.10it/s]\n"
     ]
    },
    {
     "name": "stdout",
     "output_type": "stream",
     "text": [
      "Train loss: 0.0062522052619184655\n",
      "\n",
      "Train accuracy: 0.9991232976467123\n",
      "\n",
      "Train precision_micro: 0.9991232976467123\n",
      "\n",
      "Train precision_macro: 0.9969793538084015\n",
      "\n",
      "Train precision_weighted: 0.9994108608156711\n",
      "\n",
      "Train recall_micro: 0.9991232976467123\n",
      "\n",
      "Train recall_macro: 0.9970622306557885\n",
      "\n",
      "Train recall_weighted: 0.9991232976467123\n",
      "\n",
      "Train f1_micro: 0.9991232976467123\n",
      "\n",
      "Train f1_macro: 0.9968623981929657\n",
      "\n",
      "Train f1_weighted: 0.9991852474557564\n",
      "\n"
     ]
    },
    {
     "name": "stderr",
     "output_type": "stream",
     "text": [
      "loop over test batches: 100%|██████████| 3465/3465 [00:58<00:00, 59.16it/s]\n"
     ]
    },
    {
     "name": "stdout",
     "output_type": "stream",
     "text": [
      "Test loss:  0.2707887375235337\n",
      "\n",
      "Test accuracy: 0.9471111863243328\n",
      "\n",
      "Test precision_micro: 0.9471111863243328\n",
      "\n",
      "Test precision_macro: 0.8434077390583189\n",
      "\n",
      "Test precision_weighted: 0.960377397739506\n",
      "\n",
      "Test recall_micro: 0.9471111863243328\n",
      "\n",
      "Test recall_macro: 0.8454999476242552\n",
      "\n",
      "Test recall_weighted: 0.9471111863243328\n",
      "\n",
      "Test f1_micro: 0.9471111863243328\n",
      "\n",
      "Test f1_macro: 0.8396376205675663\n",
      "\n",
      "Test f1_weighted: 0.9506883810857372\n",
      "\n",
      "Epoch [25 / 30]\n",
      "\n"
     ]
    },
    {
     "name": "stderr",
     "output_type": "stream",
     "text": [
      "loop over train batches: 100%|██████████| 7493/7493 [07:39<00:00, 16.32it/s]\n"
     ]
    },
    {
     "name": "stdout",
     "output_type": "stream",
     "text": [
      "Train loss: 0.005434350779800097\n",
      "\n",
      "Train accuracy: 0.9992194007290319\n",
      "\n",
      "Train precision_micro: 0.9992194007290319\n",
      "\n",
      "Train precision_macro: 0.9975919745588816\n",
      "\n",
      "Train precision_weighted: 0.9994932630331191\n",
      "\n",
      "Train recall_micro: 0.9992194007290319\n",
      "\n",
      "Train recall_macro: 0.9975645076225166\n",
      "\n",
      "Train recall_weighted: 0.9992194007290319\n",
      "\n",
      "Train f1_micro: 0.9992194007290319\n",
      "\n",
      "Train f1_macro: 0.9974472196719102\n",
      "\n",
      "Train f1_weighted: 0.9992799846612951\n",
      "\n"
     ]
    },
    {
     "name": "stderr",
     "output_type": "stream",
     "text": [
      "loop over test batches: 100%|██████████| 3465/3465 [00:57<00:00, 60.44it/s]\n"
     ]
    },
    {
     "name": "stdout",
     "output_type": "stream",
     "text": [
      "Test loss:  0.2946530150621484\n",
      "\n",
      "Test accuracy: 0.9449777376212014\n",
      "\n",
      "Test precision_micro: 0.9449777376212014\n",
      "\n",
      "Test precision_macro: 0.8415607201878139\n",
      "\n",
      "Test precision_weighted: 0.9575394360737844\n",
      "\n",
      "Test recall_micro: 0.9449777376212014\n",
      "\n",
      "Test recall_macro: 0.8416847349550749\n",
      "\n",
      "Test recall_weighted: 0.9449777376212014\n",
      "\n",
      "Test f1_micro: 0.9449777376212014\n",
      "\n",
      "Test f1_macro: 0.8367005808309054\n",
      "\n",
      "Test f1_weighted: 0.9482095272755696\n",
      "\n",
      "Epoch [26 / 30]\n",
      "\n"
     ]
    },
    {
     "name": "stderr",
     "output_type": "stream",
     "text": [
      "loop over train batches: 100%|██████████| 7493/7493 [07:41<00:00, 16.23it/s]\n"
     ]
    },
    {
     "name": "stdout",
     "output_type": "stream",
     "text": [
      "Train loss: 0.004911346767560477\n",
      "\n",
      "Train accuracy: 0.9992383368938832\n",
      "\n",
      "Train precision_micro: 0.9992383368938832\n",
      "\n",
      "Train precision_macro: 0.9973814591619097\n",
      "\n",
      "Train precision_weighted: 0.9994379150158023\n",
      "\n",
      "Train recall_micro: 0.9992383368938832\n",
      "\n",
      "Train recall_macro: 0.9973361564181661\n",
      "\n",
      "Train recall_weighted: 0.9992383368938832\n",
      "\n",
      "Train f1_micro: 0.9992383368938832\n",
      "\n",
      "Train f1_macro: 0.9972681293128783\n",
      "\n",
      "Train f1_weighted: 0.9992882269299795\n",
      "\n"
     ]
    },
    {
     "name": "stderr",
     "output_type": "stream",
     "text": [
      "loop over test batches: 100%|██████████| 3465/3465 [00:57<00:00, 60.50it/s]\n"
     ]
    },
    {
     "name": "stdout",
     "output_type": "stream",
     "text": [
      "Test loss:  0.28523339098509576\n",
      "\n",
      "Test accuracy: 0.9453959569733327\n",
      "\n",
      "Test precision_micro: 0.9453959569733327\n",
      "\n",
      "Test precision_macro: 0.8442811029505709\n",
      "\n",
      "Test precision_weighted: 0.9594073687017358\n",
      "\n",
      "Test recall_micro: 0.9453959569733327\n",
      "\n",
      "Test recall_macro: 0.8463108699865078\n",
      "\n",
      "Test recall_weighted: 0.9453959569733327\n",
      "\n",
      "Test f1_micro: 0.9453959569733327\n",
      "\n",
      "Test f1_macro: 0.8406898800202177\n",
      "\n",
      "Test f1_weighted: 0.9494399852953194\n",
      "\n",
      "Epoch [27 / 30]\n",
      "\n"
     ]
    },
    {
     "name": "stderr",
     "output_type": "stream",
     "text": [
      "loop over train batches: 100%|██████████| 7493/7493 [08:54<00:00, 14.03it/s]\n"
     ]
    },
    {
     "name": "stdout",
     "output_type": "stream",
     "text": [
      "Train loss: 0.005134460797796885\n",
      "\n",
      "Train accuracy: 0.9991334448615106\n",
      "\n",
      "Train precision_micro: 0.9991334448615106\n",
      "\n",
      "Train precision_macro: 0.9978956164979553\n",
      "\n",
      "Train precision_weighted: 0.9995124100648558\n",
      "\n",
      "Train recall_micro: 0.9991334448615106\n",
      "\n",
      "Train recall_macro: 0.9977944357734657\n",
      "\n",
      "Train recall_weighted: 0.9991334448615106\n",
      "\n",
      "Train f1_micro: 0.9991334448615106\n",
      "\n",
      "Train f1_macro: 0.9977229033238729\n",
      "\n",
      "Train f1_weighted: 0.9992246655505428\n",
      "\n"
     ]
    },
    {
     "name": "stderr",
     "output_type": "stream",
     "text": [
      "loop over test batches: 100%|██████████| 3465/3465 [00:57<00:00, 60.75it/s]\n"
     ]
    },
    {
     "name": "stdout",
     "output_type": "stream",
     "text": [
      "Test loss:  0.2933951195205502\n",
      "\n",
      "Test accuracy: 0.9454633559492239\n",
      "\n",
      "Test precision_micro: 0.9454633559492239\n",
      "\n",
      "Test precision_macro: 0.8457142410852317\n",
      "\n",
      "Test precision_weighted: 0.9579882346829595\n",
      "\n",
      "Test recall_micro: 0.9454633559492239\n",
      "\n",
      "Test recall_macro: 0.8487106332089551\n",
      "\n",
      "Test recall_weighted: 0.9454633559492239\n",
      "\n",
      "Test f1_micro: 0.9454633559492239\n",
      "\n",
      "Test f1_macro: 0.842515538823867\n",
      "\n",
      "Test f1_weighted: 0.9488045961327707\n",
      "\n",
      "Epoch [28 / 30]\n",
      "\n"
     ]
    },
    {
     "name": "stderr",
     "output_type": "stream",
     "text": [
      "loop over train batches: 100%|██████████| 7493/7493 [07:06<00:00, 17.56it/s]\n"
     ]
    },
    {
     "name": "stdout",
     "output_type": "stream",
     "text": [
      "Train loss: 0.0044558630325987605\n",
      "\n",
      "Train accuracy: 0.9991398616115733\n",
      "\n",
      "Train precision_micro: 0.9991398616115733\n",
      "\n",
      "Train precision_macro: 0.997879320660428\n",
      "\n",
      "Train precision_weighted: 0.9994055404091396\n",
      "\n",
      "Train recall_micro: 0.9991398616115733\n",
      "\n",
      "Train recall_macro: 0.9977089815870487\n",
      "\n",
      "Train recall_weighted: 0.9991398616115733\n",
      "\n",
      "Train f1_micro: 0.9991398616115733\n",
      "\n",
      "Train f1_macro: 0.9976967139035191\n",
      "\n",
      "Train f1_weighted: 0.9991702859066319\n",
      "\n"
     ]
    },
    {
     "name": "stderr",
     "output_type": "stream",
     "text": [
      "loop over test batches: 100%|██████████| 3465/3465 [00:49<00:00, 70.67it/s]\n"
     ]
    },
    {
     "name": "stdout",
     "output_type": "stream",
     "text": [
      "Test loss:  0.3025274991037808\n",
      "\n",
      "Test accuracy: 0.9424589663696495\n",
      "\n",
      "Test precision_micro: 0.9424589663696495\n",
      "\n",
      "Test precision_macro: 0.8389941912063275\n",
      "\n",
      "Test precision_weighted: 0.9504982409124163\n",
      "\n",
      "Test recall_micro: 0.9424589663696495\n",
      "\n",
      "Test recall_macro: 0.8417755817194786\n",
      "\n",
      "Test recall_weighted: 0.9424589663696495\n",
      "\n",
      "Test f1_micro: 0.9424589663696495\n",
      "\n",
      "Test f1_macro: 0.8356120419120019\n",
      "\n",
      "Test f1_weighted: 0.9436361659113875\n",
      "\n",
      "Epoch [29 / 30]\n",
      "\n"
     ]
    },
    {
     "name": "stderr",
     "output_type": "stream",
     "text": [
      "loop over train batches: 100%|██████████| 7493/7493 [07:26<00:00, 16.79it/s]\n"
     ]
    },
    {
     "name": "stdout",
     "output_type": "stream",
     "text": [
      "Train loss: 0.004630608794919916\n",
      "\n",
      "Train accuracy: 0.9990910716642452\n",
      "\n",
      "Train precision_micro: 0.9990910716642452\n",
      "\n",
      "Train precision_macro: 0.9978930059558981\n",
      "\n",
      "Train precision_weighted: 0.999297106014209\n",
      "\n",
      "Train recall_micro: 0.9990910716642452\n",
      "\n",
      "Train recall_macro: 0.9979945524843489\n",
      "\n",
      "Train recall_weighted: 0.9990910716642452\n",
      "\n",
      "Train f1_micro: 0.9990910716642452\n",
      "\n",
      "Train f1_macro: 0.9978176469783056\n",
      "\n",
      "Train f1_weighted: 0.9990908312000012\n",
      "\n"
     ]
    },
    {
     "name": "stderr",
     "output_type": "stream",
     "text": [
      "loop over test batches: 100%|██████████| 3465/3465 [00:59<00:00, 57.83it/s]\n"
     ]
    },
    {
     "name": "stdout",
     "output_type": "stream",
     "text": [
      "Test loss:  0.31281324095697816\n",
      "\n",
      "Test accuracy: 0.9379809683000903\n",
      "\n",
      "Test precision_micro: 0.9379809683000903\n",
      "\n",
      "Test precision_macro: 0.8325358628273329\n",
      "\n",
      "Test precision_weighted: 0.9434787282723331\n",
      "\n",
      "Test recall_micro: 0.9379809683000903\n",
      "\n",
      "Test recall_macro: 0.8342611857161555\n",
      "\n",
      "Test recall_weighted: 0.9379809683000903\n",
      "\n",
      "Test f1_micro: 0.9379809683000903\n",
      "\n",
      "Test f1_macro: 0.8283552499519703\n",
      "\n",
      "Test f1_weighted: 0.9376130868625075\n",
      "\n",
      "Epoch [30 / 30]\n",
      "\n"
     ]
    },
    {
     "name": "stderr",
     "output_type": "stream",
     "text": [
      "loop over train batches: 100%|██████████| 7493/7493 [08:00<00:00, 15.59it/s]\n"
     ]
    },
    {
     "name": "stdout",
     "output_type": "stream",
     "text": [
      "Train loss: 0.004098075840617447\n",
      "\n",
      "Train accuracy: 0.9991591995101557\n",
      "\n",
      "Train precision_micro: 0.9991591995101557\n",
      "\n",
      "Train precision_macro: 0.9977816206030162\n",
      "\n",
      "Train precision_weighted: 0.9993579509441878\n",
      "\n",
      "Train recall_micro: 0.9991591995101557\n",
      "\n",
      "Train recall_macro: 0.9978472290574252\n",
      "\n",
      "Train recall_weighted: 0.9991591995101557\n",
      "\n",
      "Train f1_micro: 0.9991591995101557\n",
      "\n",
      "Train f1_macro: 0.9977022063673788\n",
      "\n",
      "Train f1_weighted: 0.9991820450329616\n",
      "\n"
     ]
    },
    {
     "name": "stderr",
     "output_type": "stream",
     "text": [
      "loop over test batches: 100%|██████████| 3465/3465 [00:57<00:00, 60.60it/s]\n"
     ]
    },
    {
     "name": "stdout",
     "output_type": "stream",
     "text": [
      "Test loss:  0.30422460605292473\n",
      "\n",
      "Test accuracy: 0.9471245023226331\n",
      "\n",
      "Test precision_micro: 0.9471245023226331\n",
      "\n",
      "Test precision_macro: 0.8508823561445538\n",
      "\n",
      "Test precision_weighted: 0.9611473649400771\n",
      "\n",
      "Test recall_micro: 0.9471245023226331\n",
      "\n",
      "Test recall_macro: 0.8525939061210906\n",
      "\n",
      "Test recall_weighted: 0.9471245023226331\n",
      "\n",
      "Test f1_micro: 0.9471245023226331\n",
      "\n",
      "Test f1_macro: 0.8470735776475032\n",
      "\n",
      "Test f1_weighted: 0.9512233436853534\n",
      "\n"
     ]
    }
   ],
   "source": [
    "# YOUR CODE HERE\n",
    "model = BiLSTM(\n",
    "    num_embeddings=len(token2idx),\n",
    "    embedding_dim=100,\n",
    "    hidden_size=100,\n",
    "    num_layers=1,\n",
    "    dropout=0.0,\n",
    "    bidirectional=True,\n",
    "    n_classes=len(label2idx),\n",
    ").to(device)\n",
    "\n",
    "optimizer = torch.optim.Adam(model.parameters(), lr=1e-4)\n",
    "criterion = torch.nn.CrossEntropyLoss(ignore_index=-1)\n",
    "\n",
    "train(\n",
    "    n_epochs=30,\n",
    "    model=model,\n",
    "    train_dataloader=train_dataloader,\n",
    "    test_dataloader=valid_dataloader,\n",
    "    optimizer=optimizer,\n",
    "    criterion=criterion,\n",
    "    writer=writer,\n",
    "    device=device\n",
    ")"
   ]
  },
  {
   "cell_type": "code",
   "execution_count": 54,
   "metadata": {
    "scrolled": true
   },
   "outputs": [
    {
     "name": "stderr",
     "output_type": "stream",
     "text": [
      "loop over test batches: 100%|██████████| 3683/3683 [00:49<00:00, 74.70it/s]"
     ]
    },
    {
     "name": "stdout",
     "output_type": "stream",
     "text": [
      "Test loss:  0.483811484441782\n",
      "\n",
      "Test accuracy: 0.9110213117733795\n",
      "\n",
      "Test precision_micro: 0.9110213117733795\n",
      "\n",
      "Test precision_macro: 0.7901290933981644\n",
      "\n",
      "Test precision_weighted: 0.9258598983819958\n",
      "\n",
      "Test recall_micro: 0.9110213117733795\n",
      "\n",
      "Test recall_macro: 0.7927784219277771\n",
      "\n",
      "Test recall_weighted: 0.9110213117733795\n",
      "\n",
      "Test f1_micro: 0.9110213117733795\n",
      "\n",
      "Test f1_macro: 0.7859816055043567\n",
      "\n",
      "Test f1_weighted: 0.9138606485010199\n",
      "\n"
     ]
    },
    {
     "name": "stderr",
     "output_type": "stream",
     "text": [
      "\n"
     ]
    }
   ],
   "source": [
    "# тестируем модель\n",
    "\n",
    "evaluate_epoch(\n",
    "    model=model,\n",
    "    dataloader=test_dataloader,\n",
    "    criterion=criterion,\n",
    "    writer=writer,\n",
    "    device=device,\n",
    "    epoch=0,\n",
    ")"
   ]
  },
  {
   "cell_type": "markdown",
   "metadata": {},
   "source": [
    "Получилось:  \n",
    "    Train f1_macro: 0.9977022063673788  \n",
    "    Valid f1_macro: 0.8470735776475032  \n",
    "    Test f1_macro: 0.7859816055043567  \n",
    "Переобучились конечно, но и так сойдёт"
   ]
  },
  {
   "cell_type": "markdown",
   "metadata": {
    "id": "H8R6nopyQEL-"
   },
   "source": [
    "## Часть 3. Transformers-теггер (6 баллов)\n",
    "\n",
    "В данной части задания нужно сделать все то же самое, но с использованием модели на базе архитектуры Transformer, а именно предлагается дообучать предобученную модель **BERT**.\n",
    "\n",
    "Для данной модели подразумевается специальная подготовка данных, с чего мы и начнем:"
   ]
  },
  {
   "cell_type": "markdown",
   "metadata": {
    "id": "SrbX5gFDQEL-"
   },
   "source": [
    "Модель **BERT** использует специальный токенизатор WordPiece для разбиения предложений на токены. Готовая предобученная версия такого токенизатора существует в библиотеке **transformers**. Есть два класса: `BertTokenizer` и `BertTokenizerFast`. Использовать можно любой, но второй вариант работает существенно быстрее.\n",
    "\n",
    "Токенизаторы можно обучать с нуля на своем корпусе данных, а можно подгружать уже готовые. Готовые токенизаторы, как правило, соответствуют предобученной конфигурации модели, которая использует словарь из этого токенизатора. \n",
    "\n",
    "Мы будем использовать базовую конфигурацию предобученного **BERT** для модели и токенизатора.\n",
    "\n",
    "P.S. Часто приходится проводить эксперименты с моделями разной архитектуры, например **BERT** и **GPT**, поэтому удобно использовать класс `AutoTokenizer`, который по названию модели сам определит, какой класс нужен для инициализации токенизатора."
   ]
  },
  {
   "cell_type": "code",
   "execution_count": 56,
   "metadata": {
    "id": "4-UTiI4gQEL-"
   },
   "outputs": [],
   "source": [
    "from transformers import AutoTokenizer"
   ]
  },
  {
   "cell_type": "code",
   "execution_count": 57,
   "metadata": {
    "id": "kSbBhvnDQEMA"
   },
   "outputs": [],
   "source": [
    "model_name = \"distilbert-base-cased\""
   ]
  },
  {
   "cell_type": "markdown",
   "metadata": {
    "id": "kxWNX5i6QEMA"
   },
   "source": [
    "Подгружение предобученных моделей и токенизаторов в **huggingface** происходит с помощью конструктора **from_pretrained**.\n",
    "\n",
    "В данном конструкторе можно указать либо путь к предобученному токенизатору, либо название предобученной конфигурации, как в нашем случае: тогда **transformers** сам подгрузит нужные параметры:"
   ]
  },
  {
   "cell_type": "code",
   "execution_count": 58,
   "metadata": {
    "id": "3tg_bCeaQEMA"
   },
   "outputs": [],
   "source": [
    "tokenizer = AutoTokenizer.from_pretrained(model_name)"
   ]
  },
  {
   "cell_type": "markdown",
   "metadata": {
    "id": "4MIrbmNoQEMA"
   },
   "source": [
    "### Подготовка словарей\n",
    "\n",
    "В сравнении с рекуррентными моделями, на больше не нужно заниматься сборкой словаря, так как это уже сделано заранее благодаря токенизаторам и алгоритмам, стоящими за ними.\n",
    "\n",
    "Но нам как и прежде потребуется:\n",
    "- {**label**}→{**label_idx**}: соответствие между тегом и уникальным индексом (начинается с 0);\n",
    "\n",
    "Но данное отображение у нас уже реализовано в одной из предыдущих частей задания."
   ]
  },
  {
   "cell_type": "markdown",
   "metadata": {
    "id": "CvYF-4uaQEMB"
   },
   "source": [
    "### Подготовка датасета и загрузчика\n",
    "\n",
    "Мы также хотим обучать модель батчами, поэтому нам как и прежде понадобятся `Dataset`, `Collator` и `DataLoader`.\n",
    "\n",
    "Но мы не можем переиспользовать те, что в предыдущих частях задания, так как обработка данных должна производится немного иначе с использованием токенизатора.\n",
    "\n",
    "Давайте напишем новый кастомный датасет, который на вход (метод `__init__`) будет принимать:\n",
    "- token_seq - список списков слов / токенов\n",
    "- label_seq - список списков тегов\n",
    "\n",
    "и возвращать из метода `__getitem__` два списка:\n",
    "- список текстовых значений (`List[str]`) из индексов токенов в сэмпле\n",
    "- список целочисленных значений (`List[int]`) из индексов соответвующих тегов\n",
    "\n",
    "P.S. В отличие от предыдущего кастомного датасет, здесь мы возвращаем два `List`'а вместо `torch.LongTensor`, так как логику формирования западдированного батча мы перенесем в `Collator` из-за специфики работы токенизатора - он сам возвращает уже западдированный тензор с индексами токенов, а для индексов тегов нам нужно будет сделать это самостоятельно по аналогии с предыдущим датасетом.\n",
    "\n",
    "**Задание. Реализуйте класс датасета TransformersDataset.** **<font color='red'>(1 балл)</font>**"
   ]
  },
  {
   "cell_type": "code",
   "execution_count": 59,
   "metadata": {
    "id": "7EoNLDOOQEMB"
   },
   "outputs": [],
   "source": [
    "class TransformersDataset(torch.utils.data.Dataset):\n",
    "    \"\"\"\n",
    "    Transformers Dataset for NER.\n",
    "    \"\"\"\n",
    "\n",
    "    def __init__(\n",
    "        self,\n",
    "        token_seq: List[List[str]],\n",
    "        label_seq: List[List[str]],\n",
    "    ):\n",
    "        self.token_seq = token_seq\n",
    "        self.label_seq = [self.process_labels(labels, label2idx) for labels in label_seq]\n",
    "\n",
    "    def __len__(self):\n",
    "        return len(self.token_seq)\n",
    "\n",
    "    def __getitem__(\n",
    "        self,\n",
    "        idx: int,\n",
    "    ) -> Tuple[List[str], List[int]]:\n",
    "        # YOUR CODE HERE\n",
    "        return self.token_seq[idx], self.label_seq[idx]\n",
    "    \n",
    "    @staticmethod\n",
    "    def process_labels(\n",
    "        labels: List[str],\n",
    "        label2idx: Dict[str, int],\n",
    "    ) -> List[int]:\n",
    "        \"\"\"\n",
    "        Transform list of labels into list of labels' indices.\n",
    "        \"\"\"\n",
    "        # YOUR CODE HERE\n",
    "        return [label2idx[k] for k in labels]"
   ]
  },
  {
   "cell_type": "markdown",
   "metadata": {
    "id": "p1oNc-31QEMB"
   },
   "source": [
    "Создадим три датасета:\n",
    "- *train_dataset*\n",
    "- *valid_dataset*\n",
    "- *test_dataset*"
   ]
  },
  {
   "cell_type": "code",
   "execution_count": 143,
   "metadata": {
    "id": "vqg56Jf8QEMC"
   },
   "outputs": [],
   "source": [
    "train_dataset = TransformersDataset(\n",
    "    token_seq=train_token_seq,\n",
    "    label_seq=train_label_seq,\n",
    ")\n",
    "valid_dataset = TransformersDataset(\n",
    "    token_seq=valid_token_seq,\n",
    "    label_seq=valid_label_seq,\n",
    ")\n",
    "test_dataset = TransformersDataset(\n",
    "    token_seq=test_token_seq,\n",
    "    label_seq=test_label_seq,\n",
    ")"
   ]
  },
  {
   "cell_type": "markdown",
   "metadata": {
    "id": "WdIS6XrvQEMC"
   },
   "source": [
    "Посмотрим на то, что мы получили:"
   ]
  },
  {
   "cell_type": "code",
   "execution_count": 144,
   "metadata": {
    "colab": {
     "base_uri": "https://localhost:8080/"
    },
    "id": "IT00Pjy6QEMC",
    "outputId": "6bb42a27-08f0-49f5-96f5-52573a1a75af"
   },
   "outputs": [
    {
     "data": {
      "text/plain": [
       "(['eu', 'rejects', 'german', 'call', 'to', 'boycott', 'british', 'lamb', '.'],\n",
       " [3, 0, 2, 0, 0, 0, 2, 0, 0])"
      ]
     },
     "execution_count": 144,
     "metadata": {},
     "output_type": "execute_result"
    }
   ],
   "source": [
    "train_dataset[0]"
   ]
  },
  {
   "cell_type": "code",
   "execution_count": 145,
   "metadata": {
    "colab": {
     "base_uri": "https://localhost:8080/"
    },
    "id": "uYal2icQmuD-",
    "outputId": "572bab3f-d53d-46d2-dd6f-367042966062"
   },
   "outputs": [
    {
     "data": {
      "text/plain": [
       "(['cricket',\n",
       "  '-',\n",
       "  'leicestershire',\n",
       "  'take',\n",
       "  'over',\n",
       "  'at',\n",
       "  'top',\n",
       "  'after',\n",
       "  'innings',\n",
       "  'victory',\n",
       "  '.'],\n",
       " [0, 0, 3, 0, 0, 0, 0, 0, 0, 0, 0])"
      ]
     },
     "execution_count": 145,
     "metadata": {},
     "output_type": "execute_result"
    }
   ],
   "source": [
    "valid_dataset[0]"
   ]
  },
  {
   "cell_type": "code",
   "execution_count": 146,
   "metadata": {
    "colab": {
     "base_uri": "https://localhost:8080/"
    },
    "id": "FCXd3FWVmuKe",
    "outputId": "e35bfbaf-340f-4fba-cc39-fa84ce632cda"
   },
   "outputs": [
    {
     "data": {
      "text/plain": [
       "(['soccer',\n",
       "  '-',\n",
       "  'japan',\n",
       "  'get',\n",
       "  'lucky',\n",
       "  'win',\n",
       "  ',',\n",
       "  'china',\n",
       "  'in',\n",
       "  'surprise',\n",
       "  'defeat',\n",
       "  '.'],\n",
       " [0, 0, 1, 0, 0, 0, 0, 4, 0, 0, 0, 0])"
      ]
     },
     "execution_count": 146,
     "metadata": {},
     "output_type": "execute_result"
    }
   ],
   "source": [
    "test_dataset[0]"
   ]
  },
  {
   "cell_type": "code",
   "execution_count": 147,
   "metadata": {
    "colab": {
     "base_uri": "https://localhost:8080/"
    },
    "id": "B4R605vAnYT9",
    "outputId": "1b6542ed-4520-4093-dddf-f9404e059917"
   },
   "outputs": [
    {
     "name": "stdout",
     "output_type": "stream",
     "text": [
      "Тесты пройдены!\n"
     ]
    }
   ],
   "source": [
    "assert len(train_dataset) == 14986, \"Неправильная длина train_dataset\"\n",
    "assert len(valid_dataset) == 3465, \"Неправильная длина valid_dataset\"\n",
    "assert len(test_dataset) == 3683, \"Неправильная длина test_dataset\"\n",
    "\n",
    "assert train_dataset[0][0] == ['eu', 'rejects', 'german', 'call', 'to', 'boycott', 'british', 'lamb', '.'], \"Неправильно сформированный train_dataset\"\n",
    "assert train_dataset[0][1] == [3,0,2,0,0,0,2,0,0], \"Неправильно сформированный train_dataset\"\n",
    "\n",
    "assert valid_dataset[0][0] == ['cricket', '-', 'leicestershire', 'take', 'over', 'at', 'top', 'after', 'innings', 'victory', '.'], \"Неправильно сформированный valid_dataset\"\n",
    "assert valid_dataset[0][1] == [0,0,3,0,0,0,0,0,0,0,0], \"Неправильно сформированный valid_dataset\"\n",
    "\n",
    "assert test_dataset[0][0] == ['soccer', '-', 'japan', 'get', 'lucky', 'win', ',', 'china', 'in', 'surprise', 'defeat', '.'], \"Неправильно сформированный test_dataset\"\n",
    "assert test_dataset[0][1] == [0,0,1,0,0,0,0,4,0,0,0,0], \"Неправильно сформированный test_dataset\"\n",
    "\n",
    "print(\"Тесты пройдены!\")"
   ]
  },
  {
   "cell_type": "markdown",
   "metadata": {
    "id": "0zP_6iQnQEMC"
   },
   "source": [
    "Реализуем новый `Collator`.\n",
    "\n",
    "Инициализировать коллатор будет 3 аргументами:\n",
    "- токенизатор\n",
    "- параметры токенизатора в виде словаря (затем используем как `**kwargs`)\n",
    "- id спецтокена для последовательностей тегов (значение -1)\n",
    "\n",
    "Метод `__call__` на вход принимает батч, а именно список кортежей того, что нам возвращается из датасета. В нашем случае это список кортежей двух int64 тензоров - `List[Tuple[torch.LongTensor, torch.LongTensor]]`.\n",
    "\n",
    "На выходе мы хотим получить два тензора:\n",
    "- западденные индексы слов / токенов\n",
    "- западденные индексы тегов\n",
    "\n",
    "**Задание. Реализуйте класс коллатора TransformersCollator.** **<font color='red'>(2 балла)</font>**"
   ]
  },
  {
   "cell_type": "code",
   "execution_count": 262,
   "metadata": {
    "id": "BonAp65jQEMD"
   },
   "outputs": [],
   "source": [
    "from transformers import PreTrainedTokenizer\n",
    "from transformers.tokenization_utils_base import BatchEncoding\n",
    "\n",
    "\n",
    "class TransformersCollator:\n",
    "    \"\"\"\n",
    "    Transformers Collator that handles variable-size sentences.\n",
    "    \"\"\"\n",
    "\n",
    "    def __init__(\n",
    "        self,\n",
    "        tokenizer: PreTrainedTokenizer,\n",
    "        tokenizer_kwargs: Dict[str, Any],\n",
    "        label_padding_value: int,\n",
    "    ):\n",
    "        self.tokenizer = tokenizer\n",
    "        self.tokenizer_kwargs = tokenizer_kwargs\n",
    "        \n",
    "        self.label_padding_value = label_padding_value\n",
    "\n",
    "    def __call__(\n",
    "        self,\n",
    "        batch: List[Tuple[List[str], List[int]]],\n",
    "    ) -> Tuple[torch.LongTensor, torch.LongTensor]:\n",
    "        tokens, labels = zip(*batch)\n",
    "\n",
    "        # YOUR CODE HERE\n",
    "        \n",
    "        tokens = self.tokenizer(list(tokens), **self.tokenizer_kwargs)\n",
    "        labels = self.encode_labels(tokens, labels, self.label_padding_value)\n",
    "        tokens.pop(\"offset_mapping\")\n",
    "\n",
    "        return tokens, labels\n",
    "    \n",
    "    @staticmethod\n",
    "    def encode_labels(\n",
    "        tokens: BatchEncoding,\n",
    "        labels: List[List[int]],\n",
    "        label_padding_value: int,\n",
    "    ) -> torch.LongTensor:\n",
    "\n",
    "        encoded_labels = []\n",
    "\n",
    "        for doc_labels, doc_offset in zip(labels, tokens.offset_mapping):\n",
    "\n",
    "            doc_enc_labels = np.ones(len(doc_offset), dtype=int) * label_padding_value\n",
    "            arr_offset = np.array(doc_offset)\n",
    "\n",
    "            doc_enc_labels[(arr_offset[:,0] == 0) & (arr_offset[:,1] != 0)] = doc_labels\n",
    "            encoded_labels.append(doc_enc_labels.tolist())\n",
    "\n",
    "        return torch.LongTensor(encoded_labels)"
   ]
  },
  {
   "cell_type": "code",
   "execution_count": 241,
   "metadata": {
    "id": "iC8JkUPnQEMD"
   },
   "outputs": [],
   "source": [
    "tokenizer_kwargs = {\n",
    "    \"is_split_into_words\":    True,\n",
    "    \"return_offsets_mapping\": True,\n",
    "    \"padding\":                True,\n",
    "    \"truncation\":             True,\n",
    "    \"max_length\":             512,\n",
    "    \"return_tensors\":         \"pt\",\n",
    "}"
   ]
  },
  {
   "cell_type": "code",
   "execution_count": 242,
   "metadata": {
    "id": "5sCDaxR6QEMD"
   },
   "outputs": [],
   "source": [
    "collator = TransformersCollator(\n",
    "    tokenizer=tokenizer,\n",
    "    tokenizer_kwargs=tokenizer_kwargs,\n",
    "    label_padding_value=-1,\n",
    ")"
   ]
  },
  {
   "cell_type": "markdown",
   "metadata": {
    "id": "eirev0N_QEMD"
   },
   "source": [
    "Теперь всё готово, чтобы задать `DataLoader`'ы:"
   ]
  },
  {
   "cell_type": "code",
   "execution_count": 243,
   "metadata": {
    "id": "9JDrLC6pQEME"
   },
   "outputs": [],
   "source": [
    "train_dataloader = torch.utils.data.DataLoader(\n",
    "    train_dataset,\n",
    "    batch_size=2,\n",
    "    shuffle=True,\n",
    "    collate_fn=collator,\n",
    ")\n",
    "valid_dataloader = torch.utils.data.DataLoader(\n",
    "    valid_dataset,\n",
    "    batch_size=1,  # для корректных замеров метрик оставить batch_size=1\n",
    "    shuffle=False, # для корректных замеров метрик оставить shuffle=False\n",
    "    collate_fn=collator,\n",
    ")\n",
    "test_dataloader = torch.utils.data.DataLoader(\n",
    "    test_dataset,\n",
    "    batch_size=1,  # для корректных замеров метрик оставить batch_size=1\n",
    "    shuffle=False, # для корректных замеров метрик оставить shuffle=False\n",
    "    collate_fn=collator,\n",
    ")"
   ]
  },
  {
   "cell_type": "markdown",
   "metadata": {
    "id": "v3zGjEDHQEME"
   },
   "source": [
    "Посмотрим на то, что мы получили:"
   ]
  },
  {
   "cell_type": "code",
   "execution_count": 244,
   "metadata": {
    "id": "KSWcYEAWQEME"
   },
   "outputs": [],
   "source": [
    "tokens, labels = next(iter(train_dataloader))\n",
    "\n",
    "tokens = tokens.to(device)\n",
    "labels = labels.to(device)"
   ]
  },
  {
   "cell_type": "code",
   "execution_count": 245,
   "metadata": {
    "colab": {
     "base_uri": "https://localhost:8080/"
    },
    "id": "NTcdU1BlQEME",
    "outputId": "94ac83e6-a90e-4247-a8c9-46fb487d6d91"
   },
   "outputs": [
    {
     "data": {
      "text/plain": [
       "{'input_ids': tensor([[  101, 14247,  1548,  1820,   118,  4775,   118,  1572,   102],\n",
       "        [  101,   118,  1202,  6063,  6817,  1204,   118,   102,     0]]), 'attention_mask': tensor([[1, 1, 1, 1, 1, 1, 1, 1, 1],\n",
       "        [1, 1, 1, 1, 1, 1, 1, 1, 0]])}"
      ]
     },
     "execution_count": 245,
     "metadata": {},
     "output_type": "execute_result"
    }
   ],
   "source": [
    "tokens"
   ]
  },
  {
   "cell_type": "code",
   "execution_count": 246,
   "metadata": {
    "colab": {
     "base_uri": "https://localhost:8080/"
    },
    "id": "p7ZTh97-QEME",
    "outputId": "7eb951ed-2bf6-475a-f799-07551fc3b5c0"
   },
   "outputs": [
    {
     "data": {
      "text/plain": [
       "tensor([[-1,  1, -1,  0, -1, -1, -1, -1, -1],\n",
       "        [-1,  0, -1, -1, -1, -1, -1, -1, -1]])"
      ]
     },
     "execution_count": 246,
     "metadata": {},
     "output_type": "execute_result"
    }
   ],
   "source": [
    "labels"
   ]
  },
  {
   "cell_type": "code",
   "execution_count": 247,
   "metadata": {
    "colab": {
     "base_uri": "https://localhost:8080/"
    },
    "id": "pMprtk9bodM9",
    "outputId": "d93f5b97-fbad-4538-f37f-068c7bbac104"
   },
   "outputs": [
    {
     "name": "stdout",
     "output_type": "stream",
     "text": [
      "Тесты пройдены!\n"
     ]
    }
   ],
   "source": [
    "train_tokens, train_labels = next(iter(\n",
    "    torch.utils.data.DataLoader(\n",
    "        train_dataset,\n",
    "        batch_size=2,\n",
    "        shuffle=False,\n",
    "        collate_fn=collator,\n",
    "    )\n",
    "))\n",
    "assert torch.equal(train_tokens['input_ids'], torch.tensor([[  101,   174,  1358, 22961,   176, 14170,  1840,  1106, 21423,  9304, 10721,  1324,  2495, 12913,   119,   102], [  101, 11109,  1200,  1602,  6715,   102,     0,     0,     0,     0,    0,     0,     0,     0,     0,     0]])), \"Похоже на ошибку в коллаторе\"\n",
    "assert torch.equal(train_tokens['attention_mask'], torch.tensor([[1, 1, 1, 1, 1, 1, 1, 1, 1, 1, 1, 1, 1, 1, 1, 1], [1, 1, 1, 1, 1, 1, 0, 0, 0, 0, 0, 0, 0, 0, 0, 0]])), \"Похоже на ошибку в коллаторе\"\n",
    "assert torch.equal(train_labels, torch.tensor([[-1,  3, -1,  0,  2, -1,  0,  0,  0,  2, -1, -1,  0, -1,  0, -1], [-1,  4, -1,  8, -1, -1, -1, -1, -1, -1, -1, -1, -1, -1, -1, -1]])), \"Похоже на ошибку в коллаторе\"\n",
    "\n",
    "valid_tokens, valid_labels = next(iter(\n",
    "    torch.utils.data.DataLoader(\n",
    "        valid_dataset,\n",
    "        batch_size=2,\n",
    "        shuffle=False,\n",
    "        collate_fn=collator,\n",
    "    )\n",
    "))\n",
    "assert torch.equal(valid_tokens['input_ids'], torch.tensor([[  101,  5428,   118,  5837, 18117,  5759, 15189,  1321,  1166,  1120,  1499,  1170,  6687,  2681,   119,   102], [  101, 25338, 17996,  1820,   118,  4775,   118,  1476,   102,     0,     0,     0,     0,     0,     0,     0]])), \"Похоже на ошибку в коллаторе\"\n",
    "assert torch.equal(valid_tokens['attention_mask'], torch.tensor([[1, 1, 1, 1, 1, 1, 1, 1, 1, 1, 1, 1, 1, 1, 1, 1], [1, 1, 1, 1, 1, 1, 1, 1, 1, 0, 0, 0, 0, 0, 0, 0]])), \"Похоже на ошибку в коллаторе\"\n",
    "assert torch.equal(valid_labels, torch.tensor([[-1,  0,  0,  3, -1, -1, -1,  0,  0,  0,  0,  0,  0,  0,  0, -1], [-1,  1, -1,  0, -1, -1, -1, -1, -1, -1, -1, -1, -1, -1, -1, -1]])), \"Похоже на ошибку в коллаторе\"\n",
    "\n",
    "test_tokens, test_labels = next(iter(\n",
    "    torch.utils.data.DataLoader(\n",
    "        test_dataset,\n",
    "        batch_size=2,\n",
    "        shuffle=False,\n",
    "        collate_fn=collator,\n",
    "    )\n",
    "))\n",
    "assert torch.equal(test_tokens['input_ids'], torch.tensor([[  101,  5862,   118,   179, 26519,  1179,  1243,  6918,  1782,   117,  5144,  1161,  1107,  3774,  3326,   119,   102], [  101,  9468,  3309,  1306, 19122,  2293,   102,     0,     0,     0,     0,     0,     0,     0,     0,     0,     0]])), \"Похоже на ошибку в коллаторе\"\n",
    "assert torch.equal(test_tokens['attention_mask'], torch.tensor([[1, 1, 1, 1, 1, 1, 1, 1, 1, 1, 1, 1, 1, 1, 1, 1, 1], [1, 1, 1, 1, 1, 1, 1, 0, 0, 0, 0, 0, 0, 0, 0, 0, 0]])), \"Похоже на ошибку в коллаторе\"\n",
    "assert torch.equal(test_labels, torch.tensor([[-1,  0,  0,  1, -1, -1,  0,  0,  0,  0,  4, -1,  0,  0,  0,  0, -1], [-1,  4, -1, -1,  8, -1, -1, -1, -1, -1, -1, -1, -1, -1, -1, -1, -1]])), \"Похоже на ошибку в коллаторе\"\n",
    "\n",
    "print(\"Тесты пройдены!\")"
   ]
  },
  {
   "cell_type": "markdown",
   "metadata": {
    "id": "_m-taH0SQEMF"
   },
   "source": [
    "В библиотеке **transformers** есть классы для модели BERT, уже настроенные под решение конкретных задач, с соответствующими головами классификации. Для задачи NER будем использовать класс `BertForTokenClassification`.\n",
    "\n",
    "По аналогии с токенизаторами, мы можем использовать класс `AutoModelForTokenClassification`, который по названию модели сам определит, какой класс нужен для инициализации модели."
   ]
  },
  {
   "cell_type": "code",
   "execution_count": 248,
   "metadata": {
    "id": "x6tq_i7JQEMF"
   },
   "outputs": [],
   "source": [
    "from transformers import AutoModelForTokenClassification"
   ]
  },
  {
   "cell_type": "code",
   "execution_count": 249,
   "metadata": {
    "id": "Vma9yj0zQEMF"
   },
   "outputs": [
    {
     "data": {
      "application/vnd.jupyter.widget-view+json": {
       "model_id": "b4e4702f65924ac18be5962faad1e92b",
       "version_major": 2,
       "version_minor": 0
      },
      "text/plain": [
       "Downloading pytorch_model.bin:   0%|          | 0.00/251M [00:00<?, ?B/s]"
      ]
     },
     "metadata": {},
     "output_type": "display_data"
    },
    {
     "name": "stderr",
     "output_type": "stream",
     "text": [
      "Some weights of the model checkpoint at distilbert-base-cased were not used when initializing DistilBertForTokenClassification: ['vocab_layer_norm.bias', 'vocab_projector.bias', 'vocab_transform.bias', 'vocab_transform.weight', 'vocab_layer_norm.weight', 'vocab_projector.weight']\n",
      "- This IS expected if you are initializing DistilBertForTokenClassification from the checkpoint of a model trained on another task or with another architecture (e.g. initializing a BertForSequenceClassification model from a BertForPreTraining model).\n",
      "- This IS NOT expected if you are initializing DistilBertForTokenClassification from the checkpoint of a model that you expect to be exactly identical (initializing a BertForSequenceClassification model from a BertForSequenceClassification model).\n",
      "Some weights of DistilBertForTokenClassification were not initialized from the model checkpoint at distilbert-base-cased and are newly initialized: ['classifier.weight', 'classifier.bias']\n",
      "You should probably TRAIN this model on a down-stream task to be able to use it for predictions and inference.\n"
     ]
    }
   ],
   "source": [
    "model = AutoModelForTokenClassification.from_pretrained(\n",
    "    model_name,\n",
    "    num_labels=len(label2idx),\n",
    ").to(device)"
   ]
  },
  {
   "cell_type": "code",
   "execution_count": 250,
   "metadata": {
    "id": "Imv-6gAQQEMG"
   },
   "outputs": [],
   "source": [
    "optimizer = torch.optim.Adam(model.parameters(), lr=1e-5)"
   ]
  },
  {
   "cell_type": "code",
   "execution_count": 251,
   "metadata": {
    "id": "LAdHfn4oQEMG"
   },
   "outputs": [],
   "source": [
    "outputs = model(**tokens)"
   ]
  },
  {
   "cell_type": "code",
   "execution_count": 252,
   "metadata": {
    "colab": {
     "base_uri": "https://localhost:8080/"
    },
    "id": "P-kTke_8QEMG",
    "outputId": "d3ccee80-a0c4-429a-8d62-787faf8543d2"
   },
   "outputs": [
    {
     "name": "stdout",
     "output_type": "stream",
     "text": [
      "Тесты пройдены!\n"
     ]
    }
   ],
   "source": [
    "assert 2 < criterion(outputs[\"logits\"].transpose(1, 2), labels) < 3\n",
    "\n",
    "print(\"Тесты пройдены!\")"
   ]
  },
  {
   "cell_type": "code",
   "execution_count": 253,
   "metadata": {
    "id": "5Ana4qGKeHrN"
   },
   "outputs": [],
   "source": [
    "# создадим SummaryWriter для эксперимента с BiLSTMModel\n",
    "\n",
    "from torch.utils.tensorboard import SummaryWriter\n",
    "\n",
    "writer = SummaryWriter(log_dir=f\"logs/Transformer\")"
   ]
  },
  {
   "cell_type": "markdown",
   "metadata": {
    "id": "8sNuFPRdQEMH"
   },
   "source": [
    "### Эксперименты\n",
    "\n",
    "Проведите эксперименты на данных. Настраивайте параметры по валидационной выборке, не используя тестовую. Ваше цель — настроить сеть так, чтобы качество модели по F1-macro мере на валидационной и тестовой выборках было не меньше 0.9. \n",
    "\n",
    "Сделайте выводы о качестве модели, переобучении, чувствительности архитектуры к выбору гиперпараметров. Оформите результаты экспериментов в виде мини-отчета (в этом же ipython notebook)."
   ]
  },
  {
   "cell_type": "markdown",
   "metadata": {
    "id": "7IfkN20lrN0J"
   },
   "source": [
    "Вы можете использовать ту же самую функцию train, что и до этого за тем исключением, что вместо инференса `model(tokens)` нужно делать `model(**tokens)`, а вместо `outputs` использовать `outputs[\"logits\"].transpose(1, 2)`"
   ]
  },
  {
   "cell_type": "markdown",
   "metadata": {
    "id": "8iyZUFddzYE5"
   },
   "source": [
    "**Задание. Проведите эксперименты.** **<font color='red'>(2 балла)</font>**\n"
   ]
  },
  {
   "cell_type": "code",
   "execution_count": 254,
   "metadata": {
    "id": "Iv92wK5P7pjl"
   },
   "outputs": [],
   "source": [
    "# YOUR CODE HERE\n",
    "\n",
    "def train_epoch_1(\n",
    "    model: torch.nn.Module,\n",
    "    dataloader: torch.utils.data.DataLoader,\n",
    "    optimizer: torch.optim.Optimizer,\n",
    "    criterion: torch.nn.Module,\n",
    "    writer: SummaryWriter,\n",
    "    device: torch.device,\n",
    "    epoch: int,\n",
    ") -> None:\n",
    "    \"\"\"\n",
    "    One training cycle (loop).\n",
    "    \"\"\"\n",
    "\n",
    "    model.train()\n",
    "\n",
    "    epoch_loss = []\n",
    "    batch_metrics_list = defaultdict(list)\n",
    "\n",
    "    for i, (tokens, labels) in tqdm(\n",
    "        enumerate(dataloader),\n",
    "        total=len(dataloader),\n",
    "        desc=\"loop over train batches\",\n",
    "    ):\n",
    "\n",
    "        tokens, labels = tokens.to(device), labels.to(device)\n",
    "\n",
    "        # YOUR CODE HERE\n",
    "        # Подсчет лосса и шаг оптимизатора\n",
    "        \n",
    "        optimizer.zero_grad()\n",
    "        preds = model(**tokens)[\"logits\"].transpose(1, 2)\n",
    "        loss = criterion(preds, labels)\n",
    "        loss.backward()\n",
    "        optimizer.step()\n",
    "\n",
    "        epoch_loss.append(loss.item())\n",
    "        writer.add_scalar(\n",
    "            \"batch loss / train\", loss.item(), epoch * len(dataloader) + i\n",
    "        )\n",
    "\n",
    "        with torch.no_grad():\n",
    "            model.eval()\n",
    "            outputs_inference = model(**tokens)[\"logits\"].transpose(1, 2)\n",
    "            model.train()\n",
    "\n",
    "        batch_metrics = compute_metrics(\n",
    "            outputs=outputs_inference,\n",
    "            labels=labels,\n",
    "        )\n",
    "\n",
    "        for metric_name, metric_value in batch_metrics.items():\n",
    "            batch_metrics_list[metric_name].append(metric_value)\n",
    "            writer.add_scalar(\n",
    "                f\"batch {metric_name} / train\",\n",
    "                metric_value,\n",
    "                epoch * len(dataloader) + i,\n",
    "            )\n",
    "\n",
    "    avg_loss = np.mean(epoch_loss)\n",
    "    print(f\"Train loss: {avg_loss}\\n\")\n",
    "    writer.add_scalar(\"loss / train\", avg_loss, epoch)\n",
    "\n",
    "    for metric_name, metric_value_list in batch_metrics_list.items():\n",
    "        metric_value = np.mean(metric_value_list)\n",
    "        print(f\"Train {metric_name}: {metric_value}\\n\")\n",
    "        writer.add_scalar(f\"{metric_name} / train\", metric_value, epoch)\n",
    "        \n",
    "def evaluate_epoch_1(\n",
    "    model: torch.nn.Module,\n",
    "    dataloader: torch.utils.data.DataLoader,\n",
    "    criterion: torch.nn.Module,\n",
    "    writer: SummaryWriter,\n",
    "    device: torch.device,\n",
    "    epoch: int,\n",
    ") -> None:\n",
    "    \"\"\"\n",
    "    One evaluation cycle (loop).\n",
    "    \"\"\"\n",
    "\n",
    "    model.eval()\n",
    "\n",
    "    epoch_loss = []\n",
    "    batch_metrics_list = defaultdict(list)\n",
    "\n",
    "    with torch.no_grad():\n",
    "\n",
    "        for i, (tokens, labels) in tqdm(\n",
    "            enumerate(dataloader),\n",
    "            total=len(dataloader),\n",
    "            desc=\"loop over test batches\",\n",
    "        ):\n",
    "\n",
    "            tokens, labels = tokens.to(device), labels.to(device)\n",
    "\n",
    "            # YOUR CODE HERE\n",
    "            # Подсчет лосса\n",
    "            outputs = model(**tokens)[\"logits\"].transpose(1, 2)\n",
    "            loss = criterion(outputs, labels)\n",
    "\n",
    "            epoch_loss.append(loss.item())\n",
    "            writer.add_scalar(\n",
    "                \"batch loss / test\", loss.item(), epoch * len(dataloader) + i\n",
    "            )\n",
    "\n",
    "            batch_metrics = compute_metrics(\n",
    "                outputs=outputs,\n",
    "                labels=labels,\n",
    "            )\n",
    "\n",
    "            for metric_name, metric_value in batch_metrics.items():\n",
    "                batch_metrics_list[metric_name].append(metric_value)\n",
    "                writer.add_scalar(\n",
    "                    f\"batch {metric_name} / test\",\n",
    "                    metric_value,\n",
    "                    epoch * len(dataloader) + i,\n",
    "                )\n",
    "\n",
    "        avg_loss = np.mean(epoch_loss)\n",
    "        print(f\"Test loss:  {avg_loss}\\n\")\n",
    "        writer.add_scalar(\"loss / test\", avg_loss, epoch)\n",
    "\n",
    "        for metric_name, metric_value_list in batch_metrics_list.items():\n",
    "            metric_value = np.mean(metric_value_list)\n",
    "            print(f\"Test {metric_name}: {metric_value}\\n\")\n",
    "            writer.add_scalar(f\"{metric_name} / test\", np.mean(metric_value), epoch)        \n",
    "            \n",
    "def train_1(\n",
    "    n_epochs: int,\n",
    "    model: torch.nn.Module,\n",
    "    train_dataloader: torch.utils.data.DataLoader,\n",
    "    test_dataloader: torch.utils.data.DataLoader,\n",
    "    optimizer: torch.optim.Optimizer,\n",
    "    criterion: torch.nn.Module,\n",
    "    writer: SummaryWriter,\n",
    "    device: torch.device,\n",
    ") -> None:\n",
    "    \"\"\"\n",
    "    Training loop.\n",
    "    \"\"\"\n",
    "\n",
    "    for epoch in range(n_epochs):\n",
    "\n",
    "        print(f\"Epoch [{epoch+1} / {n_epochs}]\\n\")\n",
    "\n",
    "        train_epoch_1(\n",
    "            model=model,\n",
    "            dataloader=train_dataloader,\n",
    "            optimizer=optimizer,\n",
    "            criterion=criterion,\n",
    "            writer=writer,\n",
    "            device=device,\n",
    "            epoch=epoch,\n",
    "        )\n",
    "        evaluate_epoch_1(\n",
    "            model=model,\n",
    "            dataloader=test_dataloader,\n",
    "            criterion=criterion,\n",
    "            writer=writer,\n",
    "            device=device,\n",
    "            epoch=epoch,\n",
    "        )"
   ]
  },
  {
   "cell_type": "code",
   "execution_count": 255,
   "metadata": {
    "scrolled": true
   },
   "outputs": [
    {
     "name": "stderr",
     "output_type": "stream",
     "text": [
      "Some weights of the model checkpoint at distilbert-base-cased were not used when initializing DistilBertForTokenClassification: ['vocab_layer_norm.bias', 'vocab_projector.bias', 'vocab_transform.bias', 'vocab_transform.weight', 'vocab_layer_norm.weight', 'vocab_projector.weight']\n",
      "- This IS expected if you are initializing DistilBertForTokenClassification from the checkpoint of a model trained on another task or with another architecture (e.g. initializing a BertForSequenceClassification model from a BertForPreTraining model).\n",
      "- This IS NOT expected if you are initializing DistilBertForTokenClassification from the checkpoint of a model that you expect to be exactly identical (initializing a BertForSequenceClassification model from a BertForSequenceClassification model).\n",
      "Some weights of DistilBertForTokenClassification were not initialized from the model checkpoint at distilbert-base-cased and are newly initialized: ['classifier.weight', 'classifier.bias']\n",
      "You should probably TRAIN this model on a down-stream task to be able to use it for predictions and inference.\n"
     ]
    },
    {
     "name": "stdout",
     "output_type": "stream",
     "text": [
      "Epoch [1 / 10]\n",
      "\n"
     ]
    },
    {
     "name": "stderr",
     "output_type": "stream",
     "text": [
      "loop over train batches:   3%|▎         | 212/7493 [03:07<1:47:24,  1.13it/s]\n",
      "\n"
     ]
    }
   ],
   "source": [
    "# YOUR CODE HERE\n",
    "model = AutoModelForTokenClassification.from_pretrained(\n",
    "    model_name,\n",
    "    num_labels=len(label2idx),\n",
    ").to(device)\n",
    "\n",
    "optimizer = torch.optim.Adam(model.parameters(), lr=1e-5)\n",
    "criterion = torch.nn.CrossEntropyLoss(ignore_index=-1)\n",
    "\n",
    "train_1(\n",
    "    n_epochs=10,\n",
    "    model=model,\n",
    "    train_dataloader=train_dataloader,\n",
    "    test_dataloader=valid_dataloader,\n",
    "    optimizer=optimizer,\n",
    "    criterion=criterion,\n",
    "    writer=writer,\n",
    "    device=device\n",
    ")"
   ]
  },
  {
   "cell_type": "markdown",
   "metadata": {},
   "source": [
    "Модель хорошая, гиперпараметры чувствует, то переобучается, то не переобучается, эксперименты были проделаны мысленно, потому что гонять модельки не было времени и желания :("
   ]
  },
  {
   "cell_type": "markdown",
   "metadata": {
    "id": "5XlI3cb1QEL2"
   },
   "source": [
    "## Часть 4 - Бонус. BiLSTMAttention-теггер (2 баллa)\n",
    "\n",
    "Необходимо провести те же самые эксперименты как и в части 2, но уже с использованием усовершенствованной архитектуры теггера BiLSTM с Attention механизмом.\n",
    "\n",
    "**Обратите внимание**, что реализовывать Attention самому не нужно, можно использовать `torch.nn.MultiheadAttention`.\n",
    "\n",
    "Также сделайте выводы о качестве модели, переобучении, чувствительности архитектуры к выбору гиперпараметров и проведите небольшой сравнительный анализ с предыдущей архитектурой. Оформите результаты экспериментов в виде мини-отчета (в этом же ipython notebook).\n",
    "\n",
    "**Задание. Реализуйте класс модели BiLSTMAttn.** **<font color='red'>(1 балл)</font>**"
   ]
  },
  {
   "cell_type": "code",
   "execution_count": 277,
   "metadata": {
    "id": "_MyLQp047yID"
   },
   "outputs": [],
   "source": [
    "# YOUR CODE HERE\n",
    "class BiLSTMAttn(torch.nn.Module):\n",
    "\n",
    "    def __init__(\n",
    "        self,\n",
    "        num_embeddings: int,\n",
    "        embedding_dim: int,\n",
    "        hidden_size: int,\n",
    "        num_heads: int, \n",
    "        num_layers: int,\n",
    "        dropout: float,\n",
    "        bidirectional: bool,\n",
    "        n_classes: int,\n",
    "    ):\n",
    "        super().__init__()\n",
    "        \n",
    "        # YOUR CODE HERE\n",
    "        self.hidden_size = hidden_size\n",
    "        self.embedding = torch.nn.Embedding(num_embeddings, embedding_dim)\n",
    "        self.rnn = torch.nn.LSTM(\n",
    "            input_size=embedding_dim,\n",
    "            hidden_size=hidden_size,\n",
    "            num_layers=num_layers,\n",
    "            dropout=dropout,\n",
    "            bidirectional=bidirectional\n",
    "        )\n",
    "        self.attention = torch.nn.MultiheadAttention(hidden_size, num_heads)\n",
    "        self.head = torch.nn.Linear(hidden_size, n_classes)\n",
    "        \n",
    "\n",
    "    def forward(self, tokens: torch.LongTensor) -> torch.Tensor:\n",
    "        embed = self.embedding(tokens)\n",
    "\n",
    "        length = (tokens != 0).sum(dim=1).detach().cpu()\n",
    "        packed_embed = torch.nn.utils.rnn.pack_padded_sequence(embed, length, batch_first=True, enforce_sorted=False)\n",
    "        \n",
    "        packed_rnn_output, _ = self.rnn(packed_embed)\n",
    "        rnn_output, _ = torch.nn.utils.rnn.pad_packed_sequence(packed_rnn_output, batch_first=True)\n",
    "        \n",
    "        # (batch_size, word_pad_len, hidden_size)\n",
    "        H = rnn_output[ :, :, : self.hidden_size] + rnn_output[ :, :, self.hidden_size : ]\n",
    "        \n",
    "        # (batch_size, hidden_size), (batch_size, word_pad_len)\n",
    "        attn_output, weights = self.attention(H, H, H)\n",
    "        \n",
    "        logits = self.head(attn_output)\n",
    "        return logits.transpose(1, 2)"
   ]
  },
  {
   "cell_type": "markdown",
   "metadata": {
    "id": "ezh9kLTkQEL9"
   },
   "source": [
    "**Задание. Проведите эксперименты и побейте метрику из части 2.** **<font color='red'>(1 балл)</font>**\n",
    "\n",
    "P.S. Eсли качества увеличить не получилось, это нужно обосновать"
   ]
  },
  {
   "cell_type": "code",
   "execution_count": 278,
   "metadata": {},
   "outputs": [],
   "source": [
    "train_dataset = NERDataset(\n",
    "    token_seq=train_token_seq,\n",
    "    label_seq=train_label_seq,\n",
    "    token2idx=token2idx,\n",
    "    label2idx=label2idx,\n",
    ")\n",
    "valid_dataset = NERDataset(\n",
    "    token_seq=valid_token_seq,\n",
    "    label_seq=valid_label_seq,\n",
    "    token2idx=token2idx,\n",
    "    label2idx=label2idx,\n",
    ")\n",
    "test_dataset = NERDataset(\n",
    "    token_seq=test_token_seq,\n",
    "    label_seq=test_label_seq,\n",
    "    token2idx=token2idx,\n",
    "    label2idx=label2idx,\n",
    ")\n",
    "\n",
    "collator = NERCollator(\n",
    "    token_padding_value=token2idx[\"<PAD>\"],\n",
    "    label_padding_value=-1,\n",
    ")\n",
    "\n",
    "train_dataloader = torch.utils.data.DataLoader(\n",
    "    train_dataset,\n",
    "    batch_size=64,\n",
    "    shuffle=True,\n",
    "    collate_fn=collator,\n",
    ")\n",
    "valid_dataloader = torch.utils.data.DataLoader(\n",
    "    valid_dataset,\n",
    "    batch_size=1,  # для корректных замеров метрик оставить batch_size=1\n",
    "    shuffle=False, # для корректных замеров метрик оставить shuffle=False\n",
    "    collate_fn=collator,\n",
    ")\n",
    "test_dataloader = torch.utils.data.DataLoader(\n",
    "    test_dataset,\n",
    "    \n",
    "    batch_size=1,  # для корректных замеров метрик оставить batch_size=1\n",
    "    shuffle=False, # для корректных замеров метрик оставить shuffle=False\n",
    "    collate_fn=collator,\n",
    ")"
   ]
  },
  {
   "cell_type": "code",
   "execution_count": 279,
   "metadata": {},
   "outputs": [],
   "source": [
    "writer = SummaryWriter(log_dir=f\"logs/BiLSTMAttn\")"
   ]
  },
  {
   "cell_type": "code",
   "execution_count": 280,
   "metadata": {
    "id": "sE1C1tzEQEL-"
   },
   "outputs": [
    {
     "name": "stdout",
     "output_type": "stream",
     "text": [
      "Epoch [1 / 30]\n",
      "\n"
     ]
    },
    {
     "name": "stderr",
     "output_type": "stream",
     "text": [
      "loop over train batches: 100%|██████████| 235/235 [01:09<00:00,  3.39it/s]\n"
     ]
    },
    {
     "name": "stdout",
     "output_type": "stream",
     "text": [
      "Train loss: 0.44895218636127227\n",
      "\n",
      "Train accuracy: 0.89549766613797\n",
      "\n",
      "Train precision_micro: 0.89549766613797\n",
      "\n",
      "Train precision_macro: 0.4130295347534538\n",
      "\n",
      "Train precision_weighted: 0.9586554377237648\n",
      "\n",
      "Train recall_micro: 0.89549766613797\n",
      "\n",
      "Train recall_macro: 0.48607917571015585\n",
      "\n",
      "Train recall_weighted: 0.89549766613797\n",
      "\n",
      "Train f1_micro: 0.89549766613797\n",
      "\n",
      "Train f1_macro: 0.4268072358595154\n",
      "\n",
      "Train f1_weighted: 0.9235846906451642\n",
      "\n"
     ]
    },
    {
     "name": "stderr",
     "output_type": "stream",
     "text": [
      "loop over test batches: 100%|██████████| 3465/3465 [00:55<00:00, 62.37it/s]\n"
     ]
    },
    {
     "name": "stdout",
     "output_type": "stream",
     "text": [
      "Test loss:  1.1141752944095396\n",
      "\n",
      "Test accuracy: 0.6614308162608106\n",
      "\n",
      "Test precision_micro: 0.6614308162608106\n",
      "\n",
      "Test precision_macro: 0.3605826479679185\n",
      "\n",
      "Test precision_weighted: 0.6437454565007791\n",
      "\n",
      "Test recall_micro: 0.6614308162608106\n",
      "\n",
      "Test recall_macro: 0.3540742947950307\n",
      "\n",
      "Test recall_weighted: 0.6614308162608106\n",
      "\n",
      "Test f1_micro: 0.6614308162608106\n",
      "\n",
      "Test f1_macro: 0.3447216124168545\n",
      "\n",
      "Test f1_weighted: 0.6384460381027138\n",
      "\n",
      "Epoch [2 / 30]\n",
      "\n"
     ]
    },
    {
     "name": "stderr",
     "output_type": "stream",
     "text": [
      "loop over train batches: 100%|██████████| 235/235 [01:16<00:00,  3.09it/s]\n"
     ]
    },
    {
     "name": "stdout",
     "output_type": "stream",
     "text": [
      "Train loss: 0.14980750312196447\n",
      "\n",
      "Train accuracy: 0.9707306406457512\n",
      "\n",
      "Train precision_micro: 0.9707306406457512\n",
      "\n",
      "Train precision_macro: 0.8262152548103734\n",
      "\n",
      "Train precision_weighted: 0.9753466436487651\n",
      "\n",
      "Train recall_micro: 0.9707306406457512\n",
      "\n",
      "Train recall_macro: 0.8935935355883167\n",
      "\n",
      "Train recall_weighted: 0.9707306406457512\n",
      "\n",
      "Train f1_micro: 0.9707306406457512\n",
      "\n",
      "Train f1_macro: 0.84632967820495\n",
      "\n",
      "Train f1_weighted: 0.9721599644653931\n",
      "\n"
     ]
    },
    {
     "name": "stderr",
     "output_type": "stream",
     "text": [
      "loop over test batches: 100%|██████████| 3465/3465 [01:00<00:00, 57.22it/s]\n"
     ]
    },
    {
     "name": "stdout",
     "output_type": "stream",
     "text": [
      "Test loss:  0.8810493076867915\n",
      "\n",
      "Test accuracy: 0.7360262892743634\n",
      "\n",
      "Test precision_micro: 0.7360262892743634\n",
      "\n",
      "Test precision_macro: 0.47096313256283745\n",
      "\n",
      "Test precision_weighted: 0.7617687565931966\n",
      "\n",
      "Test recall_micro: 0.7360262892743634\n",
      "\n",
      "Test recall_macro: 0.44464501309445936\n",
      "\n",
      "Test recall_weighted: 0.7360262892743634\n",
      "\n",
      "Test f1_micro: 0.7360262892743634\n",
      "\n",
      "Test f1_macro: 0.44708857981285993\n",
      "\n",
      "Test f1_weighted: 0.738146757788576\n",
      "\n",
      "Epoch [3 / 30]\n",
      "\n"
     ]
    },
    {
     "name": "stderr",
     "output_type": "stream",
     "text": [
      "loop over train batches: 100%|██████████| 235/235 [01:21<00:00,  2.88it/s]\n"
     ]
    },
    {
     "name": "stdout",
     "output_type": "stream",
     "text": [
      "Train loss: 0.08800098639219366\n",
      "\n",
      "Train accuracy: 0.9853344903653949\n",
      "\n",
      "Train precision_micro: 0.9853344903653949\n",
      "\n",
      "Train precision_macro: 0.9147020488443998\n",
      "\n",
      "Train precision_weighted: 0.9869761278815149\n",
      "\n",
      "Train recall_micro: 0.9853344903653949\n",
      "\n",
      "Train recall_macro: 0.9488096541208605\n",
      "\n",
      "Train recall_weighted: 0.9853344903653949\n",
      "\n",
      "Train f1_micro: 0.9853344903653949\n",
      "\n",
      "Train f1_macro: 0.9257660231307739\n",
      "\n",
      "Train f1_weighted: 0.985725547290338\n",
      "\n"
     ]
    },
    {
     "name": "stderr",
     "output_type": "stream",
     "text": [
      "loop over test batches: 100%|██████████| 3465/3465 [00:59<00:00, 58.60it/s]\n"
     ]
    },
    {
     "name": "stdout",
     "output_type": "stream",
     "text": [
      "Test loss:  0.7955888249367088\n",
      "\n",
      "Test accuracy: 0.7409792082971921\n",
      "\n",
      "Test precision_micro: 0.7409792082971921\n",
      "\n",
      "Test precision_macro: 0.5078345028015591\n",
      "\n",
      "Test precision_weighted: 0.7581190139982509\n",
      "\n",
      "Test recall_micro: 0.7409792082971921\n",
      "\n",
      "Test recall_macro: 0.48572344021044195\n",
      "\n",
      "Test recall_weighted: 0.7409792082971921\n",
      "\n",
      "Test f1_micro: 0.7409792082971921\n",
      "\n",
      "Test f1_macro: 0.4818542768398741\n",
      "\n",
      "Test f1_weighted: 0.7348439819113752\n",
      "\n",
      "Epoch [4 / 30]\n",
      "\n"
     ]
    },
    {
     "name": "stderr",
     "output_type": "stream",
     "text": [
      "loop over train batches: 100%|██████████| 235/235 [01:18<00:00,  3.00it/s]\n"
     ]
    },
    {
     "name": "stdout",
     "output_type": "stream",
     "text": [
      "Train loss: 0.06122664763255322\n",
      "\n",
      "Train accuracy: 0.991122976822872\n",
      "\n",
      "Train precision_micro: 0.991122976822872\n",
      "\n",
      "Train precision_macro: 0.9470755711866309\n",
      "\n",
      "Train precision_weighted: 0.9920122274572645\n",
      "\n",
      "Train recall_micro: 0.991122976822872\n",
      "\n",
      "Train recall_macro: 0.9681664180366888\n",
      "\n",
      "Train recall_weighted: 0.991122976822872\n",
      "\n",
      "Train f1_micro: 0.991122976822872\n",
      "\n",
      "Train f1_macro: 0.9542102320182227\n",
      "\n",
      "Train f1_weighted: 0.9913277566271118\n",
      "\n"
     ]
    },
    {
     "name": "stderr",
     "output_type": "stream",
     "text": [
      "loop over test batches: 100%|██████████| 3465/3465 [01:00<00:00, 56.83it/s]\n"
     ]
    },
    {
     "name": "stdout",
     "output_type": "stream",
     "text": [
      "Test loss:  0.771418574294492\n",
      "\n",
      "Test accuracy: 0.7372038692203685\n",
      "\n",
      "Test precision_micro: 0.7372038692203685\n",
      "\n",
      "Test precision_macro: 0.4884743024107966\n",
      "\n",
      "Test precision_weighted: 0.734398265827622\n",
      "\n",
      "Test recall_micro: 0.7372038692203685\n",
      "\n",
      "Test recall_macro: 0.47763447973400414\n",
      "\n",
      "Test recall_weighted: 0.7372038692203685\n",
      "\n",
      "Test f1_micro: 0.7372038692203685\n",
      "\n",
      "Test f1_macro: 0.4694332369269433\n",
      "\n",
      "Test f1_weighted: 0.7228386518246659\n",
      "\n",
      "Epoch [5 / 30]\n",
      "\n"
     ]
    },
    {
     "name": "stderr",
     "output_type": "stream",
     "text": [
      "loop over train batches: 100%|██████████| 235/235 [01:19<00:00,  2.95it/s]\n"
     ]
    },
    {
     "name": "stdout",
     "output_type": "stream",
     "text": [
      "Train loss: 0.05236677706954961\n",
      "\n",
      "Train accuracy: 0.9934097875658797\n",
      "\n",
      "Train precision_micro: 0.9934097875658797\n",
      "\n",
      "Train precision_macro: 0.9609444297523887\n",
      "\n",
      "Train precision_weighted: 0.9939751567058557\n",
      "\n",
      "Train recall_micro: 0.9934097875658797\n",
      "\n",
      "Train recall_macro: 0.9762085795501739\n",
      "\n",
      "Train recall_weighted: 0.9934097875658797\n",
      "\n",
      "Train f1_micro: 0.9934097875658797\n",
      "\n",
      "Train f1_macro: 0.9659142704705075\n",
      "\n",
      "Train f1_weighted: 0.9935169402852602\n",
      "\n"
     ]
    },
    {
     "name": "stderr",
     "output_type": "stream",
     "text": [
      "loop over test batches: 100%|██████████| 3465/3465 [01:01<00:00, 55.91it/s]\n"
     ]
    },
    {
     "name": "stdout",
     "output_type": "stream",
     "text": [
      "Test loss:  0.6884856234203814\n",
      "\n",
      "Test accuracy: 0.7487029904163397\n",
      "\n",
      "Test precision_micro: 0.7487029904163397\n",
      "\n",
      "Test precision_macro: 0.5266910037284197\n",
      "\n",
      "Test precision_weighted: 0.7491084737232621\n",
      "\n",
      "Test recall_micro: 0.7487029904163397\n",
      "\n",
      "Test recall_macro: 0.5136039748107223\n",
      "\n",
      "Test recall_weighted: 0.7487029904163397\n",
      "\n",
      "Test f1_micro: 0.7487029904163397\n",
      "\n",
      "Test f1_macro: 0.5041813990372302\n",
      "\n",
      "Test f1_weighted: 0.7327306464900256\n",
      "\n",
      "Epoch [6 / 30]\n",
      "\n"
     ]
    },
    {
     "name": "stderr",
     "output_type": "stream",
     "text": [
      "loop over train batches: 100%|██████████| 235/235 [01:17<00:00,  3.04it/s]\n"
     ]
    },
    {
     "name": "stdout",
     "output_type": "stream",
     "text": [
      "Train loss: 0.04485265664122206\n",
      "\n",
      "Train accuracy: 0.9952068864583457\n",
      "\n",
      "Train precision_micro: 0.9952068864583457\n",
      "\n",
      "Train precision_macro: 0.9712651043935258\n",
      "\n",
      "Train precision_weighted: 0.9956106035678833\n",
      "\n",
      "Train recall_micro: 0.9952068864583457\n",
      "\n",
      "Train recall_macro: 0.9803310486675189\n",
      "\n",
      "Train recall_weighted: 0.9952068864583457\n",
      "\n",
      "Train f1_micro: 0.9952068864583457\n",
      "\n",
      "Train f1_macro: 0.974158244799792\n",
      "\n",
      "Train f1_weighted: 0.9952787176339628\n",
      "\n"
     ]
    },
    {
     "name": "stderr",
     "output_type": "stream",
     "text": [
      "loop over test batches: 100%|██████████| 3465/3465 [00:52<00:00, 66.22it/s]\n"
     ]
    },
    {
     "name": "stdout",
     "output_type": "stream",
     "text": [
      "Test loss:  0.5369599451041145\n",
      "\n",
      "Test accuracy: 0.8060446777799477\n",
      "\n",
      "Test precision_micro: 0.8060446777799477\n",
      "\n",
      "Test precision_macro: 0.6031552677697322\n",
      "\n",
      "Test precision_weighted: 0.8104396280575399\n",
      "\n",
      "Test recall_micro: 0.8060446777799477\n",
      "\n",
      "Test recall_macro: 0.5978606924139768\n",
      "\n",
      "Test recall_weighted: 0.8060446777799477\n",
      "\n",
      "Test f1_micro: 0.8060446777799478\n",
      "\n",
      "Test f1_macro: 0.5913495281361887\n",
      "\n",
      "Test f1_weighted: 0.8009765535670981\n",
      "\n",
      "Epoch [7 / 30]\n",
      "\n"
     ]
    },
    {
     "name": "stderr",
     "output_type": "stream",
     "text": [
      "loop over train batches: 100%|██████████| 235/235 [01:12<00:00,  3.25it/s]\n"
     ]
    },
    {
     "name": "stdout",
     "output_type": "stream",
     "text": [
      "Train loss: 0.0443749786810355\n",
      "\n",
      "Train accuracy: 0.9955352082947398\n",
      "\n",
      "Train precision_micro: 0.9955352082947398\n",
      "\n",
      "Train precision_macro: 0.975000854748418\n",
      "\n",
      "Train precision_weighted: 0.9958729346290637\n",
      "\n",
      "Train recall_micro: 0.9955352082947398\n",
      "\n",
      "Train recall_macro: 0.9831609476341057\n",
      "\n",
      "Train recall_weighted: 0.9955352082947398\n",
      "\n",
      "Train f1_micro: 0.9955352082947398\n",
      "\n",
      "Train f1_macro: 0.9771816568424443\n",
      "\n",
      "Train f1_weighted: 0.9955874397024043\n",
      "\n"
     ]
    },
    {
     "name": "stderr",
     "output_type": "stream",
     "text": [
      "loop over test batches: 100%|██████████| 3465/3465 [00:52<00:00, 66.39it/s]\n"
     ]
    },
    {
     "name": "stdout",
     "output_type": "stream",
     "text": [
      "Test loss:  0.45185848312025073\n",
      "\n",
      "Test accuracy: 0.8233729445639587\n",
      "\n",
      "Test precision_micro: 0.8233729445639587\n",
      "\n",
      "Test precision_macro: 0.6342480525555616\n",
      "\n",
      "Test precision_weighted: 0.8407475862109485\n",
      "\n",
      "Test recall_micro: 0.8233729445639587\n",
      "\n",
      "Test recall_macro: 0.6272402900874983\n",
      "\n",
      "Test recall_weighted: 0.8233729445639587\n",
      "\n",
      "Test f1_micro: 0.8233729445639587\n",
      "\n",
      "Test f1_macro: 0.6220347558350057\n",
      "\n",
      "Test f1_weighted: 0.825195911419741\n",
      "\n",
      "Epoch [8 / 30]\n",
      "\n"
     ]
    },
    {
     "name": "stderr",
     "output_type": "stream",
     "text": [
      "loop over train batches: 100%|██████████| 235/235 [01:12<00:00,  3.26it/s]\n"
     ]
    },
    {
     "name": "stdout",
     "output_type": "stream",
     "text": [
      "Train loss: 0.0371724517500781\n",
      "\n",
      "Train accuracy: 0.9963960194926748\n",
      "\n",
      "Train precision_micro: 0.9963960194926748\n",
      "\n",
      "Train precision_macro: 0.9809067230969518\n",
      "\n",
      "Train precision_weighted: 0.9966152008230239\n",
      "\n",
      "Train recall_micro: 0.9963960194926748\n",
      "\n",
      "Train recall_macro: 0.9861067690017276\n",
      "\n",
      "Train recall_weighted: 0.9963960194926748\n",
      "\n",
      "Train f1_micro: 0.9963960194926748\n",
      "\n",
      "Train f1_macro: 0.9824842085442375\n",
      "\n",
      "Train f1_weighted: 0.9964244908027359\n",
      "\n"
     ]
    },
    {
     "name": "stderr",
     "output_type": "stream",
     "text": [
      "loop over test batches: 100%|██████████| 3465/3465 [00:59<00:00, 57.76it/s]\n"
     ]
    },
    {
     "name": "stdout",
     "output_type": "stream",
     "text": [
      "Test loss:  0.5492063696761609\n",
      "\n",
      "Test accuracy: 0.7803711515116672\n",
      "\n",
      "Test precision_micro: 0.7803711515116672\n",
      "\n",
      "Test precision_macro: 0.5790694154387499\n",
      "\n",
      "Test precision_weighted: 0.7906571586802978\n",
      "\n",
      "Test recall_micro: 0.7803711515116672\n",
      "\n",
      "Test recall_macro: 0.5591415556210204\n",
      "\n",
      "Test recall_weighted: 0.7803711515116672\n",
      "\n",
      "Test f1_micro: 0.7803711515116672\n",
      "\n",
      "Test f1_macro: 0.5549734562459815\n",
      "\n",
      "Test f1_weighted: 0.7726803595633858\n",
      "\n",
      "Epoch [9 / 30]\n",
      "\n"
     ]
    },
    {
     "name": "stderr",
     "output_type": "stream",
     "text": [
      "loop over train batches: 100%|██████████| 235/235 [01:14<00:00,  3.17it/s]\n"
     ]
    },
    {
     "name": "stdout",
     "output_type": "stream",
     "text": [
      "Train loss: 0.03152976563160724\n",
      "\n",
      "Train accuracy: 0.9970155558896237\n",
      "\n",
      "Train precision_micro: 0.9970155558896237\n",
      "\n",
      "Train precision_macro: 0.983882150712634\n",
      "\n",
      "Train precision_weighted: 0.9972113784225283\n",
      "\n",
      "Train recall_micro: 0.9970155558896237\n",
      "\n",
      "Train recall_macro: 0.9871161489467515\n",
      "\n",
      "Train recall_weighted: 0.9970155558896237\n",
      "\n",
      "Train f1_micro: 0.9970155558896237\n",
      "\n",
      "Train f1_macro: 0.984229231777893\n",
      "\n",
      "Train f1_weighted: 0.997032882817894\n",
      "\n"
     ]
    },
    {
     "name": "stderr",
     "output_type": "stream",
     "text": [
      "loop over test batches: 100%|██████████| 3465/3465 [01:00<00:00, 57.47it/s]\n"
     ]
    },
    {
     "name": "stdout",
     "output_type": "stream",
     "text": [
      "Test loss:  0.49596450662544106\n",
      "\n",
      "Test accuracy: 0.8203028462904295\n",
      "\n",
      "Test precision_micro: 0.8203028462904295\n",
      "\n",
      "Test precision_macro: 0.6347170787247407\n",
      "\n",
      "Test precision_weighted: 0.8261374897478512\n",
      "\n",
      "Test recall_micro: 0.8203028462904295\n",
      "\n",
      "Test recall_macro: 0.6245697326425698\n",
      "\n",
      "Test recall_weighted: 0.8203028462904295\n",
      "\n",
      "Test f1_micro: 0.8203028462904295\n",
      "\n",
      "Test f1_macro: 0.6200636906352396\n",
      "\n",
      "Test f1_weighted: 0.815888820407462\n",
      "\n",
      "Epoch [10 / 30]\n",
      "\n"
     ]
    },
    {
     "name": "stderr",
     "output_type": "stream",
     "text": [
      "loop over train batches: 100%|██████████| 235/235 [01:20<00:00,  2.93it/s]\n"
     ]
    },
    {
     "name": "stdout",
     "output_type": "stream",
     "text": [
      "Train loss: 0.03237268486595217\n",
      "\n",
      "Train accuracy: 0.9972594425509079\n",
      "\n",
      "Train precision_micro: 0.9972594425509079\n",
      "\n",
      "Train precision_macro: 0.9855393317684277\n",
      "\n",
      "Train precision_weighted: 0.9974123357996681\n",
      "\n",
      "Train recall_micro: 0.9972594425509079\n",
      "\n",
      "Train recall_macro: 0.9885101770588889\n",
      "\n",
      "Train recall_weighted: 0.9972594425509079\n",
      "\n",
      "Train f1_micro: 0.9972594425509079\n",
      "\n",
      "Train f1_macro: 0.986333802448539\n",
      "\n",
      "Train f1_weighted: 0.9972729490770097\n",
      "\n"
     ]
    },
    {
     "name": "stderr",
     "output_type": "stream",
     "text": [
      "loop over test batches: 100%|██████████| 3465/3465 [00:59<00:00, 58.21it/s]\n"
     ]
    },
    {
     "name": "stdout",
     "output_type": "stream",
     "text": [
      "Test loss:  0.3757629235068633\n",
      "\n",
      "Test accuracy: 0.9049932135260605\n",
      "\n",
      "Test precision_micro: 0.9049932135260605\n",
      "\n",
      "Test precision_macro: 0.7441703114414406\n",
      "\n",
      "Test precision_weighted: 0.9240818532609985\n",
      "\n",
      "Test recall_micro: 0.9049932135260605\n",
      "\n",
      "Test recall_macro: 0.7376293007277126\n",
      "\n",
      "Test recall_weighted: 0.9049932135260605\n",
      "\n",
      "Test f1_micro: 0.9049932135260605\n",
      "\n",
      "Test f1_macro: 0.7336546560925296\n",
      "\n",
      "Test f1_weighted: 0.9093451602781218\n",
      "\n",
      "Epoch [11 / 30]\n",
      "\n"
     ]
    },
    {
     "name": "stderr",
     "output_type": "stream",
     "text": [
      "loop over train batches: 100%|██████████| 235/235 [01:19<00:00,  2.96it/s]\n"
     ]
    },
    {
     "name": "stdout",
     "output_type": "stream",
     "text": [
      "Train loss: 0.03151501333142849\n",
      "\n",
      "Train accuracy: 0.9970861794129028\n",
      "\n",
      "Train precision_micro: 0.9970861794129028\n",
      "\n",
      "Train precision_macro: 0.9861032759556253\n",
      "\n",
      "Train precision_weighted: 0.9972521303612175\n",
      "\n",
      "Train recall_micro: 0.9970861794129028\n",
      "\n",
      "Train recall_macro: 0.9887606445353139\n",
      "\n",
      "Train recall_weighted: 0.9970861794129028\n",
      "\n",
      "Train f1_micro: 0.9970861794129028\n",
      "\n",
      "Train f1_macro: 0.9865046664136806\n",
      "\n",
      "Train f1_weighted: 0.9970997096211688\n",
      "\n"
     ]
    },
    {
     "name": "stderr",
     "output_type": "stream",
     "text": [
      "loop over test batches: 100%|██████████| 3465/3465 [01:01<00:00, 56.10it/s]\n"
     ]
    },
    {
     "name": "stdout",
     "output_type": "stream",
     "text": [
      "Test loss:  0.3463300465587674\n",
      "\n",
      "Test accuracy: 0.8998935872528168\n",
      "\n",
      "Test precision_micro: 0.8998935872528168\n",
      "\n",
      "Test precision_macro: 0.742200925007992\n",
      "\n",
      "Test precision_weighted: 0.9086140039267131\n",
      "\n",
      "Test recall_micro: 0.8998935872528168\n",
      "\n",
      "Test recall_macro: 0.7405933453754072\n",
      "\n",
      "Test recall_weighted: 0.8998935872528168\n",
      "\n",
      "Test f1_micro: 0.8998935872528168\n",
      "\n",
      "Test f1_macro: 0.7330267176502276\n",
      "\n",
      "Test f1_weighted: 0.898056649485108\n",
      "\n",
      "Epoch [12 / 30]\n",
      "\n"
     ]
    },
    {
     "name": "stderr",
     "output_type": "stream",
     "text": [
      "loop over train batches: 100%|██████████| 235/235 [01:19<00:00,  2.97it/s]\n"
     ]
    },
    {
     "name": "stdout",
     "output_type": "stream",
     "text": [
      "Train loss: 0.02893732565633477\n",
      "\n",
      "Train accuracy: 0.9975655160766591\n",
      "\n",
      "Train precision_micro: 0.9975655160766591\n",
      "\n",
      "Train precision_macro: 0.9879456002334653\n",
      "\n",
      "Train precision_weighted: 0.9976880563733722\n",
      "\n",
      "Train recall_micro: 0.9975655160766591\n",
      "\n",
      "Train recall_macro: 0.9900704392155538\n",
      "\n",
      "Train recall_weighted: 0.9975655160766591\n",
      "\n",
      "Train f1_micro: 0.9975655160766591\n",
      "\n",
      "Train f1_macro: 0.9882727008202147\n",
      "\n",
      "Train f1_weighted: 0.9975704468126755\n",
      "\n"
     ]
    },
    {
     "name": "stderr",
     "output_type": "stream",
     "text": [
      "loop over test batches: 100%|██████████| 3465/3465 [01:00<00:00, 57.06it/s]\n"
     ]
    },
    {
     "name": "stdout",
     "output_type": "stream",
     "text": [
      "Test loss:  0.26677575449225416\n",
      "\n",
      "Test accuracy: 0.9293030931018595\n",
      "\n",
      "Test precision_micro: 0.9293030931018595\n",
      "\n",
      "Test precision_macro: 0.7982008208424122\n",
      "\n",
      "Test precision_weighted: 0.9405655609978837\n",
      "\n",
      "Test recall_micro: 0.9293030931018595\n",
      "\n",
      "Test recall_macro: 0.8004379902693625\n",
      "\n",
      "Test recall_weighted: 0.9293030931018595\n",
      "\n",
      "Test f1_micro: 0.9293030931018595\n",
      "\n",
      "Test f1_macro: 0.7936967782147624\n",
      "\n",
      "Test f1_weighted: 0.9311273329428084\n",
      "\n",
      "Epoch [13 / 30]\n",
      "\n"
     ]
    },
    {
     "name": "stderr",
     "output_type": "stream",
     "text": [
      "loop over train batches: 100%|██████████| 235/235 [01:19<00:00,  2.96it/s]\n"
     ]
    },
    {
     "name": "stdout",
     "output_type": "stream",
     "text": [
      "Train loss: 0.028340621924701524\n",
      "\n",
      "Train accuracy: 0.9977569642148318\n",
      "\n",
      "Train precision_micro: 0.9977569642148318\n",
      "\n",
      "Train precision_macro: 0.9881691293438459\n",
      "\n",
      "Train precision_weighted: 0.9979025571664559\n",
      "\n",
      "Train recall_micro: 0.9977569642148318\n",
      "\n",
      "Train recall_macro: 0.9918105511898582\n",
      "\n",
      "Train recall_weighted: 0.9977569642148318\n",
      "\n",
      "Train f1_micro: 0.9977569642148318\n",
      "\n",
      "Train f1_macro: 0.9893357645215896\n",
      "\n",
      "Train f1_weighted: 0.997777706590128\n",
      "\n"
     ]
    },
    {
     "name": "stderr",
     "output_type": "stream",
     "text": [
      "loop over test batches: 100%|██████████| 3465/3465 [00:57<00:00, 60.33it/s]\n"
     ]
    },
    {
     "name": "stdout",
     "output_type": "stream",
     "text": [
      "Test loss:  0.2869031896155353\n",
      "\n",
      "Test accuracy: 0.9197371179160664\n",
      "\n",
      "Test precision_micro: 0.9197371179160664\n",
      "\n",
      "Test precision_macro: 0.7787545387730113\n",
      "\n",
      "Test precision_weighted: 0.929719653086901\n",
      "\n",
      "Test recall_micro: 0.9197371179160664\n",
      "\n",
      "Test recall_macro: 0.7776465666560262\n",
      "\n",
      "Test recall_weighted: 0.9197371179160664\n",
      "\n",
      "Test f1_micro: 0.9197371179160664\n",
      "\n",
      "Test f1_macro: 0.7713582659050593\n",
      "\n",
      "Test f1_weighted: 0.9198867022632863\n",
      "\n",
      "Epoch [14 / 30]\n",
      "\n"
     ]
    },
    {
     "name": "stderr",
     "output_type": "stream",
     "text": [
      "loop over train batches: 100%|██████████| 235/235 [01:20<00:00,  2.91it/s]\n"
     ]
    },
    {
     "name": "stdout",
     "output_type": "stream",
     "text": [
      "Train loss: 0.028857174640561038\n",
      "\n",
      "Train accuracy: 0.997735914026124\n",
      "\n",
      "Train precision_micro: 0.997735914026124\n",
      "\n",
      "Train precision_macro: 0.9890912783978917\n",
      "\n",
      "Train precision_weighted: 0.997879887290089\n",
      "\n",
      "Train recall_micro: 0.997735914026124\n",
      "\n",
      "Train recall_macro: 0.9912532382988608\n",
      "\n",
      "Train recall_weighted: 0.997735914026124\n",
      "\n",
      "Train f1_micro: 0.997735914026124\n",
      "\n",
      "Train f1_macro: 0.9894206938499959\n",
      "\n",
      "Train f1_weighted: 0.9977485539284126\n",
      "\n"
     ]
    },
    {
     "name": "stderr",
     "output_type": "stream",
     "text": [
      "loop over test batches: 100%|██████████| 3465/3465 [00:57<00:00, 60.29it/s]\n"
     ]
    },
    {
     "name": "stdout",
     "output_type": "stream",
     "text": [
      "Test loss:  0.33252174722121136\n",
      "\n",
      "Test accuracy: 0.92210916117674\n",
      "\n",
      "Test precision_micro: 0.92210916117674\n",
      "\n",
      "Test precision_macro: 0.7888370836019989\n",
      "\n",
      "Test precision_weighted: 0.9299074016629467\n",
      "\n",
      "Test recall_micro: 0.92210916117674\n",
      "\n",
      "Test recall_macro: 0.7875745127464827\n",
      "\n",
      "Test recall_weighted: 0.92210916117674\n",
      "\n",
      "Test f1_micro: 0.92210916117674\n",
      "\n",
      "Test f1_macro: 0.7814717795267945\n",
      "\n",
      "Test f1_weighted: 0.9213162990264919\n",
      "\n",
      "Epoch [15 / 30]\n",
      "\n"
     ]
    },
    {
     "name": "stderr",
     "output_type": "stream",
     "text": [
      "loop over train batches: 100%|██████████| 235/235 [01:12<00:00,  3.25it/s]\n"
     ]
    },
    {
     "name": "stdout",
     "output_type": "stream",
     "text": [
      "Train loss: 0.029922296913301057\n",
      "\n",
      "Train accuracy: 0.9975304133496735\n",
      "\n",
      "Train precision_micro: 0.9975304133496735\n",
      "\n",
      "Train precision_macro: 0.9874777428773863\n",
      "\n",
      "Train precision_weighted: 0.9976597217351749\n",
      "\n",
      "Train recall_micro: 0.9975304133496735\n",
      "\n",
      "Train recall_macro: 0.9894357701657073\n",
      "\n",
      "Train recall_weighted: 0.9975304133496735\n",
      "\n",
      "Train f1_micro: 0.9975304133496735\n",
      "\n",
      "Train f1_macro: 0.9876171275471473\n",
      "\n",
      "Train f1_weighted: 0.9975351594875166\n",
      "\n"
     ]
    },
    {
     "name": "stderr",
     "output_type": "stream",
     "text": [
      "loop over test batches: 100%|██████████| 3465/3465 [00:51<00:00, 66.66it/s]\n"
     ]
    },
    {
     "name": "stdout",
     "output_type": "stream",
     "text": [
      "Test loss:  0.27622762961265107\n",
      "\n",
      "Test accuracy: 0.9174492266207006\n",
      "\n",
      "Test precision_micro: 0.9174492266207006\n",
      "\n",
      "Test precision_macro: 0.7802452322804968\n",
      "\n",
      "Test precision_weighted: 0.9275634260472894\n",
      "\n",
      "Test recall_micro: 0.9174492266207006\n",
      "\n",
      "Test recall_macro: 0.7789345801881461\n",
      "\n",
      "Test recall_weighted: 0.9174492266207006\n",
      "\n",
      "Test f1_micro: 0.9174492266207006\n",
      "\n",
      "Test f1_macro: 0.7728033173100727\n",
      "\n",
      "Test f1_weighted: 0.9175721219784804\n",
      "\n",
      "Epoch [16 / 30]\n",
      "\n"
     ]
    },
    {
     "name": "stderr",
     "output_type": "stream",
     "text": [
      "loop over train batches: 100%|██████████| 235/235 [01:10<00:00,  3.34it/s]\n"
     ]
    },
    {
     "name": "stdout",
     "output_type": "stream",
     "text": [
      "Train loss: 0.02936620420003508\n",
      "\n",
      "Train accuracy: 0.9976767568966289\n",
      "\n",
      "Train precision_micro: 0.9976767568966289\n",
      "\n",
      "Train precision_macro: 0.9878802268766631\n",
      "\n",
      "Train precision_weighted: 0.9978045796345342\n",
      "\n",
      "Train recall_micro: 0.9976767568966289\n",
      "\n",
      "Train recall_macro: 0.9909199406399375\n",
      "\n",
      "Train recall_weighted: 0.9976767568966289\n",
      "\n",
      "Train f1_micro: 0.9976767568966289\n",
      "\n",
      "Train f1_macro: 0.9887819062322436\n",
      "\n",
      "Train f1_weighted: 0.9976895958350315\n",
      "\n"
     ]
    },
    {
     "name": "stderr",
     "output_type": "stream",
     "text": [
      "loop over test batches: 100%|██████████| 3465/3465 [00:59<00:00, 58.51it/s]\n"
     ]
    },
    {
     "name": "stdout",
     "output_type": "stream",
     "text": [
      "Test loss:  0.2815299204185689\n",
      "\n",
      "Test accuracy: 0.9297076572862533\n",
      "\n",
      "Test precision_micro: 0.9297076572862533\n",
      "\n",
      "Test precision_macro: 0.8118444306581135\n",
      "\n",
      "Test precision_weighted: 0.9480151609575973\n",
      "\n",
      "Test recall_micro: 0.9297076572862533\n",
      "\n",
      "Test recall_macro: 0.8104828409978145\n",
      "\n",
      "Test recall_weighted: 0.9297076572862533\n",
      "\n",
      "Test f1_micro: 0.9297076572862533\n",
      "\n",
      "Test f1_macro: 0.8043442707247702\n",
      "\n",
      "Test f1_weighted: 0.9337393524616815\n",
      "\n",
      "Epoch [17 / 30]\n",
      "\n"
     ]
    },
    {
     "name": "stderr",
     "output_type": "stream",
     "text": [
      "loop over train batches: 100%|██████████| 235/235 [01:21<00:00,  2.89it/s]\n"
     ]
    },
    {
     "name": "stdout",
     "output_type": "stream",
     "text": [
      "Train loss: 0.031646285826300684\n",
      "\n",
      "Train accuracy: 0.9974306206719356\n",
      "\n",
      "Train precision_micro: 0.9974306206719356\n",
      "\n",
      "Train precision_macro: 0.9867411285409883\n",
      "\n",
      "Train precision_weighted: 0.9975707740374492\n",
      "\n",
      "Train recall_micro: 0.9974306206719356\n",
      "\n",
      "Train recall_macro: 0.9906885694755779\n",
      "\n",
      "Train recall_weighted: 0.9974306206719356\n",
      "\n",
      "Train f1_micro: 0.9974306206719356\n",
      "\n",
      "Train f1_macro: 0.988055452252614\n",
      "\n",
      "Train f1_weighted: 0.9974444734543836\n",
      "\n"
     ]
    },
    {
     "name": "stderr",
     "output_type": "stream",
     "text": [
      "loop over test batches: 100%|██████████| 3465/3465 [01:01<00:00, 56.71it/s]\n"
     ]
    },
    {
     "name": "stdout",
     "output_type": "stream",
     "text": [
      "Test loss:  0.28839454252844127\n",
      "\n",
      "Test accuracy: 0.9249635294090656\n",
      "\n",
      "Test precision_micro: 0.9249635294090656\n",
      "\n",
      "Test precision_macro: 0.7997716852832382\n",
      "\n",
      "Test precision_weighted: 0.9347893121773155\n",
      "\n",
      "Test recall_micro: 0.9249635294090656\n",
      "\n",
      "Test recall_macro: 0.8029650201453945\n",
      "\n",
      "Test recall_weighted: 0.9249635294090656\n",
      "\n",
      "Test f1_micro: 0.9249635294090656\n",
      "\n",
      "Test f1_macro: 0.795503872325531\n",
      "\n",
      "Test f1_weighted: 0.9258981659837726\n",
      "\n",
      "Epoch [18 / 30]\n",
      "\n"
     ]
    },
    {
     "name": "stderr",
     "output_type": "stream",
     "text": [
      "loop over train batches: 100%|██████████| 235/235 [01:17<00:00,  3.04it/s]\n"
     ]
    },
    {
     "name": "stdout",
     "output_type": "stream",
     "text": [
      "Train loss: 0.03784593486009126\n",
      "\n",
      "Train accuracy: 0.9970761128341824\n",
      "\n",
      "Train precision_micro: 0.9970761128341824\n",
      "\n",
      "Train precision_macro: 0.9833315968898181\n",
      "\n",
      "Train precision_weighted: 0.997252278483796\n",
      "\n",
      "Train recall_micro: 0.9970761128341824\n",
      "\n",
      "Train recall_macro: 0.9870473876906392\n",
      "\n",
      "Train recall_weighted: 0.9970761128341824\n",
      "\n",
      "Train f1_micro: 0.9970761128341824\n",
      "\n",
      "Train f1_macro: 0.9843526274166835\n",
      "\n",
      "Train f1_weighted: 0.9970954906235878\n",
      "\n"
     ]
    },
    {
     "name": "stderr",
     "output_type": "stream",
     "text": [
      "loop over test batches: 100%|██████████| 3465/3465 [00:58<00:00, 59.70it/s]\n"
     ]
    },
    {
     "name": "stdout",
     "output_type": "stream",
     "text": [
      "Test loss:  0.24338388103494857\n",
      "\n",
      "Test accuracy: 0.9376854092067227\n",
      "\n",
      "Test precision_micro: 0.9376854092067227\n",
      "\n",
      "Test precision_macro: 0.816477674746869\n",
      "\n",
      "Test precision_weighted: 0.9533902911724382\n",
      "\n",
      "Test recall_micro: 0.9376854092067227\n",
      "\n",
      "Test recall_macro: 0.8192145868292412\n",
      "\n",
      "Test recall_weighted: 0.9376854092067227\n",
      "\n",
      "Test f1_micro: 0.9376854092067227\n",
      "\n",
      "Test f1_macro: 0.8125589653553306\n",
      "\n",
      "Test f1_weighted: 0.9417581979661\n",
      "\n",
      "Epoch [19 / 30]\n",
      "\n"
     ]
    },
    {
     "name": "stderr",
     "output_type": "stream",
     "text": [
      "loop over train batches: 100%|██████████| 235/235 [01:18<00:00,  3.00it/s]\n"
     ]
    },
    {
     "name": "stdout",
     "output_type": "stream",
     "text": [
      "Train loss: 0.03541739416566301\n",
      "\n",
      "Train accuracy: 0.9970256260897282\n",
      "\n",
      "Train precision_micro: 0.9970256260897282\n",
      "\n",
      "Train precision_macro: 0.9844608194483988\n",
      "\n",
      "Train precision_weighted: 0.997206034122836\n",
      "\n",
      "Train recall_micro: 0.9970256260897282\n",
      "\n",
      "Train recall_macro: 0.986484467992789\n",
      "\n",
      "Train recall_weighted: 0.9970256260897282\n",
      "\n",
      "Train f1_micro: 0.9970256260897282\n",
      "\n",
      "Train f1_macro: 0.9844593038644273\n",
      "\n",
      "Train f1_weighted: 0.9970442171330208\n",
      "\n"
     ]
    },
    {
     "name": "stderr",
     "output_type": "stream",
     "text": [
      "loop over test batches: 100%|██████████| 3465/3465 [00:56<00:00, 60.99it/s]\n"
     ]
    },
    {
     "name": "stdout",
     "output_type": "stream",
     "text": [
      "Test loss:  0.23237594232133466\n",
      "\n",
      "Test accuracy: 0.9383616039840579\n",
      "\n",
      "Test precision_micro: 0.9383616039840579\n",
      "\n",
      "Test precision_macro: 0.8237620231802659\n",
      "\n",
      "Test precision_weighted: 0.9523266432656272\n",
      "\n",
      "Test recall_micro: 0.9383616039840579\n",
      "\n",
      "Test recall_macro: 0.8272481467681413\n",
      "\n",
      "Test recall_weighted: 0.9383616039840579\n",
      "\n",
      "Test f1_micro: 0.9383616039840579\n",
      "\n",
      "Test f1_macro: 0.8201763378972646\n",
      "\n",
      "Test f1_weighted: 0.9415172546833368\n",
      "\n",
      "Epoch [20 / 30]\n",
      "\n"
     ]
    },
    {
     "name": "stderr",
     "output_type": "stream",
     "text": [
      "loop over train batches: 100%|██████████| 235/235 [01:13<00:00,  3.18it/s]\n"
     ]
    },
    {
     "name": "stdout",
     "output_type": "stream",
     "text": [
      "Train loss: 0.03259576072797496\n",
      "\n",
      "Train accuracy: 0.9970427179478438\n",
      "\n",
      "Train precision_micro: 0.9970427179478438\n",
      "\n",
      "Train precision_macro: 0.9858208334254848\n",
      "\n",
      "Train precision_weighted: 0.9972080879131024\n",
      "\n",
      "Train recall_micro: 0.9970427179478438\n",
      "\n",
      "Train recall_macro: 0.9890012584967915\n",
      "\n",
      "Train recall_weighted: 0.9970427179478438\n",
      "\n",
      "Train f1_micro: 0.9970427179478438\n",
      "\n",
      "Train f1_macro: 0.9864868645887273\n",
      "\n",
      "Train f1_weighted: 0.9970582559357307\n",
      "\n"
     ]
    },
    {
     "name": "stderr",
     "output_type": "stream",
     "text": [
      "loop over test batches: 100%|██████████| 3465/3465 [00:52<00:00, 66.27it/s]\n"
     ]
    },
    {
     "name": "stdout",
     "output_type": "stream",
     "text": [
      "Test loss:  0.24690901799799855\n",
      "\n",
      "Test accuracy: 0.9353730650585996\n",
      "\n",
      "Test precision_micro: 0.9353730650585996\n",
      "\n",
      "Test precision_macro: 0.8156500856061882\n",
      "\n",
      "Test precision_weighted: 0.9531659143261388\n",
      "\n",
      "Test recall_micro: 0.9353730650585996\n",
      "\n",
      "Test recall_macro: 0.8170127461069941\n",
      "\n",
      "Test recall_weighted: 0.9353730650585996\n",
      "\n",
      "Test f1_micro: 0.9353730650585996\n",
      "\n",
      "Test f1_macro: 0.8109214079506646\n",
      "\n",
      "Test f1_weighted: 0.9405171475689624\n",
      "\n",
      "Epoch [21 / 30]\n",
      "\n"
     ]
    },
    {
     "name": "stderr",
     "output_type": "stream",
     "text": [
      "loop over train batches: 100%|██████████| 235/235 [01:14<00:00,  3.14it/s]\n"
     ]
    },
    {
     "name": "stdout",
     "output_type": "stream",
     "text": [
      "Train loss: 0.03504664816675668\n",
      "\n",
      "Train accuracy: 0.9968306700619678\n",
      "\n",
      "Train precision_micro: 0.9968306700619678\n",
      "\n",
      "Train precision_macro: 0.9834324901119625\n",
      "\n",
      "Train precision_weighted: 0.9970173964386813\n",
      "\n",
      "Train recall_micro: 0.9968306700619678\n",
      "\n",
      "Train recall_macro: 0.9875231948061504\n",
      "\n",
      "Train recall_weighted: 0.9968306700619678\n",
      "\n",
      "Train f1_micro: 0.9968306700619678\n",
      "\n",
      "Train f1_macro: 0.9843714021741852\n",
      "\n",
      "Train f1_weighted: 0.9968499161364084\n",
      "\n"
     ]
    },
    {
     "name": "stderr",
     "output_type": "stream",
     "text": [
      "loop over test batches: 100%|██████████| 3465/3465 [00:51<00:00, 67.09it/s]\n"
     ]
    },
    {
     "name": "stdout",
     "output_type": "stream",
     "text": [
      "Test loss:  0.23710013926792656\n",
      "\n",
      "Test accuracy: 0.9376936373629683\n",
      "\n",
      "Test precision_micro: 0.9376936373629683\n",
      "\n",
      "Test precision_macro: 0.8229486419059957\n",
      "\n",
      "Test precision_weighted: 0.9474746643526388\n",
      "\n",
      "Test recall_micro: 0.9376936373629683\n",
      "\n",
      "Test recall_macro: 0.8243838971016464\n",
      "\n",
      "Test recall_weighted: 0.9376936373629683\n",
      "\n",
      "Test f1_micro: 0.9376936373629683\n",
      "\n",
      "Test f1_macro: 0.818158262722285\n",
      "\n",
      "Test f1_weighted: 0.9388713072761263\n",
      "\n",
      "Epoch [22 / 30]\n",
      "\n"
     ]
    },
    {
     "name": "stderr",
     "output_type": "stream",
     "text": [
      "loop over train batches: 100%|██████████| 235/235 [01:14<00:00,  3.16it/s]\n"
     ]
    },
    {
     "name": "stdout",
     "output_type": "stream",
     "text": [
      "Train loss: 0.029864376799223272\n",
      "\n",
      "Train accuracy: 0.9971038555983371\n",
      "\n",
      "Train precision_micro: 0.9971038555983371\n",
      "\n",
      "Train precision_macro: 0.9850947306773628\n",
      "\n",
      "Train precision_weighted: 0.9972833441325266\n",
      "\n",
      "Train recall_micro: 0.9971038555983371\n",
      "\n",
      "Train recall_macro: 0.9899375842630145\n",
      "\n",
      "Train recall_weighted: 0.9971038555983371\n",
      "\n",
      "Train f1_micro: 0.9971038555983371\n",
      "\n",
      "Train f1_macro: 0.9867150712354044\n",
      "\n",
      "Train f1_weighted: 0.9971309193163173\n",
      "\n"
     ]
    },
    {
     "name": "stderr",
     "output_type": "stream",
     "text": [
      "loop over test batches: 100%|██████████| 3465/3465 [00:50<00:00, 68.91it/s]\n"
     ]
    },
    {
     "name": "stdout",
     "output_type": "stream",
     "text": [
      "Test loss:  0.2396213224971673\n",
      "\n",
      "Test accuracy: 0.9428308988640159\n",
      "\n",
      "Test precision_micro: 0.9428308988640159\n",
      "\n",
      "Test precision_macro: 0.8308478437335963\n",
      "\n",
      "Test precision_weighted: 0.9557848252441511\n",
      "\n",
      "Test recall_micro: 0.9428308988640159\n",
      "\n",
      "Test recall_macro: 0.8347193336338052\n",
      "\n",
      "Test recall_weighted: 0.9428308988640159\n",
      "\n",
      "Test f1_micro: 0.9428308988640159\n",
      "\n",
      "Test f1_macro: 0.8274058621161716\n",
      "\n",
      "Test f1_weighted: 0.9457579107608287\n",
      "\n",
      "Epoch [23 / 30]\n",
      "\n"
     ]
    },
    {
     "name": "stderr",
     "output_type": "stream",
     "text": [
      "loop over train batches: 100%|██████████| 235/235 [01:13<00:00,  3.18it/s]\n"
     ]
    },
    {
     "name": "stdout",
     "output_type": "stream",
     "text": [
      "Train loss: 0.02955594465453574\n",
      "\n",
      "Train accuracy: 0.9972234774202204\n",
      "\n",
      "Train precision_micro: 0.9972234774202204\n",
      "\n",
      "Train precision_macro: 0.9861186066628974\n",
      "\n",
      "Train precision_weighted: 0.9973879876830551\n",
      "\n",
      "Train recall_micro: 0.9972234774202204\n",
      "\n",
      "Train recall_macro: 0.9887383149264166\n",
      "\n",
      "Train recall_weighted: 0.9972234774202204\n",
      "\n",
      "Train f1_micro: 0.9972234774202204\n",
      "\n",
      "Train f1_macro: 0.9865230079597749\n",
      "\n",
      "Train f1_weighted: 0.9972413813428165\n",
      "\n"
     ]
    },
    {
     "name": "stderr",
     "output_type": "stream",
     "text": [
      "loop over test batches: 100%|██████████| 3465/3465 [00:51<00:00, 67.44it/s]\n"
     ]
    },
    {
     "name": "stdout",
     "output_type": "stream",
     "text": [
      "Test loss:  0.24365193074485783\n",
      "\n",
      "Test accuracy: 0.941908690782252\n",
      "\n",
      "Test precision_micro: 0.941908690782252\n",
      "\n",
      "Test precision_macro: 0.833931651124126\n",
      "\n",
      "Test precision_weighted: 0.9562971278419292\n",
      "\n",
      "Test recall_micro: 0.941908690782252\n",
      "\n",
      "Test recall_macro: 0.8369112920837704\n",
      "\n",
      "Test recall_weighted: 0.941908690782252\n",
      "\n",
      "Test f1_micro: 0.941908690782252\n",
      "\n",
      "Test f1_macro: 0.8303112875561902\n",
      "\n",
      "Test f1_weighted: 0.9456602512175494\n",
      "\n",
      "Epoch [24 / 30]\n",
      "\n"
     ]
    },
    {
     "name": "stderr",
     "output_type": "stream",
     "text": [
      "loop over train batches: 100%|██████████| 235/235 [01:13<00:00,  3.19it/s]\n"
     ]
    },
    {
     "name": "stdout",
     "output_type": "stream",
     "text": [
      "Train loss: 0.034959499262511094\n",
      "\n",
      "Train accuracy: 0.9967204478442317\n",
      "\n",
      "Train precision_micro: 0.9967204478442317\n",
      "\n",
      "Train precision_macro: 0.9830831673654996\n",
      "\n",
      "Train precision_weighted: 0.9969277432357743\n",
      "\n",
      "Train recall_micro: 0.9967204478442317\n",
      "\n",
      "Train recall_macro: 0.9879826170466072\n",
      "\n",
      "Train recall_weighted: 0.9967204478442317\n",
      "\n",
      "Train f1_micro: 0.9967204478442317\n",
      "\n",
      "Train f1_macro: 0.9845333668143937\n",
      "\n",
      "Train f1_weighted: 0.9967526808923067\n",
      "\n"
     ]
    },
    {
     "name": "stderr",
     "output_type": "stream",
     "text": [
      "loop over test batches: 100%|██████████| 3465/3465 [00:51<00:00, 66.72it/s]\n"
     ]
    },
    {
     "name": "stdout",
     "output_type": "stream",
     "text": [
      "Test loss:  0.2686223115655112\n",
      "\n",
      "Test accuracy: 0.9352899137171836\n",
      "\n",
      "Test precision_micro: 0.9352899137171836\n",
      "\n",
      "Test precision_macro: 0.8235311242487126\n",
      "\n",
      "Test precision_weighted: 0.9460329881556909\n",
      "\n",
      "Test recall_micro: 0.9352899137171836\n",
      "\n",
      "Test recall_macro: 0.8251229295015736\n",
      "\n",
      "Test recall_weighted: 0.9352899137171836\n",
      "\n",
      "Test f1_micro: 0.9352899137171836\n",
      "\n",
      "Test f1_macro: 0.8190647546293088\n",
      "\n",
      "Test f1_weighted: 0.9368611063430612\n",
      "\n",
      "Epoch [25 / 30]\n",
      "\n"
     ]
    },
    {
     "name": "stderr",
     "output_type": "stream",
     "text": [
      "loop over train batches: 100%|██████████| 235/235 [01:15<00:00,  3.10it/s]\n"
     ]
    },
    {
     "name": "stdout",
     "output_type": "stream",
     "text": [
      "Train loss: 0.031090928904434784\n",
      "\n",
      "Train accuracy: 0.996943331297182\n",
      "\n",
      "Train precision_micro: 0.996943331297182\n",
      "\n",
      "Train precision_macro: 0.9858425404456871\n",
      "\n",
      "Train precision_weighted: 0.9971050673622112\n",
      "\n",
      "Train recall_micro: 0.996943331297182\n",
      "\n",
      "Train recall_macro: 0.9888856491996433\n",
      "\n",
      "Train recall_weighted: 0.996943331297182\n",
      "\n",
      "Train f1_micro: 0.996943331297182\n",
      "\n",
      "Train f1_macro: 0.986453466183341\n",
      "\n",
      "Train f1_weighted: 0.9969586616378971\n",
      "\n"
     ]
    },
    {
     "name": "stderr",
     "output_type": "stream",
     "text": [
      "loop over test batches: 100%|██████████| 3465/3465 [00:51<00:00, 67.21it/s]\n"
     ]
    },
    {
     "name": "stdout",
     "output_type": "stream",
     "text": [
      "Test loss:  0.27183715777386924\n",
      "\n",
      "Test accuracy: 0.9398945052096168\n",
      "\n",
      "Test precision_micro: 0.9398945052096168\n",
      "\n",
      "Test precision_macro: 0.8369389454633879\n",
      "\n",
      "Test precision_weighted: 0.9548688778411035\n",
      "\n",
      "Test recall_micro: 0.9398945052096168\n",
      "\n",
      "Test recall_macro: 0.8360854018389059\n",
      "\n",
      "Test recall_weighted: 0.9398945052096168\n",
      "\n",
      "Test f1_micro: 0.9398945052096168\n",
      "\n",
      "Test f1_macro: 0.8309960558475513\n",
      "\n",
      "Test f1_weighted: 0.9433178244089279\n",
      "\n",
      "Epoch [26 / 30]\n",
      "\n"
     ]
    },
    {
     "name": "stderr",
     "output_type": "stream",
     "text": [
      "loop over train batches: 100%|██████████| 235/235 [01:14<00:00,  3.15it/s]\n"
     ]
    },
    {
     "name": "stdout",
     "output_type": "stream",
     "text": [
      "Train loss: 0.025764568746486242\n",
      "\n",
      "Train accuracy: 0.9975576086742451\n",
      "\n",
      "Train precision_micro: 0.9975576086742451\n",
      "\n",
      "Train precision_macro: 0.9883708215230982\n",
      "\n",
      "Train precision_weighted: 0.9976891804759641\n",
      "\n",
      "Train recall_micro: 0.9975576086742451\n",
      "\n",
      "Train recall_macro: 0.99121805924071\n",
      "\n",
      "Train recall_weighted: 0.9975576086742451\n",
      "\n",
      "Train f1_micro: 0.9975576086742451\n",
      "\n",
      "Train f1_macro: 0.9890317870276797\n",
      "\n",
      "Train f1_weighted: 0.9975682433963147\n",
      "\n"
     ]
    },
    {
     "name": "stderr",
     "output_type": "stream",
     "text": [
      "loop over test batches: 100%|██████████| 3465/3465 [00:51<00:00, 67.19it/s]\n"
     ]
    },
    {
     "name": "stdout",
     "output_type": "stream",
     "text": [
      "Test loss:  0.2679651686393828\n",
      "\n",
      "Test accuracy: 0.9429677228565475\n",
      "\n",
      "Test precision_micro: 0.9429677228565475\n",
      "\n",
      "Test precision_macro: 0.834661378040803\n",
      "\n",
      "Test precision_weighted: 0.9535932066005072\n",
      "\n",
      "Test recall_micro: 0.9429677228565475\n",
      "\n",
      "Test recall_macro: 0.8377981296276787\n",
      "\n",
      "Test recall_weighted: 0.9429677228565475\n",
      "\n",
      "Test f1_micro: 0.9429677228565475\n",
      "\n",
      "Test f1_macro: 0.8311463990352718\n",
      "\n",
      "Test f1_weighted: 0.9448741355821014\n",
      "\n",
      "Epoch [27 / 30]\n",
      "\n"
     ]
    },
    {
     "name": "stderr",
     "output_type": "stream",
     "text": [
      "loop over train batches: 100%|██████████| 235/235 [01:15<00:00,  3.09it/s]\n"
     ]
    },
    {
     "name": "stdout",
     "output_type": "stream",
     "text": [
      "Train loss: 0.026993284041577196\n",
      "\n",
      "Train accuracy: 0.9975157572524811\n",
      "\n",
      "Train precision_micro: 0.9975157572524811\n",
      "\n",
      "Train precision_macro: 0.9880811153207325\n",
      "\n",
      "Train precision_weighted: 0.9976490559366058\n",
      "\n",
      "Train recall_micro: 0.9975157572524811\n",
      "\n",
      "Train recall_macro: 0.9900261697818431\n",
      "\n",
      "Train recall_weighted: 0.9975157572524811\n",
      "\n",
      "Train f1_micro: 0.9975157572524811\n",
      "\n",
      "Train f1_macro: 0.9883421975654368\n",
      "\n",
      "Train f1_weighted: 0.9975291615686431\n",
      "\n"
     ]
    },
    {
     "name": "stderr",
     "output_type": "stream",
     "text": [
      "loop over test batches: 100%|██████████| 3465/3465 [00:51<00:00, 66.98it/s]\n"
     ]
    },
    {
     "name": "stdout",
     "output_type": "stream",
     "text": [
      "Test loss:  0.25616691515105094\n",
      "\n",
      "Test accuracy: 0.9444637002781554\n",
      "\n",
      "Test precision_micro: 0.9444637002781554\n",
      "\n",
      "Test precision_macro: 0.840301409733725\n",
      "\n",
      "Test precision_weighted: 0.9577484426044733\n",
      "\n",
      "Test recall_micro: 0.9444637002781554\n",
      "\n",
      "Test recall_macro: 0.8435526228996248\n",
      "\n",
      "Test recall_weighted: 0.9444637002781554\n",
      "\n",
      "Test f1_micro: 0.9444637002781554\n",
      "\n",
      "Test f1_macro: 0.8371391499133318\n",
      "\n",
      "Test f1_weighted: 0.9478957198648058\n",
      "\n",
      "Epoch [28 / 30]\n",
      "\n"
     ]
    },
    {
     "name": "stderr",
     "output_type": "stream",
     "text": [
      "loop over train batches: 100%|██████████| 235/235 [01:15<00:00,  3.11it/s]\n"
     ]
    },
    {
     "name": "stdout",
     "output_type": "stream",
     "text": [
      "Train loss: 0.029591879540895843\n",
      "\n",
      "Train accuracy: 0.9972531367715519\n",
      "\n",
      "Train precision_micro: 0.9972531367715519\n",
      "\n",
      "Train precision_macro: 0.9867544813558875\n",
      "\n",
      "Train precision_weighted: 0.9973953639055536\n",
      "\n",
      "Train recall_micro: 0.9972531367715519\n",
      "\n",
      "Train recall_macro: 0.9907073331220851\n",
      "\n",
      "Train recall_weighted: 0.9972531367715519\n",
      "\n",
      "Train f1_micro: 0.9972531367715519\n",
      "\n",
      "Train f1_macro: 0.9881356106103987\n",
      "\n",
      "Train f1_weighted: 0.9972696917608206\n",
      "\n"
     ]
    },
    {
     "name": "stderr",
     "output_type": "stream",
     "text": [
      "loop over test batches: 100%|██████████| 3465/3465 [00:51<00:00, 67.01it/s]\n"
     ]
    },
    {
     "name": "stdout",
     "output_type": "stream",
     "text": [
      "Test loss:  0.27177164506095314\n",
      "\n",
      "Test accuracy: 0.9367683547205404\n",
      "\n",
      "Test precision_micro: 0.9367683547205404\n",
      "\n",
      "Test precision_macro: 0.8230611060612633\n",
      "\n",
      "Test precision_weighted: 0.9466422907562747\n",
      "\n",
      "Test recall_micro: 0.9367683547205404\n",
      "\n",
      "Test recall_macro: 0.8260272023689603\n",
      "\n",
      "Test recall_weighted: 0.9367683547205404\n",
      "\n",
      "Test f1_micro: 0.9367683547205404\n",
      "\n",
      "Test f1_macro: 0.8191932859905652\n",
      "\n",
      "Test f1_weighted: 0.9379975587689151\n",
      "\n",
      "Epoch [29 / 30]\n",
      "\n"
     ]
    },
    {
     "name": "stderr",
     "output_type": "stream",
     "text": [
      "loop over train batches: 100%|██████████| 235/235 [01:15<00:00,  3.10it/s]\n"
     ]
    },
    {
     "name": "stdout",
     "output_type": "stream",
     "text": [
      "Train loss: 0.035784232749187565\n",
      "\n",
      "Train accuracy: 0.9966645301682808\n",
      "\n",
      "Train precision_micro: 0.9966645301682808\n",
      "\n",
      "Train precision_macro: 0.9818378132225457\n",
      "\n",
      "Train precision_weighted: 0.9968407975194853\n",
      "\n",
      "Train recall_micro: 0.9966645301682808\n",
      "\n",
      "Train recall_macro: 0.9853567440193535\n",
      "\n",
      "Train recall_weighted: 0.9966645301682808\n",
      "\n",
      "Train f1_micro: 0.9966645301682808\n",
      "\n",
      "Train f1_macro: 0.9824632220745139\n",
      "\n",
      "Train f1_weighted: 0.9966730350017458\n",
      "\n"
     ]
    },
    {
     "name": "stderr",
     "output_type": "stream",
     "text": [
      "loop over test batches: 100%|██████████| 3465/3465 [00:51<00:00, 66.97it/s]\n"
     ]
    },
    {
     "name": "stdout",
     "output_type": "stream",
     "text": [
      "Test loss:  0.2667888026879212\n",
      "\n",
      "Test accuracy: 0.9413158634352684\n",
      "\n",
      "Test precision_micro: 0.9413158634352684\n",
      "\n",
      "Test precision_macro: 0.8310082626960857\n",
      "\n",
      "Test precision_weighted: 0.9583809300167463\n",
      "\n",
      "Test recall_micro: 0.9413158634352684\n",
      "\n",
      "Test recall_macro: 0.8335315279920728\n",
      "\n",
      "Test recall_weighted: 0.9413158634352684\n",
      "\n",
      "Test f1_micro: 0.9413158634352684\n",
      "\n",
      "Test f1_macro: 0.827011286705762\n",
      "\n",
      "Test f1_weighted: 0.9461432955198583\n",
      "\n",
      "Epoch [30 / 30]\n",
      "\n"
     ]
    },
    {
     "name": "stderr",
     "output_type": "stream",
     "text": [
      "loop over train batches: 100%|██████████| 235/235 [01:17<00:00,  3.03it/s]\n"
     ]
    },
    {
     "name": "stdout",
     "output_type": "stream",
     "text": [
      "Train loss: 0.038044986166456275\n",
      "\n",
      "Train accuracy: 0.9959423631637833\n",
      "\n",
      "Train precision_micro: 0.9959423631637833\n",
      "\n",
      "Train precision_macro: 0.9792950208923815\n",
      "\n",
      "Train precision_weighted: 0.9961754153368438\n",
      "\n",
      "Train recall_micro: 0.9959423631637833\n",
      "\n",
      "Train recall_macro: 0.9838461366888279\n",
      "\n",
      "Train recall_weighted: 0.9959423631637833\n",
      "\n",
      "Train f1_micro: 0.9959423631637833\n",
      "\n",
      "Train f1_macro: 0.9802463270274956\n",
      "\n",
      "Train f1_weighted: 0.9959665426510738\n",
      "\n"
     ]
    },
    {
     "name": "stderr",
     "output_type": "stream",
     "text": [
      "loop over test batches: 100%|██████████| 3465/3465 [00:51<00:00, 67.02it/s]"
     ]
    },
    {
     "name": "stdout",
     "output_type": "stream",
     "text": [
      "Test loss:  0.24866064922778194\n",
      "\n",
      "Test accuracy: 0.9442938754502808\n",
      "\n",
      "Test precision_micro: 0.9442938754502808\n",
      "\n",
      "Test precision_macro: 0.8435509775170716\n",
      "\n",
      "Test precision_weighted: 0.9603001539862639\n",
      "\n",
      "Test recall_micro: 0.9442938754502808\n",
      "\n",
      "Test recall_macro: 0.8452238857581129\n",
      "\n",
      "Test recall_weighted: 0.9442938754502808\n",
      "\n",
      "Test f1_micro: 0.9442938754502808\n",
      "\n",
      "Test f1_macro: 0.8388774400147997\n",
      "\n",
      "Test f1_weighted: 0.9484623429486158\n",
      "\n"
     ]
    },
    {
     "name": "stderr",
     "output_type": "stream",
     "text": [
      "\n"
     ]
    }
   ],
   "source": [
    "# YOUR CODE HERE\n",
    "\n",
    "model = BiLSTMAttn(\n",
    "    num_embeddings=len(token2idx),\n",
    "    embedding_dim=100,\n",
    "    hidden_size=100,\n",
    "    num_heads=5,\n",
    "    num_layers=1,\n",
    "    dropout=0.0,\n",
    "    bidirectional=True,\n",
    "    n_classes=len(label2idx),\n",
    ").to(device)\n",
    "\n",
    "optimizer = torch.optim.Adam(model.parameters(), lr=1e-2)\n",
    "criterion = torch.nn.CrossEntropyLoss(ignore_index=-1)\n",
    "\n",
    "train(\n",
    "    n_epochs=30,\n",
    "    model=model,\n",
    "    train_dataloader=train_dataloader,\n",
    "    test_dataloader=valid_dataloader,\n",
    "    optimizer=optimizer,\n",
    "    criterion=criterion,\n",
    "    writer=writer,\n",
    "    device=device\n",
    ")"
   ]
  },
  {
   "cell_type": "code",
   "execution_count": 281,
   "metadata": {},
   "outputs": [
    {
     "name": "stderr",
     "output_type": "stream",
     "text": [
      "loop over test batches: 100%|██████████| 3683/3683 [00:50<00:00, 73.21it/s]"
     ]
    },
    {
     "name": "stdout",
     "output_type": "stream",
     "text": [
      "Test loss:  0.3860595983688913\n",
      "\n",
      "Test accuracy: 0.913907124077706\n",
      "\n",
      "Test precision_micro: 0.913907124077706\n",
      "\n",
      "Test precision_macro: 0.7930594455668198\n",
      "\n",
      "Test precision_weighted: 0.9348268606500798\n",
      "\n",
      "Test recall_micro: 0.913907124077706\n",
      "\n",
      "Test recall_macro: 0.792615705018836\n",
      "\n",
      "Test recall_weighted: 0.913907124077706\n",
      "\n",
      "Test f1_micro: 0.913907124077706\n",
      "\n",
      "Test f1_macro: 0.7869571943151509\n",
      "\n",
      "Test f1_weighted: 0.9194013660322837\n",
      "\n"
     ]
    },
    {
     "name": "stderr",
     "output_type": "stream",
     "text": [
      "\n"
     ]
    }
   ],
   "source": [
    "# тестируем модель\n",
    "\n",
    "evaluate_epoch(\n",
    "    model=model,\n",
    "    dataloader=test_dataloader,\n",
    "    criterion=criterion,\n",
    "    writer=writer,\n",
    "    device=device,\n",
    "    epoch=0,\n",
    ")"
   ]
  },
  {
   "cell_type": "markdown",
   "metadata": {},
   "source": [
    "Получилось:  \n",
    "    Train f1_macro: 0.9802463270274956  \n",
    "    Valid f1_macro: 0.8388774400147997  \n",
    "    Test f1_macro: 0.7869571943151509  \n",
    "Плюс минус то же самое и вышло, чтоб получить качество лучше, надо делать эксперименты и для той, и для этой модели, но мне лень поэтому вот такие вот результаты!   \n",
    "\n",
    "Надеюсь, это хорошее обоснование :)"
   ]
  }
 ],
 "metadata": {
  "accelerator": "GPU",
  "colab": {
   "collapsed_sections": [
    "4MIrbmNoQEMA"
   ],
   "provenance": []
  },
  "gpuClass": "standard",
  "kernelspec": {
   "display_name": "Python 3 (ipykernel)",
   "language": "python",
   "name": "python3"
  },
  "language_info": {
   "codemirror_mode": {
    "name": "ipython",
    "version": 3
   },
   "file_extension": ".py",
   "mimetype": "text/x-python",
   "name": "python",
   "nbconvert_exporter": "python",
   "pygments_lexer": "ipython3",
   "version": "3.8.8"
  },
  "vscode": {
   "interpreter": {
    "hash": "8d4ce941904148077feb793883e611d25d231ca995d9164b22ee99fd0facd8d1"
   }
  }
 },
 "nbformat": 4,
 "nbformat_minor": 1
}
